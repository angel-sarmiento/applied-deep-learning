{
 "cells": [
  {
   "cell_type": "markdown",
   "metadata": {},
   "source": [
    "# Introduction: Fully Connected Neural Networks\n",
    "# Angel Sarmiento\n",
    "\n",
    "\n",
    "## Typical steps for image classification using fully connected networks (FCNs)\n",
    "\n",
    "- **To get started Image Classification with tensorflow 2 **\n",
    "\n",
    "- Following steps were performed in order to achieve the end results and improve the accuracy :\n",
    "   - [x] Encoded the labels.\n",
    "   - [x] Understood neural networks.\n",
    "   - [x] Preprocessed image examples.\n",
    "   - [x] Created a neural network model.\n",
    "   - [x] Trained the model to fit the dataset.\n",
    "   - [x] Evaluated the model.\n",
    "   - [x] Visualized the predictions."
   ]
  },
  {
   "cell_type": "code",
   "execution_count": 1,
   "metadata": {
    "execution": {
     "iopub.execute_input": "2021-01-27T02:22:31.165375Z",
     "iopub.status.busy": "2021-01-27T02:22:31.164739Z",
     "iopub.status.idle": "2021-01-27T02:22:37.373933Z",
     "shell.execute_reply": "2021-01-27T02:22:37.373322Z"
    },
    "id": "0trJmd6DjqBZ"
   },
   "outputs": [],
   "source": [
    "import tensorflow as tf "
   ]
  },
  {
   "cell_type": "markdown",
   "metadata": {
    "id": "7NAbSZiaoJ4z"
   },
   "source": [
    "Load and prepare the [MNIST dataset](http://yann.lecun.com/exdb/mnist/). Convert the samples from integers to floating-point numbers:"
   ]
  },
  {
   "cell_type": "code",
   "execution_count": 2,
   "metadata": {
    "execution": {
     "iopub.execute_input": "2021-01-27T02:22:37.379364Z",
     "iopub.status.busy": "2021-01-27T02:22:37.378426Z",
     "iopub.status.idle": "2021-01-27T02:22:37.838749Z",
     "shell.execute_reply": "2021-01-27T02:22:37.838096Z"
    },
    "id": "7FP5258xjs-v"
   },
   "outputs": [
    {
     "output_type": "stream",
     "name": "stdout",
     "text": [
      "Downloading data from https://storage.googleapis.com/tensorflow/tf-keras-datasets/mnist.npz\n",
      "11493376/11490434 [==============================] - 2s 0us/step\n"
     ]
    }
   ],
   "source": [
    "(x_train, y_train), (x_test, y_test) = tf.keras.datasets.mnist.load_data()\n",
    "x_train, x_test = x_train / 255.0, x_test / 255.0"
   ]
  },
  {
   "cell_type": "code",
   "execution_count": 3,
   "metadata": {},
   "outputs": [
    {
     "output_type": "stream",
     "name": "stdout",
     "text": [
      "x_train shape:  (60000, 28, 28)\ny_train shape:  (60000,)\nx_test shape:  (10000, 28, 28)\ny_test shape:  (10000,)\n"
     ]
    }
   ],
   "source": [
    "print('x_train shape: ', x_train.shape)\n",
    "print('y_train shape: ', y_train.shape)\n",
    "print('x_test shape: ', x_test.shape)\n",
    "print('y_test shape: ', y_test.shape)"
   ]
  },
  {
   "cell_type": "code",
   "execution_count": 4,
   "metadata": {},
   "outputs": [
    {
     "output_type": "display_data",
     "data": {
      "text/plain": "<Figure size 432x288 with 1 Axes>",
      "image/svg+xml": "<?xml version=\"1.0\" encoding=\"utf-8\" standalone=\"no\"?>\n<!DOCTYPE svg PUBLIC \"-//W3C//DTD SVG 1.1//EN\"\n  \"http://www.w3.org/Graphics/SVG/1.1/DTD/svg11.dtd\">\n<!-- Created with matplotlib (https://matplotlib.org/) -->\n<svg height=\"248.518125pt\" version=\"1.1\" viewBox=\"0 0 251.565 248.518125\" width=\"251.565pt\" xmlns=\"http://www.w3.org/2000/svg\" xmlns:xlink=\"http://www.w3.org/1999/xlink\">\n <metadata>\n  <rdf:RDF xmlns:cc=\"http://creativecommons.org/ns#\" xmlns:dc=\"http://purl.org/dc/elements/1.1/\" xmlns:rdf=\"http://www.w3.org/1999/02/22-rdf-syntax-ns#\">\n   <cc:Work>\n    <dc:type rdf:resource=\"http://purl.org/dc/dcmitype/StillImage\"/>\n    <dc:date>2021-02-04T15:41:11.600063</dc:date>\n    <dc:format>image/svg+xml</dc:format>\n    <dc:creator>\n     <cc:Agent>\n      <dc:title>Matplotlib v3.3.3, https://matplotlib.org/</dc:title>\n     </cc:Agent>\n    </dc:creator>\n   </cc:Work>\n  </rdf:RDF>\n </metadata>\n <defs>\n  <style type=\"text/css\">*{stroke-linecap:butt;stroke-linejoin:round;}</style>\n </defs>\n <g id=\"figure_1\">\n  <g id=\"patch_1\">\n   <path d=\"M 0 248.518125 \nL 251.565 248.518125 \nL 251.565 0 \nL 0 0 \nz\n\" style=\"fill:none;\"/>\n  </g>\n  <g id=\"axes_1\">\n   <g id=\"patch_2\">\n    <path d=\"M 26.925 224.64 \nL 244.365 224.64 \nL 244.365 7.2 \nL 26.925 7.2 \nz\n\" style=\"fill:#ffffff;\"/>\n   </g>\n   <g clip-path=\"url(#p440d9ccb6a)\">\n    <image height=\"218\" id=\"image70a047c55e\" transform=\"scale(1 -1)translate(0 -218)\" width=\"218\" x=\"26.925\" xlink:href=\"data:image/png;base64,\niVBORw0KGgoAAAANSUhEUgAAANoAAADaCAYAAADAHVzbAAAFR0lEQVR4nO3dv0uVfRzGcZUaaohokcDQgsiCiojQFhHaImiqLaLFoD8jWoKGpsiQcPAPcFPQ1hpqaQiMaCtoC2roB9R55ofnuT8n85zrPp1er/Xizi/Ruxv8ome00+l0RoC+Gmv7APA3EBoECA0ChAYBQoMAoUGA0CBAaBAgNAgQGgQIDQKEBgFCgwChQYDQIEBoECA0CBAaBAgNAoQGAUKDAKFBwK62D8BgWV5eLvcbN26U+8LCQrkvLi5u90hDwRsNAoQGAUKDAKFBgNAgQGgQIDQIcI/Gv6ytrbV9hKHkjQYBQoMAoUGA0CBAaBAgNAgQGgQIDQKEBgFCgwChQYDQIEBoECA0CBAaBPh5NHrq/PnzbR9hIHmjQYDQIEBoECA0CBAaBAgNAoQGAe7R6KmxMf93/x9/KxAgNAgQGgQIDQKEBgFCgwDf3qenjh492vYRBpI3GgQIDQKEBgFCgwChQYDQIEBoECA0CBAaBAgNAoQGAUKDAKFBgNAgQGgQ4OfR6KnV1dVy/1s/1skbDQKEBgFCgwChQYDQIEBoECA0CBjtdDqdtr743bt3y/3p06ehk2zf5cuXy/3EiRON2+zsbK+P0zOPHj0q95s3b5b7kSNHyv3t27fbPtMw8EaDAKFBgNAgQGgQIDQIEBoE9PXb+7du3Sr3hw8flvv+/fvLfXJycrtH+mUvX74s925/bbt3727c9u7dWz57/Pjxcu92PXD27Nlyn5+fb9zGx8fLZycmJsr948eP5f79+/dyH1beaBAgNAgQGgQIDQKEBgFCgwChQUBff93cly9fyr3bXdTi4mK5X7lyZdtn+lXd7tF+/vxZ7k+ePGnc3r17Vz7b7a7p8ePH5b60tFTue/bsadxmZmbKZ79+/VruP378KPetra3GbXp6unz2T+aNBgFCgwChQYDQIEBoECA0CBAaBAz0xzYdOHCgta99+vTpHT1/5syZHp3kvx48eFDunz59Kvf19fXGbWVlpXz227dv5d7tfvHFixeNm3s0YEeEBgFCgwChQYDQIEBoECA0CBjoe7Tnz5+X+4ULF0In+bPs27ev3K9evfpb28jIyMi1a9fKvds93J07dxq3S5culc92+z2fg8wbDQKEBgFCgwChQYDQIEBoECA0COjrPdqxY8d29PyrV696dBJ65d69e+W+ublZ7q9fv27cPn/+XD7rHg0oCQ0ChAYBQoMAoUGA0CCgr9/ev3jxYrnfvn27n1+ePhgfHy/3qampcv/w4UPj9v79+/LZQ4cOlfsg80aDAKFBgNAgQGgQIDQIEBoECA0C+nqPdurUqXLvdifDn2cnP8qysbFR7rOzs7/9Z7fNGw0ChAYBQoMAoUGA0CBAaBAgNAho9WObxsZ0PmyWlpbKfWJionF78+ZNr48zMPxLhwChQYDQIEBoECA0CBAaBAgNAlq9R7t+/Xq5D/O9yrA6ePBguS8sLDRuz549K5/d2toq9+np6XJvkzcaBAgNAoQGAUKDAKFBgNAgQGgQ0Oo92vz8fLmfPHkycxB6ptvPGB4+fLhx6/b5aKOjo791pkHgjQYBQoMAoUGA0CBAaBAgNAho9dv7c3NzbX55WnDu3LnG7f79+7mDhHmjQYDQIEBoECA0CBAaBAgNAoQGAaOdTqfT9iFg2HmjQYDQIEBoECA0CBAaBAgNAoQGAUKDAKFBgNAgQGgQIDQIEBoECA0ChAYBQoMAoUGA0CBAaBAgNAgQGgQIDQKEBgFCgwChQYDQIEBoECA0CBAaBAgNAoQGAUKDAKFBgNAgQGgQIDQIEBoECA0C/gHaW6xftdkhaQAAAABJRU5ErkJggg==\" y=\"-6.64\"/>\n   </g>\n   <g id=\"matplotlib.axis_1\">\n    <g id=\"xtick_1\">\n     <g id=\"line2d_1\">\n      <defs>\n       <path d=\"M 0 0 \nL 0 3.5 \n\" id=\"m8d5c022a3e\" style=\"stroke:#000000;stroke-width:0.8;\"/>\n      </defs>\n      <g>\n       <use style=\"stroke:#000000;stroke-width:0.8;\" x=\"30.807857\" xlink:href=\"#m8d5c022a3e\" y=\"224.64\"/>\n      </g>\n     </g>\n     <g id=\"text_1\">\n      <!-- 0 -->\n      <g transform=\"translate(27.626607 239.238437)scale(0.1 -0.1)\">\n       <defs>\n        <path d=\"M 31.78125 66.40625 \nQ 24.171875 66.40625 20.328125 58.90625 \nQ 16.5 51.421875 16.5 36.375 \nQ 16.5 21.390625 20.328125 13.890625 \nQ 24.171875 6.390625 31.78125 6.390625 \nQ 39.453125 6.390625 43.28125 13.890625 \nQ 47.125 21.390625 47.125 36.375 \nQ 47.125 51.421875 43.28125 58.90625 \nQ 39.453125 66.40625 31.78125 66.40625 \nz\nM 31.78125 74.21875 \nQ 44.046875 74.21875 50.515625 64.515625 \nQ 56.984375 54.828125 56.984375 36.375 \nQ 56.984375 17.96875 50.515625 8.265625 \nQ 44.046875 -1.421875 31.78125 -1.421875 \nQ 19.53125 -1.421875 13.0625 8.265625 \nQ 6.59375 17.96875 6.59375 36.375 \nQ 6.59375 54.828125 13.0625 64.515625 \nQ 19.53125 74.21875 31.78125 74.21875 \nz\n\" id=\"DejaVuSans-48\"/>\n       </defs>\n       <use xlink:href=\"#DejaVuSans-48\"/>\n      </g>\n     </g>\n    </g>\n    <g id=\"xtick_2\">\n     <g id=\"line2d_2\">\n      <g>\n       <use style=\"stroke:#000000;stroke-width:0.8;\" x=\"69.636429\" xlink:href=\"#m8d5c022a3e\" y=\"224.64\"/>\n      </g>\n     </g>\n     <g id=\"text_2\">\n      <!-- 5 -->\n      <g transform=\"translate(66.455179 239.238437)scale(0.1 -0.1)\">\n       <defs>\n        <path d=\"M 10.796875 72.90625 \nL 49.515625 72.90625 \nL 49.515625 64.59375 \nL 19.828125 64.59375 \nL 19.828125 46.734375 \nQ 21.96875 47.46875 24.109375 47.828125 \nQ 26.265625 48.1875 28.421875 48.1875 \nQ 40.625 48.1875 47.75 41.5 \nQ 54.890625 34.8125 54.890625 23.390625 \nQ 54.890625 11.625 47.5625 5.09375 \nQ 40.234375 -1.421875 26.90625 -1.421875 \nQ 22.3125 -1.421875 17.546875 -0.640625 \nQ 12.796875 0.140625 7.71875 1.703125 \nL 7.71875 11.625 \nQ 12.109375 9.234375 16.796875 8.0625 \nQ 21.484375 6.890625 26.703125 6.890625 \nQ 35.15625 6.890625 40.078125 11.328125 \nQ 45.015625 15.765625 45.015625 23.390625 \nQ 45.015625 31 40.078125 35.4375 \nQ 35.15625 39.890625 26.703125 39.890625 \nQ 22.75 39.890625 18.8125 39.015625 \nQ 14.890625 38.140625 10.796875 36.28125 \nz\n\" id=\"DejaVuSans-53\"/>\n       </defs>\n       <use xlink:href=\"#DejaVuSans-53\"/>\n      </g>\n     </g>\n    </g>\n    <g id=\"xtick_3\">\n     <g id=\"line2d_3\">\n      <g>\n       <use style=\"stroke:#000000;stroke-width:0.8;\" x=\"108.465\" xlink:href=\"#m8d5c022a3e\" y=\"224.64\"/>\n      </g>\n     </g>\n     <g id=\"text_3\">\n      <!-- 10 -->\n      <g transform=\"translate(102.1025 239.238437)scale(0.1 -0.1)\">\n       <defs>\n        <path d=\"M 12.40625 8.296875 \nL 28.515625 8.296875 \nL 28.515625 63.921875 \nL 10.984375 60.40625 \nL 10.984375 69.390625 \nL 28.421875 72.90625 \nL 38.28125 72.90625 \nL 38.28125 8.296875 \nL 54.390625 8.296875 \nL 54.390625 0 \nL 12.40625 0 \nz\n\" id=\"DejaVuSans-49\"/>\n       </defs>\n       <use xlink:href=\"#DejaVuSans-49\"/>\n       <use x=\"63.623047\" xlink:href=\"#DejaVuSans-48\"/>\n      </g>\n     </g>\n    </g>\n    <g id=\"xtick_4\">\n     <g id=\"line2d_4\">\n      <g>\n       <use style=\"stroke:#000000;stroke-width:0.8;\" x=\"147.293571\" xlink:href=\"#m8d5c022a3e\" y=\"224.64\"/>\n      </g>\n     </g>\n     <g id=\"text_4\">\n      <!-- 15 -->\n      <g transform=\"translate(140.931071 239.238437)scale(0.1 -0.1)\">\n       <use xlink:href=\"#DejaVuSans-49\"/>\n       <use x=\"63.623047\" xlink:href=\"#DejaVuSans-53\"/>\n      </g>\n     </g>\n    </g>\n    <g id=\"xtick_5\">\n     <g id=\"line2d_5\">\n      <g>\n       <use style=\"stroke:#000000;stroke-width:0.8;\" x=\"186.122143\" xlink:href=\"#m8d5c022a3e\" y=\"224.64\"/>\n      </g>\n     </g>\n     <g id=\"text_5\">\n      <!-- 20 -->\n      <g transform=\"translate(179.759643 239.238437)scale(0.1 -0.1)\">\n       <defs>\n        <path d=\"M 19.1875 8.296875 \nL 53.609375 8.296875 \nL 53.609375 0 \nL 7.328125 0 \nL 7.328125 8.296875 \nQ 12.9375 14.109375 22.625 23.890625 \nQ 32.328125 33.6875 34.8125 36.53125 \nQ 39.546875 41.84375 41.421875 45.53125 \nQ 43.3125 49.21875 43.3125 52.78125 \nQ 43.3125 58.59375 39.234375 62.25 \nQ 35.15625 65.921875 28.609375 65.921875 \nQ 23.96875 65.921875 18.8125 64.3125 \nQ 13.671875 62.703125 7.8125 59.421875 \nL 7.8125 69.390625 \nQ 13.765625 71.78125 18.9375 73 \nQ 24.125 74.21875 28.421875 74.21875 \nQ 39.75 74.21875 46.484375 68.546875 \nQ 53.21875 62.890625 53.21875 53.421875 \nQ 53.21875 48.921875 51.53125 44.890625 \nQ 49.859375 40.875 45.40625 35.40625 \nQ 44.1875 33.984375 37.640625 27.21875 \nQ 31.109375 20.453125 19.1875 8.296875 \nz\n\" id=\"DejaVuSans-50\"/>\n       </defs>\n       <use xlink:href=\"#DejaVuSans-50\"/>\n       <use x=\"63.623047\" xlink:href=\"#DejaVuSans-48\"/>\n      </g>\n     </g>\n    </g>\n    <g id=\"xtick_6\">\n     <g id=\"line2d_6\">\n      <g>\n       <use style=\"stroke:#000000;stroke-width:0.8;\" x=\"224.950714\" xlink:href=\"#m8d5c022a3e\" y=\"224.64\"/>\n      </g>\n     </g>\n     <g id=\"text_6\">\n      <!-- 25 -->\n      <g transform=\"translate(218.588214 239.238437)scale(0.1 -0.1)\">\n       <use xlink:href=\"#DejaVuSans-50\"/>\n       <use x=\"63.623047\" xlink:href=\"#DejaVuSans-53\"/>\n      </g>\n     </g>\n    </g>\n   </g>\n   <g id=\"matplotlib.axis_2\">\n    <g id=\"ytick_1\">\n     <g id=\"line2d_7\">\n      <defs>\n       <path d=\"M 0 0 \nL -3.5 0 \n\" id=\"m4f0b015671\" style=\"stroke:#000000;stroke-width:0.8;\"/>\n      </defs>\n      <g>\n       <use style=\"stroke:#000000;stroke-width:0.8;\" x=\"26.925\" xlink:href=\"#m4f0b015671\" y=\"11.082857\"/>\n      </g>\n     </g>\n     <g id=\"text_7\">\n      <!-- 0 -->\n      <g transform=\"translate(13.5625 14.882076)scale(0.1 -0.1)\">\n       <use xlink:href=\"#DejaVuSans-48\"/>\n      </g>\n     </g>\n    </g>\n    <g id=\"ytick_2\">\n     <g id=\"line2d_8\">\n      <g>\n       <use style=\"stroke:#000000;stroke-width:0.8;\" x=\"26.925\" xlink:href=\"#m4f0b015671\" y=\"49.911429\"/>\n      </g>\n     </g>\n     <g id=\"text_8\">\n      <!-- 5 -->\n      <g transform=\"translate(13.5625 53.710647)scale(0.1 -0.1)\">\n       <use xlink:href=\"#DejaVuSans-53\"/>\n      </g>\n     </g>\n    </g>\n    <g id=\"ytick_3\">\n     <g id=\"line2d_9\">\n      <g>\n       <use style=\"stroke:#000000;stroke-width:0.8;\" x=\"26.925\" xlink:href=\"#m4f0b015671\" y=\"88.74\"/>\n      </g>\n     </g>\n     <g id=\"text_9\">\n      <!-- 10 -->\n      <g transform=\"translate(7.2 92.539219)scale(0.1 -0.1)\">\n       <use xlink:href=\"#DejaVuSans-49\"/>\n       <use x=\"63.623047\" xlink:href=\"#DejaVuSans-48\"/>\n      </g>\n     </g>\n    </g>\n    <g id=\"ytick_4\">\n     <g id=\"line2d_10\">\n      <g>\n       <use style=\"stroke:#000000;stroke-width:0.8;\" x=\"26.925\" xlink:href=\"#m4f0b015671\" y=\"127.568571\"/>\n      </g>\n     </g>\n     <g id=\"text_10\">\n      <!-- 15 -->\n      <g transform=\"translate(7.2 131.36779)scale(0.1 -0.1)\">\n       <use xlink:href=\"#DejaVuSans-49\"/>\n       <use x=\"63.623047\" xlink:href=\"#DejaVuSans-53\"/>\n      </g>\n     </g>\n    </g>\n    <g id=\"ytick_5\">\n     <g id=\"line2d_11\">\n      <g>\n       <use style=\"stroke:#000000;stroke-width:0.8;\" x=\"26.925\" xlink:href=\"#m4f0b015671\" y=\"166.397143\"/>\n      </g>\n     </g>\n     <g id=\"text_11\">\n      <!-- 20 -->\n      <g transform=\"translate(7.2 170.196362)scale(0.1 -0.1)\">\n       <use xlink:href=\"#DejaVuSans-50\"/>\n       <use x=\"63.623047\" xlink:href=\"#DejaVuSans-48\"/>\n      </g>\n     </g>\n    </g>\n    <g id=\"ytick_6\">\n     <g id=\"line2d_12\">\n      <g>\n       <use style=\"stroke:#000000;stroke-width:0.8;\" x=\"26.925\" xlink:href=\"#m4f0b015671\" y=\"205.225714\"/>\n      </g>\n     </g>\n     <g id=\"text_12\">\n      <!-- 25 -->\n      <g transform=\"translate(7.2 209.024933)scale(0.1 -0.1)\">\n       <use xlink:href=\"#DejaVuSans-50\"/>\n       <use x=\"63.623047\" xlink:href=\"#DejaVuSans-53\"/>\n      </g>\n     </g>\n    </g>\n   </g>\n   <g id=\"patch_3\">\n    <path d=\"M 26.925 224.64 \nL 26.925 7.2 \n\" style=\"fill:none;stroke:#000000;stroke-linecap:square;stroke-linejoin:miter;stroke-width:0.8;\"/>\n   </g>\n   <g id=\"patch_4\">\n    <path d=\"M 244.365 224.64 \nL 244.365 7.2 \n\" style=\"fill:none;stroke:#000000;stroke-linecap:square;stroke-linejoin:miter;stroke-width:0.8;\"/>\n   </g>\n   <g id=\"patch_5\">\n    <path d=\"M 26.925 224.64 \nL 244.365 224.64 \n\" style=\"fill:none;stroke:#000000;stroke-linecap:square;stroke-linejoin:miter;stroke-width:0.8;\"/>\n   </g>\n   <g id=\"patch_6\">\n    <path d=\"M 26.925 7.2 \nL 244.365 7.2 \n\" style=\"fill:none;stroke:#000000;stroke-linecap:square;stroke-linejoin:miter;stroke-width:0.8;\"/>\n   </g>\n  </g>\n </g>\n <defs>\n  <clipPath id=\"p440d9ccb6a\">\n   <rect height=\"217.44\" width=\"217.44\" x=\"26.925\" y=\"7.2\"/>\n  </clipPath>\n </defs>\n</svg>\n",
      "image/png": "[encoded data removed]"
     },
     "metadata": {
      "needs_background": "light"
     }
    }
   ],
   "source": [
    "import matplotlib.pyplot as plt\n",
    "%matplotlib inline\n",
    "\n",
    "plt.imshow(x_train[2], cmap = 'binary')\n",
    "plt.show()"
   ]
  },
  {
   "cell_type": "markdown",
   "metadata": {
    "id": "BPZ68wASog_I"
   },
   "source": [
    "Build the `tf.keras.Sequential` model by stacking layers. Choose an optimizer and loss function for training:"
   ]
  },
  {
   "cell_type": "code",
   "execution_count": 5,
   "metadata": {
    "execution": {
     "iopub.execute_input": "2021-01-27T02:22:37.844781Z",
     "iopub.status.busy": "2021-01-27T02:22:37.843714Z",
     "iopub.status.idle": "2021-01-27T02:22:46.880604Z",
     "shell.execute_reply": "2021-01-27T02:22:46.881017Z"
    },
    "id": "h3IKyzTCDNGo"
   },
   "outputs": [],
   "source": [
    "model = tf.keras.models.Sequential([\n",
    "  tf.keras.layers.Flatten(input_shape=(28, 28)),\n",
    "  tf.keras.layers.Dense(128, activation='relu'),\n",
    "  tf.keras.layers.Dropout(0.2),\n",
    "  tf.keras.layers.Dense(10)\n",
    "])"
   ]
  },
  {
   "cell_type": "markdown",
   "metadata": {
    "id": "l2hiez2eIUz8"
   },
   "source": [
    "For each example the model returns a vector of \"[logits](https://developers.google.com/machine-learning/glossary#logits)\" or \"[log-odds](https://developers.google.com/machine-learning/glossary#log-odds)\" scores, one for each class."
   ]
  },
  {
   "cell_type": "code",
   "execution_count": 6,
   "metadata": {
    "execution": {
     "iopub.execute_input": "2021-01-27T02:22:46.889938Z",
     "iopub.status.busy": "2021-01-27T02:22:46.888924Z",
     "iopub.status.idle": "2021-01-27T02:22:47.311748Z",
     "shell.execute_reply": "2021-01-27T02:22:47.312324Z"
    },
    "id": "OeOrNdnkEEcR"
   },
   "outputs": [
    {
     "output_type": "execute_result",
     "data": {
      "text/plain": [
       "array([[ 0.32718918,  0.3363179 ,  0.6077106 , -0.27276683,  0.50873816,\n",
       "        -0.39717093,  0.02770857, -0.17896482, -0.34886009, -0.21821922]],\n",
       "      dtype=float32)"
      ]
     },
     "metadata": {},
     "execution_count": 6
    }
   ],
   "source": [
    "predictions = model(x_train[:1]).numpy()\n",
    "predictions"
   ]
  },
  {
   "cell_type": "markdown",
   "metadata": {
    "id": "tgjhDQGcIniO"
   },
   "source": [
    "The `tf.nn.softmax` function converts these logits to \"probabilities\" for each class: "
   ]
  },
  {
   "cell_type": "code",
   "execution_count": 7,
   "metadata": {
    "execution": {
     "iopub.execute_input": "2021-01-27T02:22:47.317672Z",
     "iopub.status.busy": "2021-01-27T02:22:47.316571Z",
     "iopub.status.idle": "2021-01-27T02:22:47.320613Z",
     "shell.execute_reply": "2021-01-27T02:22:47.321064Z"
    },
    "id": "zWSRnQ0WI5eq"
   },
   "outputs": [
    {
     "output_type": "execute_result",
     "data": {
      "text/plain": [
       "array([[0.1250348 , 0.12618144, 0.16552356, 0.06862357, 0.14992589,\n",
       "        0.06059619, 0.09267619, 0.07537217, 0.06359551, 0.0724708 ]],\n",
       "      dtype=float32)"
      ]
     },
     "metadata": {},
     "execution_count": 7
    }
   ],
   "source": [
    "tf.nn.softmax(predictions).numpy()"
   ]
  },
  {
   "cell_type": "markdown",
   "metadata": {
    "id": "he5u_okAYS4a"
   },
   "source": [
    "Note: It is possible to bake this `tf.nn.softmax` in as the activation function for the last layer of the network. While this can make the model output more directly interpretable, this approach is discouraged as it's impossible to\n",
    "provide an exact and numerically stable loss calculation for all models when using a softmax output. "
   ]
  },
  {
   "cell_type": "markdown",
   "metadata": {
    "id": "hQyugpgRIyrA"
   },
   "source": [
    "The `losses.SparseCategoricalCrossentropy` loss takes a vector of logits and a `True` index and returns a scalar loss for each example."
   ]
  },
  {
   "cell_type": "code",
   "execution_count": 8,
   "metadata": {
    "execution": {
     "iopub.execute_input": "2021-01-27T02:22:47.326443Z",
     "iopub.status.busy": "2021-01-27T02:22:47.325323Z",
     "iopub.status.idle": "2021-01-27T02:22:47.328155Z",
     "shell.execute_reply": "2021-01-27T02:22:47.327614Z"
    },
    "id": "RSkzdv8MD0tT"
   },
   "outputs": [],
   "source": [
    "loss_fn = tf.keras.losses.SparseCategoricalCrossentropy(from_logits=True)"
   ]
  },
  {
   "cell_type": "markdown",
   "metadata": {
    "id": "SfR4MsSDU880"
   },
   "source": [
    "This loss is equal to the negative log probability of the true class:\n",
    "It is zero if the model is sure of the correct class.\n",
    "\n",
    "This untrained model gives probabilities close to random (1/10 for each class), so the initial loss should be close to `-tf.math.log(1/10) ~= 2.3`."
   ]
  },
  {
   "cell_type": "code",
   "execution_count": 9,
   "metadata": {
    "execution": {
     "iopub.execute_input": "2021-01-27T02:22:47.334018Z",
     "iopub.status.busy": "2021-01-27T02:22:47.332880Z",
     "iopub.status.idle": "2021-01-27T02:22:47.339363Z",
     "shell.execute_reply": "2021-01-27T02:22:47.339843Z"
    },
    "id": "NJWqEVrrJ7ZB"
   },
   "outputs": [
    {
     "output_type": "execute_result",
     "data": {
      "text/plain": [
       "2.8035233"
      ]
     },
     "metadata": {},
     "execution_count": 9
    }
   ],
   "source": [
    "loss_fn(y_train[:1], predictions).numpy()"
   ]
  },
  {
   "cell_type": "code",
   "execution_count": 10,
   "metadata": {
    "execution": {
     "iopub.execute_input": "2021-01-27T02:22:47.349430Z",
     "iopub.status.busy": "2021-01-27T02:22:47.348502Z",
     "iopub.status.idle": "2021-01-27T02:22:47.364666Z",
     "shell.execute_reply": "2021-01-27T02:22:47.364157Z"
    },
    "id": "9foNKHzTD2Vo"
   },
   "outputs": [],
   "source": [
    "model.compile(optimizer='adam',\n",
    "              loss=loss_fn,\n",
    "              metrics=['accuracy'])"
   ]
  },
  {
   "cell_type": "code",
   "execution_count": 11,
   "metadata": {},
   "outputs": [
    {
     "output_type": "stream",
     "name": "stdout",
     "text": [
      "Model: \"sequential\"\n_________________________________________________________________\nLayer (type)                 Output Shape              Param #   \n=================================================================\nflatten (Flatten)            (None, 784)               0         \n_________________________________________________________________\ndense (Dense)                (None, 128)               100480    \n_________________________________________________________________\ndropout (Dropout)            (None, 128)               0         \n_________________________________________________________________\ndense_1 (Dense)              (None, 10)                1290      \n=================================================================\nTotal params: 101,770\nTrainable params: 101,770\nNon-trainable params: 0\n_________________________________________________________________\n"
     ]
    }
   ],
   "source": [
    "model.summary()"
   ]
  },
  {
   "cell_type": "markdown",
   "metadata": {
    "id": "ix4mEL65on-w"
   },
   "source": [
    "The `Model.fit` method adjusts the model parameters to minimize the loss: "
   ]
  },
  {
   "cell_type": "code",
   "execution_count": 12,
   "metadata": {
    "execution": {
     "iopub.execute_input": "2021-01-27T02:22:47.369888Z",
     "iopub.status.busy": "2021-01-27T02:22:47.368635Z",
     "iopub.status.idle": "2021-01-27T02:23:02.490451Z",
     "shell.execute_reply": "2021-01-27T02:23:02.490856Z"
    },
    "id": "y7suUbJXVLqP"
   },
   "outputs": [
    {
     "output_type": "stream",
     "name": "stdout",
     "text": [
      "Epoch 1/5\n",
      "1875/1875 [==============================] - 5s 2ms/step - loss: 0.4885 - accuracy: 0.8571\n",
      "Epoch 2/5\n",
      "1875/1875 [==============================] - 5s 2ms/step - loss: 0.1500 - accuracy: 0.9553\n",
      "Epoch 3/5\n",
      "1875/1875 [==============================] - 5s 2ms/step - loss: 0.1055 - accuracy: 0.9667\n",
      "Epoch 4/5\n",
      "1875/1875 [==============================] - 5s 2ms/step - loss: 0.0835 - accuracy: 0.9740\n",
      "Epoch 5/5\n",
      "1875/1875 [==============================] - 7s 4ms/step - loss: 0.0731 - accuracy: 0.9770\n"
     ]
    },
    {
     "output_type": "execute_result",
     "data": {
      "text/plain": [
       "<tensorflow.python.keras.callbacks.History at 0x16962ecd0>"
      ]
     },
     "metadata": {},
     "execution_count": 12
    }
   ],
   "source": [
    "model.fit(x_train, y_train, epochs=5)"
   ]
  },
  {
   "cell_type": "markdown",
   "metadata": {
    "id": "4mDAAPFqVVgn"
   },
   "source": [
    "The `Model.evaluate` method checks the models performance, usually on a \"[Validation-set](https://developers.google.com/machine-learning/glossary#validation-set)\" or \"[Test-set](https://developers.google.com/machine-learning/glossary#test-set)\"."
   ]
  },
  {
   "cell_type": "code",
   "execution_count": 13,
   "metadata": {
    "execution": {
     "iopub.execute_input": "2021-01-27T02:23:02.496255Z",
     "iopub.status.busy": "2021-01-27T02:23:02.495021Z",
     "iopub.status.idle": "2021-01-27T02:23:03.037377Z",
     "shell.execute_reply": "2021-01-27T02:23:03.036860Z"
    },
    "id": "F7dTAzgHDUh7"
   },
   "outputs": [
    {
     "output_type": "stream",
     "name": "stdout",
     "text": [
      "313/313 - 1s - loss: 0.0717 - accuracy: 0.9784\n"
     ]
    },
    {
     "output_type": "execute_result",
     "data": {
      "text/plain": [
       "[0.07167226076126099, 0.9783999919891357]"
      ]
     },
     "metadata": {},
     "execution_count": 13
    }
   ],
   "source": [
    "model.evaluate(x_test,  y_test, verbose=2)"
   ]
  },
  {
   "cell_type": "markdown",
   "metadata": {
    "id": "T4JfEh7kvx6m"
   },
   "source": [
    "The image classifier is now trained to ~98% accuracy on this dataset. To learn more, read the [TensorFlow tutorials](https://www.tensorflow.org/tutorials/)."
   ]
  },
  {
   "cell_type": "markdown",
   "metadata": {
    "id": "Aj8NrlzlJqDG"
   },
   "source": [
    "If you want your model to return a probability, you can wrap the trained model, and attach the softmax to it:"
   ]
  },
  {
   "cell_type": "code",
   "execution_count": 14,
   "metadata": {
    "execution": {
     "iopub.execute_input": "2021-01-27T02:23:03.044680Z",
     "iopub.status.busy": "2021-01-27T02:23:03.044017Z",
     "iopub.status.idle": "2021-01-27T02:23:03.062428Z",
     "shell.execute_reply": "2021-01-27T02:23:03.061917Z"
    },
    "id": "rYb6DrEH0GMv"
   },
   "outputs": [],
   "source": [
    "probability_model = tf.keras.Sequential([\n",
    "  model,\n",
    "  tf.keras.layers.Softmax()\n",
    "])"
   ]
  },
  {
   "cell_type": "code",
   "execution_count": 15,
   "metadata": {
    "execution": {
     "iopub.execute_input": "2021-01-27T02:23:03.067513Z",
     "iopub.status.busy": "2021-01-27T02:23:03.066434Z",
     "iopub.status.idle": "2021-01-27T02:23:03.072553Z",
     "shell.execute_reply": "2021-01-27T02:23:03.073021Z"
    },
    "id": "cnqOZtUp1YR_"
   },
   "outputs": [
    {
     "output_type": "execute_result",
     "data": {
      "text/plain": [
       "<tf.Tensor: shape=(5, 10), dtype=float32, numpy=\n",
       "array([[1.59257834e-08, 3.23885523e-08, 1.37285826e-06, 1.67756371e-05,\n",
       "        4.70581430e-12, 4.80266010e-07, 2.32080999e-12, 9.99980569e-01,\n",
       "        1.09460796e-08, 6.83677058e-07],\n",
       "       [2.77949059e-08, 5.33293700e-04, 9.99450505e-01, 1.36902045e-05,\n",
       "        1.58246707e-13, 1.65945664e-06, 1.10025118e-08, 8.16563343e-13,\n",
       "        8.87634258e-07, 1.16758664e-12],\n",
       "       [2.47338363e-07, 9.99260843e-01, 7.96247114e-05, 1.18870037e-06,\n",
       "        9.29412909e-06, 7.07325762e-06, 1.33961555e-06, 5.17170934e-04,\n",
       "        1.21984333e-04, 1.15830835e-06],\n",
       "       [9.99870300e-01, 3.61756158e-09, 1.04198050e-04, 5.23777828e-07,\n",
       "        1.09369012e-08, 9.97793086e-06, 8.52670200e-06, 4.92941035e-06,\n",
       "        7.04575100e-08, 1.48942286e-06],\n",
       "       [3.04880609e-06, 5.14282172e-10, 1.52847479e-05, 1.23987348e-07,\n",
       "        9.88731802e-01, 1.29014765e-07, 8.06410696e-07, 5.13989071e-04,\n",
       "        4.03403618e-07, 1.07343886e-02]], dtype=float32)>"
      ]
     },
     "metadata": {},
     "execution_count": 15
    }
   ],
   "source": [
    "probability_model(x_test[:5])"
   ]
  },
  {
   "source": [
    "### Extra Questions:\n",
    "\n",
    "*Research about the Dropout layer in the TensorFlow 2 example.  Why the Tensor 2 standardize the data (divide by 255) while the version 1 normalize  (x -mean)/sdt ?.  Study every single step, and implement in PyTorch the second example (the one using TensorFlow 2).*\n",
    "\n",
    "\n",
    "The Dropout layer is used to prevent overfitting from the Dense layers, it essentially trains the model with random neurons activating while others are 'off'. The values need to be divided by 255 so that they are normalized and are all between 0 and 1. The number is specifically 255 because that is the number of values for greyscale values for pixels. This is so sigmoid-style functions do not have too negative values that would produce errors in later layers. "
   ],
   "cell_type": "markdown",
   "metadata": {}
  },
  {
   "source": [
    "# Pytorch Implementation\n",
    "\n"
   ],
   "cell_type": "markdown",
   "metadata": {}
  },
  {
   "cell_type": "code",
   "execution_count": 19,
   "metadata": {},
   "outputs": [],
   "source": [
    "import torch\n",
    "import torchvision\n",
    "from torchsummary import summary\n",
    "import os\n",
    "\n",
    "import torch.nn as nn\n",
    "import torch.nn.functional as F\n",
    "import torch.optim as optim\n",
    "\n",
    "import matplotlib.pyplot as plt\n",
    "%matplotlib inline"
   ]
  },
  {
   "cell_type": "code",
   "execution_count": 20,
   "metadata": {},
   "outputs": [
    {
     "output_type": "execute_result",
     "data": {
      "text/plain": [
       "<torch._C.Generator at 0x1044a4378>"
      ]
     },
     "metadata": {},
     "execution_count": 20
    }
   ],
   "source": [
    "# setting some parameters\n",
    "n_epochs = 3\n",
    "batch_size_train = 64\n",
    "batch_size_test = 1000\n",
    "learning_rate = 0.01\n",
    "momentum = 0.5\n",
    "log_interval = 10\n",
    "\n",
    "# seed for reproducability\n",
    "random_seed = 1\n",
    "torch.manual_seed(random_seed)"
   ]
  },
  {
   "cell_type": "code",
   "execution_count": 21,
   "metadata": {},
   "outputs": [],
   "source": [
    "# importing the data\n",
    "\n",
    "# training data\n",
    "train_loader = torch.utils.data.DataLoader(\n",
    "  torchvision.datasets.MNIST('~/.keras/datasets/', train=True, download=True,\n",
    "                             transform=torchvision.transforms.Compose([\n",
    "                               torchvision.transforms.ToTensor(),\n",
    "                               torchvision.transforms.Normalize(\n",
    "                                 (0.1307,), (0.3081,))\n",
    "                             ])),\n",
    "  batch_size=batch_size_train, shuffle=True)\n",
    "\n",
    "# testing data\n",
    "test_loader = torch.utils.data.DataLoader(\n",
    "  torchvision.datasets.MNIST('~/.keras/datasets/', train=False, download=True,\n",
    "                             transform=torchvision.transforms.Compose([\n",
    "                               torchvision.transforms.ToTensor(),\n",
    "                               torchvision.transforms.Normalize(\n",
    "                                 (0.1307,), (0.3081,))\n",
    "                             ])),\n",
    "  batch_size=batch_size_test, shuffle=True)"
   ]
  },
  {
   "cell_type": "code",
   "execution_count": 22,
   "metadata": {},
   "outputs": [],
   "source": [
    "#building the network \n",
    "# This is a structure I found online, it includes dropout layers as well as the dense layers included above. I think the two convolutional layers will help it perform better\n",
    "class Net(nn.Module):\n",
    "    def __init__(self):\n",
    "        super(Net, self).__init__()\n",
    "        self.conv1 = nn.Conv2d(1, 10, kernel_size=5)\n",
    "        self.conv2 = nn.Conv2d(10, 20, kernel_size=5)\n",
    "        self.conv2_drop = nn.Dropout2d()\n",
    "        self.fc1 = nn.Linear(320, 50)\n",
    "        self.fc2 = nn.Linear(50, 10)\n",
    "\n",
    "    # defining the forward step as a method\n",
    "    def forward(self, x):\n",
    "        # max pooling on the convolution layers\n",
    "        x = F.relu(F.max_pool2d(self.conv1(x), 2))\n",
    "        x = F.relu(F.max_pool2d(self.conv2_drop(self.conv2(x)), 2))\n",
    "        x = x.view(-1, 320)\n",
    "        x = F.relu(self.fc1(x))\n",
    "        x = F.dropout(x, training=self.training)\n",
    "        x = self.fc2(x)\n",
    "        return F.log_softmax(x)"
   ]
  },
  {
   "cell_type": "code",
   "execution_count": 23,
   "metadata": {},
   "outputs": [],
   "source": [
    "torch_net = Net()\n",
    "optimizer = optim.Adam(torch_net.parameters(), lr = learning_rate)"
   ]
  },
  {
   "cell_type": "code",
   "execution_count": 24,
   "metadata": {},
   "outputs": [
    {
     "output_type": "stream",
     "name": "stdout",
     "text": [
      "----------------------------------------------------------------\n        Layer (type)               Output Shape         Param #\n================================================================\n            Conv2d-1           [-1, 10, 24, 24]             260\n            Conv2d-2             [-1, 20, 8, 8]           5,020\n         Dropout2d-3             [-1, 20, 8, 8]               0\n            Linear-4                   [-1, 50]          16,050\n            Linear-5                   [-1, 10]             510\n================================================================\nTotal params: 21,840\nTrainable params: 21,840\nNon-trainable params: 0\n----------------------------------------------------------------\nInput size (MB): 0.00\nForward/backward pass size (MB): 0.06\nParams size (MB): 0.08\nEstimated Total Size (MB): 0.15\n----------------------------------------------------------------\n"
     ]
    }
   ],
   "source": [
    "summary(torch_net, (1, 28, 28))"
   ]
  },
  {
   "cell_type": "code",
   "execution_count": 25,
   "metadata": {},
   "outputs": [],
   "source": [
    "# creating lists for appending values to plot later\n",
    "train_losses = []\n",
    "train_counter = []\n",
    "test_losses = []\n",
    "test_counter = [i*len(train_loader.dataset) for i in range( n_epochs + 1)]"
   ]
  },
  {
   "cell_type": "code",
   "execution_count": 31,
   "metadata": {},
   "outputs": [
    {
     "output_type": "execute_result",
     "data": {
      "text/plain": [
       "range(0, 4)"
      ]
     },
     "metadata": {},
     "execution_count": 31
    }
   ],
   "source": []
  },
  {
   "cell_type": "code",
   "execution_count": 26,
   "metadata": {},
   "outputs": [],
   "source": [
    "# Training function \n",
    "def train(epoch):\n",
    "  torch_net.train()\n",
    "  for batch_idx, (data, target) in enumerate(train_loader):\n",
    "    # setting the gradient to zero \n",
    "    optimizer.zero_grad()\n",
    "    output = torch_net(data)\n",
    "\n",
    "    #calculating the loss using negative log likelihood\n",
    "    loss = F.nll_loss(output, target)\n",
    "\n",
    "    # moving backward and altering the parameters with the adam optimizer\n",
    "    loss.backward()\n",
    "    optimizer.step()\n",
    "\n",
    "    # every 10 batches\n",
    "    if batch_idx % log_interval == 0:\n",
    "        # using f strings to print loss and epoch/batch numbers\n",
    "      print('Train Epoch: {} [{}/{} ({:.0f}%)]\\tLoss: {:.6f}'.format(\n",
    "        epoch, batch_idx * len(data), len(train_loader.dataset),\n",
    "        100. * batch_idx / len(train_loader), loss.item()))\n",
    "\n",
    "        #appending the loss values to the list defined above\n",
    "      train_losses.append(loss.item())\n",
    "      train_counter.append(\n",
    "        (batch_idx*64) + ((epoch-1)*len(train_loader.dataset)))\n",
    "\n",
    "        # can save to a file, however lets not waste the space for the file submission\n",
    "      #torch.save(torch_net.state_dict(), '/results/model.pth')\n",
    "      #torch.save(optimizer.state_dict(), '/results/optimizer.pth')\n",
    "\n",
    "# function to get test set loss \n",
    "def test():\n",
    "  torch_net.eval()\n",
    "\n",
    "  test_loss = 0\n",
    "  correct = 0\n",
    "\n",
    "  with torch.no_grad():\n",
    "    for data, target in test_loader:\n",
    "      output = torch_net(data)\n",
    "      test_loss += F.nll_loss(output, target, size_average=False).item()\n",
    "      pred = output.data.max(1, keepdim=True)[1]\n",
    "      correct += pred.eq(target.data.view_as(pred)).sum()\n",
    "  test_loss /= len(test_loader.dataset)\n",
    "  test_losses.append(test_loss)\n",
    "\n",
    "  #another print statement to get the test loss\n",
    "  print('\\nTest set: Avg. loss: {:.4f}, Accuracy: {}/{} ({:.0f}%)\\n'.format(\n",
    "    test_loss, correct, len(test_loader.dataset),\n",
    "    100. * correct / len(test_loader.dataset)))"
   ]
  },
  {
   "cell_type": "code",
   "execution_count": 27,
   "metadata": {},
   "outputs": [
    {
     "output_type": "stream",
     "name": "stdout",
     "text": [
      "\n",
      "Test set: Avg. loss: 2.3316, Accuracy: 1137/10000 (11%)\n",
      "\n",
      "Train Epoch: 1 [0/60000 (0%)]\tLoss: 2.382142\n",
      "Train Epoch: 1 [640/60000 (1%)]\tLoss: 2.121723\n",
      "Train Epoch: 1 [1280/60000 (2%)]\tLoss: 1.614097\n",
      "Train Epoch: 1 [1920/60000 (3%)]\tLoss: 1.457011\n",
      "Train Epoch: 1 [2560/60000 (4%)]\tLoss: 1.516817\n",
      "Train Epoch: 1 [3200/60000 (5%)]\tLoss: 1.333079\n",
      "Train Epoch: 1 [3840/60000 (6%)]\tLoss: 1.151820\n",
      "Train Epoch: 1 [4480/60000 (7%)]\tLoss: 0.988950\n",
      "Train Epoch: 1 [5120/60000 (9%)]\tLoss: 0.922488\n",
      "Train Epoch: 1 [5760/60000 (10%)]\tLoss: 1.313614\n",
      "Train Epoch: 1 [6400/60000 (11%)]\tLoss: 1.202865\n",
      "Train Epoch: 1 [7040/60000 (12%)]\tLoss: 0.882614\n",
      "Train Epoch: 1 [7680/60000 (13%)]\tLoss: 0.795777\n",
      "Train Epoch: 1 [8320/60000 (14%)]\tLoss: 1.127547\n",
      "Train Epoch: 1 [8960/60000 (15%)]\tLoss: 0.641486\n",
      "Train Epoch: 1 [9600/60000 (16%)]\tLoss: 1.083544\n",
      "Train Epoch: 1 [10240/60000 (17%)]\tLoss: 1.095578\n",
      "Train Epoch: 1 [10880/60000 (18%)]\tLoss: 0.922196\n",
      "Train Epoch: 1 [11520/60000 (19%)]\tLoss: 1.141478\n",
      "Train Epoch: 1 [12160/60000 (20%)]\tLoss: 0.916300\n",
      "Train Epoch: 1 [12800/60000 (21%)]\tLoss: 0.795036\n",
      "Train Epoch: 1 [13440/60000 (22%)]\tLoss: 0.969746\n",
      "Train Epoch: 1 [14080/60000 (23%)]\tLoss: 0.599737\n",
      "Train Epoch: 1 [14720/60000 (25%)]\tLoss: 0.826885\n",
      "Train Epoch: 1 [15360/60000 (26%)]\tLoss: 0.781411\n",
      "Train Epoch: 1 [16000/60000 (27%)]\tLoss: 0.970807\n",
      "Train Epoch: 1 [16640/60000 (28%)]\tLoss: 0.867233\n",
      "Train Epoch: 1 [17280/60000 (29%)]\tLoss: 1.225159\n",
      "Train Epoch: 1 [17920/60000 (30%)]\tLoss: 1.070868\n",
      "Train Epoch: 1 [18560/60000 (31%)]\tLoss: 1.080424\n",
      "Train Epoch: 1 [19200/60000 (32%)]\tLoss: 0.842309\n",
      "Train Epoch: 1 [19840/60000 (33%)]\tLoss: 0.881625\n",
      "Train Epoch: 1 [20480/60000 (34%)]\tLoss: 0.644528\n",
      "Train Epoch: 1 [21120/60000 (35%)]\tLoss: 1.054851\n",
      "Train Epoch: 1 [21760/60000 (36%)]\tLoss: 0.943019\n",
      "Train Epoch: 1 [22400/60000 (37%)]\tLoss: 0.677548\n",
      "Train Epoch: 1 [23040/60000 (38%)]\tLoss: 0.969269\n",
      "Train Epoch: 1 [23680/60000 (39%)]\tLoss: 0.915126\n",
      "Train Epoch: 1 [24320/60000 (41%)]\tLoss: 0.561569\n",
      "Train Epoch: 1 [24960/60000 (42%)]\tLoss: 0.598353\n",
      "Train Epoch: 1 [25600/60000 (43%)]\tLoss: 0.812609\n",
      "Train Epoch: 1 [26240/60000 (44%)]\tLoss: 0.617592\n",
      "Train Epoch: 1 [26880/60000 (45%)]\tLoss: 0.653769\n",
      "Train Epoch: 1 [27520/60000 (46%)]\tLoss: 0.802068\n",
      "Train Epoch: 1 [28160/60000 (47%)]\tLoss: 0.743960\n",
      "Train Epoch: 1 [28800/60000 (48%)]\tLoss: 1.017894\n",
      "Train Epoch: 1 [29440/60000 (49%)]\tLoss: 1.143635\n",
      "Train Epoch: 1 [30080/60000 (50%)]\tLoss: 0.813792\n",
      "Train Epoch: 1 [30720/60000 (51%)]\tLoss: 0.936778\n",
      "Train Epoch: 1 [31360/60000 (52%)]\tLoss: 0.911434\n",
      "Train Epoch: 1 [32000/60000 (53%)]\tLoss: 0.782685\n",
      "Train Epoch: 1 [32640/60000 (54%)]\tLoss: 0.550362\n",
      "Train Epoch: 1 [33280/60000 (55%)]\tLoss: 0.680991\n",
      "Train Epoch: 1 [33920/60000 (57%)]\tLoss: 0.564299\n",
      "Train Epoch: 1 [34560/60000 (58%)]\tLoss: 1.000452\n",
      "Train Epoch: 1 [35200/60000 (59%)]\tLoss: 0.623784\n",
      "Train Epoch: 1 [35840/60000 (60%)]\tLoss: 0.807611\n",
      "Train Epoch: 1 [36480/60000 (61%)]\tLoss: 0.628987\n",
      "Train Epoch: 1 [37120/60000 (62%)]\tLoss: 0.807964\n",
      "Train Epoch: 1 [37760/60000 (63%)]\tLoss: 0.821872\n",
      "Train Epoch: 1 [38400/60000 (64%)]\tLoss: 1.002323\n",
      "Train Epoch: 1 [39040/60000 (65%)]\tLoss: 0.602925\n",
      "Train Epoch: 1 [39680/60000 (66%)]\tLoss: 0.339416\n",
      "Train Epoch: 1 [40320/60000 (67%)]\tLoss: 0.568563\n",
      "Train Epoch: 1 [40960/60000 (68%)]\tLoss: 0.360093\n",
      "Train Epoch: 1 [41600/60000 (69%)]\tLoss: 0.965707\n",
      "Train Epoch: 1 [42240/60000 (70%)]\tLoss: 0.613619\n",
      "Train Epoch: 1 [42880/60000 (71%)]\tLoss: 0.699292\n",
      "Train Epoch: 1 [43520/60000 (72%)]\tLoss: 0.984646\n",
      "Train Epoch: 1 [44160/60000 (74%)]\tLoss: 1.379233\n",
      "Train Epoch: 1 [44800/60000 (75%)]\tLoss: 0.484172\n",
      "Train Epoch: 1 [45440/60000 (76%)]\tLoss: 0.707766\n",
      "Train Epoch: 1 [46080/60000 (77%)]\tLoss: 0.835658\n",
      "Train Epoch: 1 [46720/60000 (78%)]\tLoss: 0.501183\n",
      "Train Epoch: 1 [47360/60000 (79%)]\tLoss: 0.579677\n",
      "Train Epoch: 1 [48000/60000 (80%)]\tLoss: 0.686154\n",
      "Train Epoch: 1 [48640/60000 (81%)]\tLoss: 1.024168\n",
      "Train Epoch: 1 [49280/60000 (82%)]\tLoss: 0.564078\n",
      "Train Epoch: 1 [49920/60000 (83%)]\tLoss: 0.691721\n",
      "Train Epoch: 1 [50560/60000 (84%)]\tLoss: 0.874546\n",
      "Train Epoch: 1 [51200/60000 (85%)]\tLoss: 0.827059\n",
      "Train Epoch: 1 [51840/60000 (86%)]\tLoss: 0.807373\n",
      "Train Epoch: 1 [52480/60000 (87%)]\tLoss: 0.548668\n",
      "Train Epoch: 1 [53120/60000 (88%)]\tLoss: 0.626990\n",
      "Train Epoch: 1 [53760/60000 (90%)]\tLoss: 0.818445\n",
      "Train Epoch: 1 [54400/60000 (91%)]\tLoss: 0.836190\n",
      "Train Epoch: 1 [55040/60000 (92%)]\tLoss: 0.384906\n",
      "Train Epoch: 1 [55680/60000 (93%)]\tLoss: 0.732884\n",
      "Train Epoch: 1 [56320/60000 (94%)]\tLoss: 0.526560\n",
      "Train Epoch: 1 [56960/60000 (95%)]\tLoss: 0.773934\n",
      "Train Epoch: 1 [57600/60000 (96%)]\tLoss: 0.577988\n",
      "Train Epoch: 1 [58240/60000 (97%)]\tLoss: 0.765066\n",
      "Train Epoch: 1 [58880/60000 (98%)]\tLoss: 0.614141\n",
      "Train Epoch: 1 [59520/60000 (99%)]\tLoss: 0.914727\n",
      "\n",
      "Test set: Avg. loss: 0.1606, Accuracy: 9574/10000 (96%)\n",
      "\n",
      "Train Epoch: 2 [0/60000 (0%)]\tLoss: 0.778980\n",
      "Train Epoch: 2 [640/60000 (1%)]\tLoss: 0.646062\n",
      "Train Epoch: 2 [1280/60000 (2%)]\tLoss: 0.593506\n",
      "Train Epoch: 2 [1920/60000 (3%)]\tLoss: 0.448044\n",
      "Train Epoch: 2 [2560/60000 (4%)]\tLoss: 0.549976\n",
      "Train Epoch: 2 [3200/60000 (5%)]\tLoss: 0.703420\n",
      "Train Epoch: 2 [3840/60000 (6%)]\tLoss: 0.579382\n",
      "Train Epoch: 2 [4480/60000 (7%)]\tLoss: 0.452094\n",
      "Train Epoch: 2 [5120/60000 (9%)]\tLoss: 0.415696\n",
      "Train Epoch: 2 [5760/60000 (10%)]\tLoss: 0.565264\n",
      "Train Epoch: 2 [6400/60000 (11%)]\tLoss: 0.492929\n",
      "Train Epoch: 2 [7040/60000 (12%)]\tLoss: 0.812723\n",
      "Train Epoch: 2 [7680/60000 (13%)]\tLoss: 0.397352\n",
      "Train Epoch: 2 [8320/60000 (14%)]\tLoss: 0.630915\n",
      "Train Epoch: 2 [8960/60000 (15%)]\tLoss: 0.679000\n",
      "Train Epoch: 2 [9600/60000 (16%)]\tLoss: 0.514956\n",
      "Train Epoch: 2 [10240/60000 (17%)]\tLoss: 0.598211\n",
      "Train Epoch: 2 [10880/60000 (18%)]\tLoss: 0.660545\n",
      "Train Epoch: 2 [11520/60000 (19%)]\tLoss: 0.620593\n",
      "Train Epoch: 2 [12160/60000 (20%)]\tLoss: 0.644589\n",
      "Train Epoch: 2 [12800/60000 (21%)]\tLoss: 0.418067\n",
      "Train Epoch: 2 [13440/60000 (22%)]\tLoss: 0.533199\n",
      "Train Epoch: 2 [14080/60000 (23%)]\tLoss: 0.594601\n",
      "Train Epoch: 2 [14720/60000 (25%)]\tLoss: 0.494159\n",
      "Train Epoch: 2 [15360/60000 (26%)]\tLoss: 0.494102\n",
      "Train Epoch: 2 [16000/60000 (27%)]\tLoss: 0.764401\n",
      "Train Epoch: 2 [16640/60000 (28%)]\tLoss: 0.520823\n",
      "Train Epoch: 2 [17280/60000 (29%)]\tLoss: 0.597773\n",
      "Train Epoch: 2 [17920/60000 (30%)]\tLoss: 0.716236\n",
      "Train Epoch: 2 [18560/60000 (31%)]\tLoss: 0.658585\n",
      "Train Epoch: 2 [19200/60000 (32%)]\tLoss: 0.712167\n",
      "Train Epoch: 2 [19840/60000 (33%)]\tLoss: 0.540527\n",
      "Train Epoch: 2 [20480/60000 (34%)]\tLoss: 0.549027\n",
      "Train Epoch: 2 [21120/60000 (35%)]\tLoss: 0.432315\n",
      "Train Epoch: 2 [21760/60000 (36%)]\tLoss: 0.427561\n",
      "Train Epoch: 2 [22400/60000 (37%)]\tLoss: 0.560573\n",
      "Train Epoch: 2 [23040/60000 (38%)]\tLoss: 0.615380\n",
      "Train Epoch: 2 [23680/60000 (39%)]\tLoss: 0.569251\n",
      "Train Epoch: 2 [24320/60000 (41%)]\tLoss: 0.480437\n",
      "Train Epoch: 2 [24960/60000 (42%)]\tLoss: 0.388011\n",
      "Train Epoch: 2 [25600/60000 (43%)]\tLoss: 0.342543\n",
      "Train Epoch: 2 [26240/60000 (44%)]\tLoss: 0.489671\n",
      "Train Epoch: 2 [26880/60000 (45%)]\tLoss: 0.709487\n",
      "Train Epoch: 2 [27520/60000 (46%)]\tLoss: 0.736565\n",
      "Train Epoch: 2 [28160/60000 (47%)]\tLoss: 0.644509\n",
      "Train Epoch: 2 [28800/60000 (48%)]\tLoss: 0.660112\n",
      "Train Epoch: 2 [29440/60000 (49%)]\tLoss: 1.021928\n",
      "Train Epoch: 2 [30080/60000 (50%)]\tLoss: 0.656313\n",
      "Train Epoch: 2 [30720/60000 (51%)]\tLoss: 0.573635\n",
      "Train Epoch: 2 [31360/60000 (52%)]\tLoss: 0.729515\n",
      "Train Epoch: 2 [32000/60000 (53%)]\tLoss: 0.663019\n",
      "Train Epoch: 2 [32640/60000 (54%)]\tLoss: 0.489678\n",
      "Train Epoch: 2 [33280/60000 (55%)]\tLoss: 0.569494\n",
      "Train Epoch: 2 [33920/60000 (57%)]\tLoss: 0.306746\n",
      "Train Epoch: 2 [34560/60000 (58%)]\tLoss: 0.598741\n",
      "Train Epoch: 2 [35200/60000 (59%)]\tLoss: 0.520850\n",
      "Train Epoch: 2 [35840/60000 (60%)]\tLoss: 0.599784\n",
      "Train Epoch: 2 [36480/60000 (61%)]\tLoss: 0.607090\n",
      "Train Epoch: 2 [37120/60000 (62%)]\tLoss: 0.678297\n",
      "Train Epoch: 2 [37760/60000 (63%)]\tLoss: 0.647545\n",
      "Train Epoch: 2 [38400/60000 (64%)]\tLoss: 0.613499\n",
      "Train Epoch: 2 [39040/60000 (65%)]\tLoss: 0.455548\n",
      "Train Epoch: 2 [39680/60000 (66%)]\tLoss: 0.586100\n",
      "Train Epoch: 2 [40320/60000 (67%)]\tLoss: 0.287576\n",
      "Train Epoch: 2 [40960/60000 (68%)]\tLoss: 0.680297\n",
      "Train Epoch: 2 [41600/60000 (69%)]\tLoss: 0.603934\n",
      "Train Epoch: 2 [42240/60000 (70%)]\tLoss: 0.583119\n",
      "Train Epoch: 2 [42880/60000 (71%)]\tLoss: 0.338443\n",
      "Train Epoch: 2 [43520/60000 (72%)]\tLoss: 0.539131\n",
      "Train Epoch: 2 [44160/60000 (74%)]\tLoss: 0.490062\n",
      "Train Epoch: 2 [44800/60000 (75%)]\tLoss: 0.943176\n",
      "Train Epoch: 2 [45440/60000 (76%)]\tLoss: 0.466404\n",
      "Train Epoch: 2 [46080/60000 (77%)]\tLoss: 0.773464\n",
      "Train Epoch: 2 [46720/60000 (78%)]\tLoss: 0.927069\n",
      "Train Epoch: 2 [47360/60000 (79%)]\tLoss: 0.533769\n",
      "Train Epoch: 2 [48000/60000 (80%)]\tLoss: 0.868136\n",
      "Train Epoch: 2 [48640/60000 (81%)]\tLoss: 0.493308\n",
      "Train Epoch: 2 [49280/60000 (82%)]\tLoss: 0.543043\n",
      "Train Epoch: 2 [49920/60000 (83%)]\tLoss: 0.523726\n",
      "Train Epoch: 2 [50560/60000 (84%)]\tLoss: 0.729195\n",
      "Train Epoch: 2 [51200/60000 (85%)]\tLoss: 0.582898\n",
      "Train Epoch: 2 [51840/60000 (86%)]\tLoss: 0.414622\n",
      "Train Epoch: 2 [52480/60000 (87%)]\tLoss: 0.486765\n",
      "Train Epoch: 2 [53120/60000 (88%)]\tLoss: 0.505083\n",
      "Train Epoch: 2 [53760/60000 (90%)]\tLoss: 0.419590\n",
      "Train Epoch: 2 [54400/60000 (91%)]\tLoss: 0.438148\n",
      "Train Epoch: 2 [55040/60000 (92%)]\tLoss: 0.500664\n",
      "Train Epoch: 2 [55680/60000 (93%)]\tLoss: 0.555748\n",
      "Train Epoch: 2 [56320/60000 (94%)]\tLoss: 0.450617\n",
      "Train Epoch: 2 [56960/60000 (95%)]\tLoss: 0.612999\n",
      "Train Epoch: 2 [57600/60000 (96%)]\tLoss: 0.249726\n",
      "Train Epoch: 2 [58240/60000 (97%)]\tLoss: 0.305622\n",
      "Train Epoch: 2 [58880/60000 (98%)]\tLoss: 0.316409\n",
      "Train Epoch: 2 [59520/60000 (99%)]\tLoss: 0.719217\n",
      "\n",
      "Test set: Avg. loss: 0.1555, Accuracy: 9531/10000 (95%)\n",
      "\n",
      "Train Epoch: 3 [0/60000 (0%)]\tLoss: 0.792347\n",
      "Train Epoch: 3 [640/60000 (1%)]\tLoss: 0.508104\n",
      "Train Epoch: 3 [1280/60000 (2%)]\tLoss: 0.425551\n",
      "Train Epoch: 3 [1920/60000 (3%)]\tLoss: 0.405058\n",
      "Train Epoch: 3 [2560/60000 (4%)]\tLoss: 0.450120\n",
      "Train Epoch: 3 [3200/60000 (5%)]\tLoss: 0.412743\n",
      "Train Epoch: 3 [3840/60000 (6%)]\tLoss: 0.540832\n",
      "Train Epoch: 3 [4480/60000 (7%)]\tLoss: 0.499168\n",
      "Train Epoch: 3 [5120/60000 (9%)]\tLoss: 0.655449\n",
      "Train Epoch: 3 [5760/60000 (10%)]\tLoss: 0.509125\n",
      "Train Epoch: 3 [6400/60000 (11%)]\tLoss: 0.499078\n",
      "Train Epoch: 3 [7040/60000 (12%)]\tLoss: 0.616990\n",
      "Train Epoch: 3 [7680/60000 (13%)]\tLoss: 0.493689\n",
      "Train Epoch: 3 [8320/60000 (14%)]\tLoss: 0.584086\n",
      "Train Epoch: 3 [8960/60000 (15%)]\tLoss: 0.705043\n",
      "Train Epoch: 3 [9600/60000 (16%)]\tLoss: 0.609964\n",
      "Train Epoch: 3 [10240/60000 (17%)]\tLoss: 0.334058\n",
      "Train Epoch: 3 [10880/60000 (18%)]\tLoss: 0.330338\n",
      "Train Epoch: 3 [11520/60000 (19%)]\tLoss: 0.552548\n",
      "Train Epoch: 3 [12160/60000 (20%)]\tLoss: 0.465140\n",
      "Train Epoch: 3 [12800/60000 (21%)]\tLoss: 0.477051\n",
      "Train Epoch: 3 [13440/60000 (22%)]\tLoss: 0.429160\n",
      "Train Epoch: 3 [14080/60000 (23%)]\tLoss: 0.602011\n",
      "Train Epoch: 3 [14720/60000 (25%)]\tLoss: 0.339244\n",
      "Train Epoch: 3 [15360/60000 (26%)]\tLoss: 0.408645\n",
      "Train Epoch: 3 [16000/60000 (27%)]\tLoss: 0.616165\n",
      "Train Epoch: 3 [16640/60000 (28%)]\tLoss: 0.686434\n",
      "Train Epoch: 3 [17280/60000 (29%)]\tLoss: 0.472774\n",
      "Train Epoch: 3 [17920/60000 (30%)]\tLoss: 0.636972\n",
      "Train Epoch: 3 [18560/60000 (31%)]\tLoss: 0.400528\n",
      "Train Epoch: 3 [19200/60000 (32%)]\tLoss: 0.297498\n",
      "Train Epoch: 3 [19840/60000 (33%)]\tLoss: 0.591592\n",
      "Train Epoch: 3 [20480/60000 (34%)]\tLoss: 0.488816\n",
      "Train Epoch: 3 [21120/60000 (35%)]\tLoss: 0.740496\n",
      "Train Epoch: 3 [21760/60000 (36%)]\tLoss: 0.717265\n",
      "Train Epoch: 3 [22400/60000 (37%)]\tLoss: 0.543367\n",
      "Train Epoch: 3 [23040/60000 (38%)]\tLoss: 0.875777\n",
      "Train Epoch: 3 [23680/60000 (39%)]\tLoss: 0.304167\n",
      "Train Epoch: 3 [24320/60000 (41%)]\tLoss: 0.487430\n",
      "Train Epoch: 3 [24960/60000 (42%)]\tLoss: 0.354080\n",
      "Train Epoch: 3 [25600/60000 (43%)]\tLoss: 0.510336\n",
      "Train Epoch: 3 [26240/60000 (44%)]\tLoss: 0.672158\n",
      "Train Epoch: 3 [26880/60000 (45%)]\tLoss: 0.782680\n",
      "Train Epoch: 3 [27520/60000 (46%)]\tLoss: 0.291290\n",
      "Train Epoch: 3 [28160/60000 (47%)]\tLoss: 0.411920\n",
      "Train Epoch: 3 [28800/60000 (48%)]\tLoss: 0.686670\n",
      "Train Epoch: 3 [29440/60000 (49%)]\tLoss: 0.469865\n",
      "Train Epoch: 3 [30080/60000 (50%)]\tLoss: 0.672678\n",
      "Train Epoch: 3 [30720/60000 (51%)]\tLoss: 0.727892\n",
      "Train Epoch: 3 [31360/60000 (52%)]\tLoss: 0.804999\n",
      "Train Epoch: 3 [32000/60000 (53%)]\tLoss: 0.749404\n",
      "Train Epoch: 3 [32640/60000 (54%)]\tLoss: 0.382341\n",
      "Train Epoch: 3 [33280/60000 (55%)]\tLoss: 0.765185\n",
      "Train Epoch: 3 [33920/60000 (57%)]\tLoss: 0.424369\n",
      "Train Epoch: 3 [34560/60000 (58%)]\tLoss: 0.422317\n",
      "Train Epoch: 3 [35200/60000 (59%)]\tLoss: 0.620438\n",
      "Train Epoch: 3 [35840/60000 (60%)]\tLoss: 0.673821\n",
      "Train Epoch: 3 [36480/60000 (61%)]\tLoss: 0.958289\n",
      "Train Epoch: 3 [37120/60000 (62%)]\tLoss: 0.968135\n",
      "Train Epoch: 3 [37760/60000 (63%)]\tLoss: 0.496572\n",
      "Train Epoch: 3 [38400/60000 (64%)]\tLoss: 0.592341\n",
      "Train Epoch: 3 [39040/60000 (65%)]\tLoss: 0.503325\n",
      "Train Epoch: 3 [39680/60000 (66%)]\tLoss: 0.606274\n",
      "Train Epoch: 3 [40320/60000 (67%)]\tLoss: 0.493435\n",
      "Train Epoch: 3 [40960/60000 (68%)]\tLoss: 0.465095\n",
      "Train Epoch: 3 [41600/60000 (69%)]\tLoss: 0.484926\n",
      "Train Epoch: 3 [42240/60000 (70%)]\tLoss: 0.568152\n",
      "Train Epoch: 3 [42880/60000 (71%)]\tLoss: 0.655933\n",
      "Train Epoch: 3 [43520/60000 (72%)]\tLoss: 0.609031\n",
      "Train Epoch: 3 [44160/60000 (74%)]\tLoss: 0.615545\n",
      "Train Epoch: 3 [44800/60000 (75%)]\tLoss: 0.845891\n",
      "Train Epoch: 3 [45440/60000 (76%)]\tLoss: 0.469331\n",
      "Train Epoch: 3 [46080/60000 (77%)]\tLoss: 0.970977\n",
      "Train Epoch: 3 [46720/60000 (78%)]\tLoss: 0.394417\n",
      "Train Epoch: 3 [47360/60000 (79%)]\tLoss: 0.363242\n",
      "Train Epoch: 3 [48000/60000 (80%)]\tLoss: 0.534548\n",
      "Train Epoch: 3 [48640/60000 (81%)]\tLoss: 0.428707\n",
      "Train Epoch: 3 [49280/60000 (82%)]\tLoss: 0.879629\n",
      "Train Epoch: 3 [49920/60000 (83%)]\tLoss: 0.391530\n",
      "Train Epoch: 3 [50560/60000 (84%)]\tLoss: 0.712451\n",
      "Train Epoch: 3 [51200/60000 (85%)]\tLoss: 0.630000\n",
      "Train Epoch: 3 [51840/60000 (86%)]\tLoss: 0.592872\n",
      "Train Epoch: 3 [52480/60000 (87%)]\tLoss: 0.850625\n",
      "Train Epoch: 3 [53120/60000 (88%)]\tLoss: 0.500211\n",
      "Train Epoch: 3 [53760/60000 (90%)]\tLoss: 0.400226\n",
      "Train Epoch: 3 [54400/60000 (91%)]\tLoss: 0.610013\n",
      "Train Epoch: 3 [55040/60000 (92%)]\tLoss: 0.566388\n",
      "Train Epoch: 3 [55680/60000 (93%)]\tLoss: 0.424458\n",
      "Train Epoch: 3 [56320/60000 (94%)]\tLoss: 0.649182\n",
      "Train Epoch: 3 [56960/60000 (95%)]\tLoss: 0.700737\n",
      "Train Epoch: 3 [57600/60000 (96%)]\tLoss: 0.560303\n",
      "Train Epoch: 3 [58240/60000 (97%)]\tLoss: 0.509568\n",
      "Train Epoch: 3 [58880/60000 (98%)]\tLoss: 0.476292\n",
      "Train Epoch: 3 [59520/60000 (99%)]\tLoss: 0.556978\n",
      "\n",
      "Test set: Avg. loss: 0.1357, Accuracy: 9606/10000 (96%)\n",
      "\n"
     ]
    }
   ],
   "source": [
    "from beepy import beep\n",
    "# evaluate the model with uninitialized parameters\n",
    "test()\n",
    "\n",
    "#loop to execute the model \n",
    "for epoch in range(1, n_epochs + 1):\n",
    "    train(epoch)\n",
    "    test()\n",
    "beep(sound = 'coin')"
   ]
  },
  {
   "cell_type": "code",
   "execution_count": 31,
   "metadata": {},
   "outputs": [
    {
     "output_type": "execute_result",
     "data": {
      "text/plain": [
       "<Figure size 432x288 with 1 Axes>"
      ],
      "image/svg+xml": "<?xml version=\"1.0\" encoding=\"utf-8\" standalone=\"no\"?>\n<!DOCTYPE svg PUBLIC \"-//W3C//DTD SVG 1.1//EN\"\n  \"http://www.w3.org/Graphics/SVG/1.1/DTD/svg11.dtd\">\n<!-- Created with matplotlib (https://matplotlib.org/) -->\n<svg height=\"262.19625pt\" version=\"1.1\" viewBox=\"0 0 385.78125 262.19625\" width=\"385.78125pt\" xmlns=\"http://www.w3.org/2000/svg\" xmlns:xlink=\"http://www.w3.org/1999/xlink\">\n <metadata>\n  <rdf:RDF xmlns:cc=\"http://creativecommons.org/ns#\" xmlns:dc=\"http://purl.org/dc/elements/1.1/\" xmlns:rdf=\"http://www.w3.org/1999/02/22-rdf-syntax-ns#\">\n   <cc:Work>\n    <dc:type rdf:resource=\"http://purl.org/dc/dcmitype/StillImage\"/>\n    <dc:date>2021-02-05T12:51:42.007790</dc:date>\n    <dc:format>image/svg+xml</dc:format>\n    <dc:creator>\n     <cc:Agent>\n      <dc:title>Matplotlib v3.3.3, https://matplotlib.org/</dc:title>\n     </cc:Agent>\n    </dc:creator>\n   </cc:Work>\n  </rdf:RDF>\n </metadata>\n <defs>\n  <style type=\"text/css\">*{stroke-linecap:butt;stroke-linejoin:round;}</style>\n </defs>\n <g id=\"figure_1\">\n  <g id=\"patch_1\">\n   <path d=\"M 0 262.19625 \nL 385.78125 262.19625 \nL 385.78125 0 \nL 0 0 \nz\n\" style=\"fill:none;\"/>\n  </g>\n  <g id=\"axes_1\">\n   <g id=\"patch_2\">\n    <path d=\"M 43.78125 224.64 \nL 378.58125 224.64 \nL 378.58125 7.2 \nL 43.78125 7.2 \nz\n\" style=\"fill:#ffffff;\"/>\n   </g>\n   <g id=\"PathCollection_1\">\n    <defs>\n     <path d=\"M 0 3 \nC 0.795609 3 1.55874 2.683901 2.12132 2.12132 \nC 2.683901 1.55874 3 0.795609 3 0 \nC 3 -0.795609 2.683901 -1.55874 2.12132 -2.12132 \nC 1.55874 -2.683901 0.795609 -3 0 -3 \nC -0.795609 -3 -1.55874 -2.683901 -2.12132 -2.12132 \nC -2.683901 -1.55874 -3 -0.795609 -3 0 \nC -3 0.795609 -2.683901 1.55874 -2.12132 2.12132 \nC -1.55874 2.683901 -0.795609 3 0 3 \nz\n\" id=\"m78d235768b\" style=\"stroke:#ff0000;\"/>\n    </defs>\n    <g clip-path=\"url(#p2e99537cf7)\">\n     <use style=\"fill:#ff0000;stroke:#ff0000;\" x=\"58.999432\" xlink:href=\"#m78d235768b\" y=\"21.527793\"/>\n     <use style=\"fill:#ff0000;stroke:#ff0000;\" x=\"160.453977\" xlink:href=\"#m78d235768b\" y=\"212.569541\"/>\n     <use style=\"fill:#ff0000;stroke:#ff0000;\" x=\"261.908523\" xlink:href=\"#m78d235768b\" y=\"213.017375\"/>\n     <use style=\"fill:#ff0000;stroke:#ff0000;\" x=\"363.363068\" xlink:href=\"#m78d235768b\" y=\"214.756364\"/>\n    </g>\n   </g>\n   <g id=\"matplotlib.axis_1\">\n    <g id=\"xtick_1\">\n     <g id=\"line2d_1\">\n      <defs>\n       <path d=\"M 0 0 \nL 0 3.5 \n\" id=\"m66513cee4d\" style=\"stroke:#000000;stroke-width:0.8;\"/>\n      </defs>\n      <g>\n       <use style=\"stroke:#000000;stroke-width:0.8;\" x=\"58.999432\" xlink:href=\"#m66513cee4d\" y=\"224.64\"/>\n      </g>\n     </g>\n     <g id=\"text_1\">\n      <!-- 0 -->\n      <g transform=\"translate(55.818182 239.238437)scale(0.1 -0.1)\">\n       <defs>\n        <path d=\"M 31.78125 66.40625 \nQ 24.171875 66.40625 20.328125 58.90625 \nQ 16.5 51.421875 16.5 36.375 \nQ 16.5 21.390625 20.328125 13.890625 \nQ 24.171875 6.390625 31.78125 6.390625 \nQ 39.453125 6.390625 43.28125 13.890625 \nQ 47.125 21.390625 47.125 36.375 \nQ 47.125 51.421875 43.28125 58.90625 \nQ 39.453125 66.40625 31.78125 66.40625 \nz\nM 31.78125 74.21875 \nQ 44.046875 74.21875 50.515625 64.515625 \nQ 56.984375 54.828125 56.984375 36.375 \nQ 56.984375 17.96875 50.515625 8.265625 \nQ 44.046875 -1.421875 31.78125 -1.421875 \nQ 19.53125 -1.421875 13.0625 8.265625 \nQ 6.59375 17.96875 6.59375 36.375 \nQ 6.59375 54.828125 13.0625 64.515625 \nQ 19.53125 74.21875 31.78125 74.21875 \nz\n\" id=\"DejaVuSans-48\"/>\n       </defs>\n       <use xlink:href=\"#DejaVuSans-48\"/>\n      </g>\n     </g>\n    </g>\n    <g id=\"xtick_2\">\n     <g id=\"line2d_2\">\n      <g>\n       <use style=\"stroke:#000000;stroke-width:0.8;\" x=\"101.272159\" xlink:href=\"#m66513cee4d\" y=\"224.64\"/>\n      </g>\n     </g>\n     <g id=\"text_2\">\n      <!-- 25000 -->\n      <g transform=\"translate(85.365909 239.238437)scale(0.1 -0.1)\">\n       <defs>\n        <path d=\"M 19.1875 8.296875 \nL 53.609375 8.296875 \nL 53.609375 0 \nL 7.328125 0 \nL 7.328125 8.296875 \nQ 12.9375 14.109375 22.625 23.890625 \nQ 32.328125 33.6875 34.8125 36.53125 \nQ 39.546875 41.84375 41.421875 45.53125 \nQ 43.3125 49.21875 43.3125 52.78125 \nQ 43.3125 58.59375 39.234375 62.25 \nQ 35.15625 65.921875 28.609375 65.921875 \nQ 23.96875 65.921875 18.8125 64.3125 \nQ 13.671875 62.703125 7.8125 59.421875 \nL 7.8125 69.390625 \nQ 13.765625 71.78125 18.9375 73 \nQ 24.125 74.21875 28.421875 74.21875 \nQ 39.75 74.21875 46.484375 68.546875 \nQ 53.21875 62.890625 53.21875 53.421875 \nQ 53.21875 48.921875 51.53125 44.890625 \nQ 49.859375 40.875 45.40625 35.40625 \nQ 44.1875 33.984375 37.640625 27.21875 \nQ 31.109375 20.453125 19.1875 8.296875 \nz\n\" id=\"DejaVuSans-50\"/>\n        <path d=\"M 10.796875 72.90625 \nL 49.515625 72.90625 \nL 49.515625 64.59375 \nL 19.828125 64.59375 \nL 19.828125 46.734375 \nQ 21.96875 47.46875 24.109375 47.828125 \nQ 26.265625 48.1875 28.421875 48.1875 \nQ 40.625 48.1875 47.75 41.5 \nQ 54.890625 34.8125 54.890625 23.390625 \nQ 54.890625 11.625 47.5625 5.09375 \nQ 40.234375 -1.421875 26.90625 -1.421875 \nQ 22.3125 -1.421875 17.546875 -0.640625 \nQ 12.796875 0.140625 7.71875 1.703125 \nL 7.71875 11.625 \nQ 12.109375 9.234375 16.796875 8.0625 \nQ 21.484375 6.890625 26.703125 6.890625 \nQ 35.15625 6.890625 40.078125 11.328125 \nQ 45.015625 15.765625 45.015625 23.390625 \nQ 45.015625 31 40.078125 35.4375 \nQ 35.15625 39.890625 26.703125 39.890625 \nQ 22.75 39.890625 18.8125 39.015625 \nQ 14.890625 38.140625 10.796875 36.28125 \nz\n\" id=\"DejaVuSans-53\"/>\n       </defs>\n       <use xlink:href=\"#DejaVuSans-50\"/>\n       <use x=\"63.623047\" xlink:href=\"#DejaVuSans-53\"/>\n       <use x=\"127.246094\" xlink:href=\"#DejaVuSans-48\"/>\n       <use x=\"190.869141\" xlink:href=\"#DejaVuSans-48\"/>\n       <use x=\"254.492188\" xlink:href=\"#DejaVuSans-48\"/>\n      </g>\n     </g>\n    </g>\n    <g id=\"xtick_3\">\n     <g id=\"line2d_3\">\n      <g>\n       <use style=\"stroke:#000000;stroke-width:0.8;\" x=\"143.544886\" xlink:href=\"#m66513cee4d\" y=\"224.64\"/>\n      </g>\n     </g>\n     <g id=\"text_3\">\n      <!-- 50000 -->\n      <g transform=\"translate(127.638636 239.238437)scale(0.1 -0.1)\">\n       <use xlink:href=\"#DejaVuSans-53\"/>\n       <use x=\"63.623047\" xlink:href=\"#DejaVuSans-48\"/>\n       <use x=\"127.246094\" xlink:href=\"#DejaVuSans-48\"/>\n       <use x=\"190.869141\" xlink:href=\"#DejaVuSans-48\"/>\n       <use x=\"254.492188\" xlink:href=\"#DejaVuSans-48\"/>\n      </g>\n     </g>\n    </g>\n    <g id=\"xtick_4\">\n     <g id=\"line2d_4\">\n      <g>\n       <use style=\"stroke:#000000;stroke-width:0.8;\" x=\"185.817614\" xlink:href=\"#m66513cee4d\" y=\"224.64\"/>\n      </g>\n     </g>\n     <g id=\"text_4\">\n      <!-- 75000 -->\n      <g transform=\"translate(169.911364 239.238437)scale(0.1 -0.1)\">\n       <defs>\n        <path d=\"M 8.203125 72.90625 \nL 55.078125 72.90625 \nL 55.078125 68.703125 \nL 28.609375 0 \nL 18.3125 0 \nL 43.21875 64.59375 \nL 8.203125 64.59375 \nz\n\" id=\"DejaVuSans-55\"/>\n       </defs>\n       <use xlink:href=\"#DejaVuSans-55\"/>\n       <use x=\"63.623047\" xlink:href=\"#DejaVuSans-53\"/>\n       <use x=\"127.246094\" xlink:href=\"#DejaVuSans-48\"/>\n       <use x=\"190.869141\" xlink:href=\"#DejaVuSans-48\"/>\n       <use x=\"254.492188\" xlink:href=\"#DejaVuSans-48\"/>\n      </g>\n     </g>\n    </g>\n    <g id=\"xtick_5\">\n     <g id=\"line2d_5\">\n      <g>\n       <use style=\"stroke:#000000;stroke-width:0.8;\" x=\"228.090341\" xlink:href=\"#m66513cee4d\" y=\"224.64\"/>\n      </g>\n     </g>\n     <g id=\"text_5\">\n      <!-- 100000 -->\n      <g transform=\"translate(209.002841 239.238437)scale(0.1 -0.1)\">\n       <defs>\n        <path d=\"M 12.40625 8.296875 \nL 28.515625 8.296875 \nL 28.515625 63.921875 \nL 10.984375 60.40625 \nL 10.984375 69.390625 \nL 28.421875 72.90625 \nL 38.28125 72.90625 \nL 38.28125 8.296875 \nL 54.390625 8.296875 \nL 54.390625 0 \nL 12.40625 0 \nz\n\" id=\"DejaVuSans-49\"/>\n       </defs>\n       <use xlink:href=\"#DejaVuSans-49\"/>\n       <use x=\"63.623047\" xlink:href=\"#DejaVuSans-48\"/>\n       <use x=\"127.246094\" xlink:href=\"#DejaVuSans-48\"/>\n       <use x=\"190.869141\" xlink:href=\"#DejaVuSans-48\"/>\n       <use x=\"254.492188\" xlink:href=\"#DejaVuSans-48\"/>\n       <use x=\"318.115234\" xlink:href=\"#DejaVuSans-48\"/>\n      </g>\n     </g>\n    </g>\n    <g id=\"xtick_6\">\n     <g id=\"line2d_6\">\n      <g>\n       <use style=\"stroke:#000000;stroke-width:0.8;\" x=\"270.363068\" xlink:href=\"#m66513cee4d\" y=\"224.64\"/>\n      </g>\n     </g>\n     <g id=\"text_6\">\n      <!-- 125000 -->\n      <g transform=\"translate(251.275568 239.238437)scale(0.1 -0.1)\">\n       <use xlink:href=\"#DejaVuSans-49\"/>\n       <use x=\"63.623047\" xlink:href=\"#DejaVuSans-50\"/>\n       <use x=\"127.246094\" xlink:href=\"#DejaVuSans-53\"/>\n       <use x=\"190.869141\" xlink:href=\"#DejaVuSans-48\"/>\n       <use x=\"254.492188\" xlink:href=\"#DejaVuSans-48\"/>\n       <use x=\"318.115234\" xlink:href=\"#DejaVuSans-48\"/>\n      </g>\n     </g>\n    </g>\n    <g id=\"xtick_7\">\n     <g id=\"line2d_7\">\n      <g>\n       <use style=\"stroke:#000000;stroke-width:0.8;\" x=\"312.635795\" xlink:href=\"#m66513cee4d\" y=\"224.64\"/>\n      </g>\n     </g>\n     <g id=\"text_7\">\n      <!-- 150000 -->\n      <g transform=\"translate(293.548295 239.238437)scale(0.1 -0.1)\">\n       <use xlink:href=\"#DejaVuSans-49\"/>\n       <use x=\"63.623047\" xlink:href=\"#DejaVuSans-53\"/>\n       <use x=\"127.246094\" xlink:href=\"#DejaVuSans-48\"/>\n       <use x=\"190.869141\" xlink:href=\"#DejaVuSans-48\"/>\n       <use x=\"254.492188\" xlink:href=\"#DejaVuSans-48\"/>\n       <use x=\"318.115234\" xlink:href=\"#DejaVuSans-48\"/>\n      </g>\n     </g>\n    </g>\n    <g id=\"xtick_8\">\n     <g id=\"line2d_8\">\n      <g>\n       <use style=\"stroke:#000000;stroke-width:0.8;\" x=\"354.908523\" xlink:href=\"#m66513cee4d\" y=\"224.64\"/>\n      </g>\n     </g>\n     <g id=\"text_8\">\n      <!-- 175000 -->\n      <g transform=\"translate(335.821023 239.238437)scale(0.1 -0.1)\">\n       <use xlink:href=\"#DejaVuSans-49\"/>\n       <use x=\"63.623047\" xlink:href=\"#DejaVuSans-55\"/>\n       <use x=\"127.246094\" xlink:href=\"#DejaVuSans-53\"/>\n       <use x=\"190.869141\" xlink:href=\"#DejaVuSans-48\"/>\n       <use x=\"254.492188\" xlink:href=\"#DejaVuSans-48\"/>\n       <use x=\"318.115234\" xlink:href=\"#DejaVuSans-48\"/>\n      </g>\n     </g>\n    </g>\n    <g id=\"text_9\">\n     <!-- number of training examples seen -->\n     <g transform=\"translate(125.067969 252.916562)scale(0.1 -0.1)\">\n      <defs>\n       <path d=\"M 54.890625 33.015625 \nL 54.890625 0 \nL 45.90625 0 \nL 45.90625 32.71875 \nQ 45.90625 40.484375 42.875 44.328125 \nQ 39.84375 48.1875 33.796875 48.1875 \nQ 26.515625 48.1875 22.3125 43.546875 \nQ 18.109375 38.921875 18.109375 30.90625 \nL 18.109375 0 \nL 9.078125 0 \nL 9.078125 54.6875 \nL 18.109375 54.6875 \nL 18.109375 46.1875 \nQ 21.34375 51.125 25.703125 53.5625 \nQ 30.078125 56 35.796875 56 \nQ 45.21875 56 50.046875 50.171875 \nQ 54.890625 44.34375 54.890625 33.015625 \nz\n\" id=\"DejaVuSans-110\"/>\n       <path d=\"M 8.5 21.578125 \nL 8.5 54.6875 \nL 17.484375 54.6875 \nL 17.484375 21.921875 \nQ 17.484375 14.15625 20.5 10.265625 \nQ 23.53125 6.390625 29.59375 6.390625 \nQ 36.859375 6.390625 41.078125 11.03125 \nQ 45.3125 15.671875 45.3125 23.6875 \nL 45.3125 54.6875 \nL 54.296875 54.6875 \nL 54.296875 0 \nL 45.3125 0 \nL 45.3125 8.40625 \nQ 42.046875 3.421875 37.71875 1 \nQ 33.40625 -1.421875 27.6875 -1.421875 \nQ 18.265625 -1.421875 13.375 4.4375 \nQ 8.5 10.296875 8.5 21.578125 \nz\nM 31.109375 56 \nz\n\" id=\"DejaVuSans-117\"/>\n       <path d=\"M 52 44.1875 \nQ 55.375 50.25 60.0625 53.125 \nQ 64.75 56 71.09375 56 \nQ 79.640625 56 84.28125 50.015625 \nQ 88.921875 44.046875 88.921875 33.015625 \nL 88.921875 0 \nL 79.890625 0 \nL 79.890625 32.71875 \nQ 79.890625 40.578125 77.09375 44.375 \nQ 74.3125 48.1875 68.609375 48.1875 \nQ 61.625 48.1875 57.5625 43.546875 \nQ 53.515625 38.921875 53.515625 30.90625 \nL 53.515625 0 \nL 44.484375 0 \nL 44.484375 32.71875 \nQ 44.484375 40.625 41.703125 44.40625 \nQ 38.921875 48.1875 33.109375 48.1875 \nQ 26.21875 48.1875 22.15625 43.53125 \nQ 18.109375 38.875 18.109375 30.90625 \nL 18.109375 0 \nL 9.078125 0 \nL 9.078125 54.6875 \nL 18.109375 54.6875 \nL 18.109375 46.1875 \nQ 21.1875 51.21875 25.484375 53.609375 \nQ 29.78125 56 35.6875 56 \nQ 41.65625 56 45.828125 52.96875 \nQ 50 49.953125 52 44.1875 \nz\n\" id=\"DejaVuSans-109\"/>\n       <path d=\"M 48.6875 27.296875 \nQ 48.6875 37.203125 44.609375 42.84375 \nQ 40.53125 48.484375 33.40625 48.484375 \nQ 26.265625 48.484375 22.1875 42.84375 \nQ 18.109375 37.203125 18.109375 27.296875 \nQ 18.109375 17.390625 22.1875 11.75 \nQ 26.265625 6.109375 33.40625 6.109375 \nQ 40.53125 6.109375 44.609375 11.75 \nQ 48.6875 17.390625 48.6875 27.296875 \nz\nM 18.109375 46.390625 \nQ 20.953125 51.265625 25.265625 53.625 \nQ 29.59375 56 35.59375 56 \nQ 45.5625 56 51.78125 48.09375 \nQ 58.015625 40.1875 58.015625 27.296875 \nQ 58.015625 14.40625 51.78125 6.484375 \nQ 45.5625 -1.421875 35.59375 -1.421875 \nQ 29.59375 -1.421875 25.265625 0.953125 \nQ 20.953125 3.328125 18.109375 8.203125 \nL 18.109375 0 \nL 9.078125 0 \nL 9.078125 75.984375 \nL 18.109375 75.984375 \nz\n\" id=\"DejaVuSans-98\"/>\n       <path d=\"M 56.203125 29.59375 \nL 56.203125 25.203125 \nL 14.890625 25.203125 \nQ 15.484375 15.921875 20.484375 11.0625 \nQ 25.484375 6.203125 34.421875 6.203125 \nQ 39.59375 6.203125 44.453125 7.46875 \nQ 49.3125 8.734375 54.109375 11.28125 \nL 54.109375 2.78125 \nQ 49.265625 0.734375 44.1875 -0.34375 \nQ 39.109375 -1.421875 33.890625 -1.421875 \nQ 20.796875 -1.421875 13.15625 6.1875 \nQ 5.515625 13.8125 5.515625 26.8125 \nQ 5.515625 40.234375 12.765625 48.109375 \nQ 20.015625 56 32.328125 56 \nQ 43.359375 56 49.78125 48.890625 \nQ 56.203125 41.796875 56.203125 29.59375 \nz\nM 47.21875 32.234375 \nQ 47.125 39.59375 43.09375 43.984375 \nQ 39.0625 48.390625 32.421875 48.390625 \nQ 24.90625 48.390625 20.390625 44.140625 \nQ 15.875 39.890625 15.1875 32.171875 \nz\n\" id=\"DejaVuSans-101\"/>\n       <path d=\"M 41.109375 46.296875 \nQ 39.59375 47.171875 37.8125 47.578125 \nQ 36.03125 48 33.890625 48 \nQ 26.265625 48 22.1875 43.046875 \nQ 18.109375 38.09375 18.109375 28.8125 \nL 18.109375 0 \nL 9.078125 0 \nL 9.078125 54.6875 \nL 18.109375 54.6875 \nL 18.109375 46.1875 \nQ 20.953125 51.171875 25.484375 53.578125 \nQ 30.03125 56 36.53125 56 \nQ 37.453125 56 38.578125 55.875 \nQ 39.703125 55.765625 41.0625 55.515625 \nz\n\" id=\"DejaVuSans-114\"/>\n       <path id=\"DejaVuSans-32\"/>\n       <path d=\"M 30.609375 48.390625 \nQ 23.390625 48.390625 19.1875 42.75 \nQ 14.984375 37.109375 14.984375 27.296875 \nQ 14.984375 17.484375 19.15625 11.84375 \nQ 23.34375 6.203125 30.609375 6.203125 \nQ 37.796875 6.203125 41.984375 11.859375 \nQ 46.1875 17.53125 46.1875 27.296875 \nQ 46.1875 37.015625 41.984375 42.703125 \nQ 37.796875 48.390625 30.609375 48.390625 \nz\nM 30.609375 56 \nQ 42.328125 56 49.015625 48.375 \nQ 55.71875 40.765625 55.71875 27.296875 \nQ 55.71875 13.875 49.015625 6.21875 \nQ 42.328125 -1.421875 30.609375 -1.421875 \nQ 18.84375 -1.421875 12.171875 6.21875 \nQ 5.515625 13.875 5.515625 27.296875 \nQ 5.515625 40.765625 12.171875 48.375 \nQ 18.84375 56 30.609375 56 \nz\n\" id=\"DejaVuSans-111\"/>\n       <path d=\"M 37.109375 75.984375 \nL 37.109375 68.5 \nL 28.515625 68.5 \nQ 23.6875 68.5 21.796875 66.546875 \nQ 19.921875 64.59375 19.921875 59.515625 \nL 19.921875 54.6875 \nL 34.71875 54.6875 \nL 34.71875 47.703125 \nL 19.921875 47.703125 \nL 19.921875 0 \nL 10.890625 0 \nL 10.890625 47.703125 \nL 2.296875 47.703125 \nL 2.296875 54.6875 \nL 10.890625 54.6875 \nL 10.890625 58.5 \nQ 10.890625 67.625 15.140625 71.796875 \nQ 19.390625 75.984375 28.609375 75.984375 \nz\n\" id=\"DejaVuSans-102\"/>\n       <path d=\"M 18.3125 70.21875 \nL 18.3125 54.6875 \nL 36.8125 54.6875 \nL 36.8125 47.703125 \nL 18.3125 47.703125 \nL 18.3125 18.015625 \nQ 18.3125 11.328125 20.140625 9.421875 \nQ 21.96875 7.515625 27.59375 7.515625 \nL 36.8125 7.515625 \nL 36.8125 0 \nL 27.59375 0 \nQ 17.1875 0 13.234375 3.875 \nQ 9.28125 7.765625 9.28125 18.015625 \nL 9.28125 47.703125 \nL 2.6875 47.703125 \nL 2.6875 54.6875 \nL 9.28125 54.6875 \nL 9.28125 70.21875 \nz\n\" id=\"DejaVuSans-116\"/>\n       <path d=\"M 34.28125 27.484375 \nQ 23.390625 27.484375 19.1875 25 \nQ 14.984375 22.515625 14.984375 16.5 \nQ 14.984375 11.71875 18.140625 8.90625 \nQ 21.296875 6.109375 26.703125 6.109375 \nQ 34.1875 6.109375 38.703125 11.40625 \nQ 43.21875 16.703125 43.21875 25.484375 \nL 43.21875 27.484375 \nz\nM 52.203125 31.203125 \nL 52.203125 0 \nL 43.21875 0 \nL 43.21875 8.296875 \nQ 40.140625 3.328125 35.546875 0.953125 \nQ 30.953125 -1.421875 24.3125 -1.421875 \nQ 15.921875 -1.421875 10.953125 3.296875 \nQ 6 8.015625 6 15.921875 \nQ 6 25.140625 12.171875 29.828125 \nQ 18.359375 34.515625 30.609375 34.515625 \nL 43.21875 34.515625 \nL 43.21875 35.40625 \nQ 43.21875 41.609375 39.140625 45 \nQ 35.0625 48.390625 27.6875 48.390625 \nQ 23 48.390625 18.546875 47.265625 \nQ 14.109375 46.140625 10.015625 43.890625 \nL 10.015625 52.203125 \nQ 14.9375 54.109375 19.578125 55.046875 \nQ 24.21875 56 28.609375 56 \nQ 40.484375 56 46.34375 49.84375 \nQ 52.203125 43.703125 52.203125 31.203125 \nz\n\" id=\"DejaVuSans-97\"/>\n       <path d=\"M 9.421875 54.6875 \nL 18.40625 54.6875 \nL 18.40625 0 \nL 9.421875 0 \nz\nM 9.421875 75.984375 \nL 18.40625 75.984375 \nL 18.40625 64.59375 \nL 9.421875 64.59375 \nz\n\" id=\"DejaVuSans-105\"/>\n       <path d=\"M 45.40625 27.984375 \nQ 45.40625 37.75 41.375 43.109375 \nQ 37.359375 48.484375 30.078125 48.484375 \nQ 22.859375 48.484375 18.828125 43.109375 \nQ 14.796875 37.75 14.796875 27.984375 \nQ 14.796875 18.265625 18.828125 12.890625 \nQ 22.859375 7.515625 30.078125 7.515625 \nQ 37.359375 7.515625 41.375 12.890625 \nQ 45.40625 18.265625 45.40625 27.984375 \nz\nM 54.390625 6.78125 \nQ 54.390625 -7.171875 48.1875 -13.984375 \nQ 42 -20.796875 29.203125 -20.796875 \nQ 24.46875 -20.796875 20.265625 -20.09375 \nQ 16.0625 -19.390625 12.109375 -17.921875 \nL 12.109375 -9.1875 \nQ 16.0625 -11.328125 19.921875 -12.34375 \nQ 23.78125 -13.375 27.78125 -13.375 \nQ 36.625 -13.375 41.015625 -8.765625 \nQ 45.40625 -4.15625 45.40625 5.171875 \nL 45.40625 9.625 \nQ 42.625 4.78125 38.28125 2.390625 \nQ 33.9375 0 27.875 0 \nQ 17.828125 0 11.671875 7.65625 \nQ 5.515625 15.328125 5.515625 27.984375 \nQ 5.515625 40.671875 11.671875 48.328125 \nQ 17.828125 56 27.875 56 \nQ 33.9375 56 38.28125 53.609375 \nQ 42.625 51.21875 45.40625 46.390625 \nL 45.40625 54.6875 \nL 54.390625 54.6875 \nz\n\" id=\"DejaVuSans-103\"/>\n       <path d=\"M 54.890625 54.6875 \nL 35.109375 28.078125 \nL 55.90625 0 \nL 45.3125 0 \nL 29.390625 21.484375 \nL 13.484375 0 \nL 2.875 0 \nL 24.125 28.609375 \nL 4.6875 54.6875 \nL 15.28125 54.6875 \nL 29.78125 35.203125 \nL 44.28125 54.6875 \nz\n\" id=\"DejaVuSans-120\"/>\n       <path d=\"M 18.109375 8.203125 \nL 18.109375 -20.796875 \nL 9.078125 -20.796875 \nL 9.078125 54.6875 \nL 18.109375 54.6875 \nL 18.109375 46.390625 \nQ 20.953125 51.265625 25.265625 53.625 \nQ 29.59375 56 35.59375 56 \nQ 45.5625 56 51.78125 48.09375 \nQ 58.015625 40.1875 58.015625 27.296875 \nQ 58.015625 14.40625 51.78125 6.484375 \nQ 45.5625 -1.421875 35.59375 -1.421875 \nQ 29.59375 -1.421875 25.265625 0.953125 \nQ 20.953125 3.328125 18.109375 8.203125 \nz\nM 48.6875 27.296875 \nQ 48.6875 37.203125 44.609375 42.84375 \nQ 40.53125 48.484375 33.40625 48.484375 \nQ 26.265625 48.484375 22.1875 42.84375 \nQ 18.109375 37.203125 18.109375 27.296875 \nQ 18.109375 17.390625 22.1875 11.75 \nQ 26.265625 6.109375 33.40625 6.109375 \nQ 40.53125 6.109375 44.609375 11.75 \nQ 48.6875 17.390625 48.6875 27.296875 \nz\n\" id=\"DejaVuSans-112\"/>\n       <path d=\"M 9.421875 75.984375 \nL 18.40625 75.984375 \nL 18.40625 0 \nL 9.421875 0 \nz\n\" id=\"DejaVuSans-108\"/>\n       <path d=\"M 44.28125 53.078125 \nL 44.28125 44.578125 \nQ 40.484375 46.53125 36.375 47.5 \nQ 32.28125 48.484375 27.875 48.484375 \nQ 21.1875 48.484375 17.84375 46.4375 \nQ 14.5 44.390625 14.5 40.28125 \nQ 14.5 37.15625 16.890625 35.375 \nQ 19.28125 33.59375 26.515625 31.984375 \nL 29.59375 31.296875 \nQ 39.15625 29.25 43.1875 25.515625 \nQ 47.21875 21.78125 47.21875 15.09375 \nQ 47.21875 7.46875 41.1875 3.015625 \nQ 35.15625 -1.421875 24.609375 -1.421875 \nQ 20.21875 -1.421875 15.453125 -0.5625 \nQ 10.6875 0.296875 5.421875 2 \nL 5.421875 11.28125 \nQ 10.40625 8.6875 15.234375 7.390625 \nQ 20.0625 6.109375 24.8125 6.109375 \nQ 31.15625 6.109375 34.5625 8.28125 \nQ 37.984375 10.453125 37.984375 14.40625 \nQ 37.984375 18.0625 35.515625 20.015625 \nQ 33.0625 21.96875 24.703125 23.78125 \nL 21.578125 24.515625 \nQ 13.234375 26.265625 9.515625 29.90625 \nQ 5.8125 33.546875 5.8125 39.890625 \nQ 5.8125 47.609375 11.28125 51.796875 \nQ 16.75 56 26.8125 56 \nQ 31.78125 56 36.171875 55.265625 \nQ 40.578125 54.546875 44.28125 53.078125 \nz\n\" id=\"DejaVuSans-115\"/>\n      </defs>\n      <use xlink:href=\"#DejaVuSans-110\"/>\n      <use x=\"63.378906\" xlink:href=\"#DejaVuSans-117\"/>\n      <use x=\"126.757812\" xlink:href=\"#DejaVuSans-109\"/>\n      <use x=\"224.169922\" xlink:href=\"#DejaVuSans-98\"/>\n      <use x=\"287.646484\" xlink:href=\"#DejaVuSans-101\"/>\n      <use x=\"349.169922\" xlink:href=\"#DejaVuSans-114\"/>\n      <use x=\"390.283203\" xlink:href=\"#DejaVuSans-32\"/>\n      <use x=\"422.070312\" xlink:href=\"#DejaVuSans-111\"/>\n      <use x=\"483.251953\" xlink:href=\"#DejaVuSans-102\"/>\n      <use x=\"518.457031\" xlink:href=\"#DejaVuSans-32\"/>\n      <use x=\"550.244141\" xlink:href=\"#DejaVuSans-116\"/>\n      <use x=\"589.453125\" xlink:href=\"#DejaVuSans-114\"/>\n      <use x=\"630.566406\" xlink:href=\"#DejaVuSans-97\"/>\n      <use x=\"691.845703\" xlink:href=\"#DejaVuSans-105\"/>\n      <use x=\"719.628906\" xlink:href=\"#DejaVuSans-110\"/>\n      <use x=\"783.007812\" xlink:href=\"#DejaVuSans-105\"/>\n      <use x=\"810.791016\" xlink:href=\"#DejaVuSans-110\"/>\n      <use x=\"874.169922\" xlink:href=\"#DejaVuSans-103\"/>\n      <use x=\"937.646484\" xlink:href=\"#DejaVuSans-32\"/>\n      <use x=\"969.433594\" xlink:href=\"#DejaVuSans-101\"/>\n      <use x=\"1029.207031\" xlink:href=\"#DejaVuSans-120\"/>\n      <use x=\"1088.386719\" xlink:href=\"#DejaVuSans-97\"/>\n      <use x=\"1149.666016\" xlink:href=\"#DejaVuSans-109\"/>\n      <use x=\"1247.078125\" xlink:href=\"#DejaVuSans-112\"/>\n      <use x=\"1310.554688\" xlink:href=\"#DejaVuSans-108\"/>\n      <use x=\"1338.337891\" xlink:href=\"#DejaVuSans-101\"/>\n      <use x=\"1399.861328\" xlink:href=\"#DejaVuSans-115\"/>\n      <use x=\"1451.960938\" xlink:href=\"#DejaVuSans-32\"/>\n      <use x=\"1483.748047\" xlink:href=\"#DejaVuSans-115\"/>\n      <use x=\"1535.847656\" xlink:href=\"#DejaVuSans-101\"/>\n      <use x=\"1597.371094\" xlink:href=\"#DejaVuSans-101\"/>\n      <use x=\"1658.894531\" xlink:href=\"#DejaVuSans-110\"/>\n     </g>\n    </g>\n   </g>\n   <g id=\"matplotlib.axis_2\">\n    <g id=\"ytick_1\">\n     <g id=\"line2d_9\">\n      <defs>\n       <path d=\"M 0 0 \nL -3.5 0 \n\" id=\"mabe41b45cc\" style=\"stroke:#000000;stroke-width:0.8;\"/>\n      </defs>\n      <g>\n       <use style=\"stroke:#000000;stroke-width:0.8;\" x=\"43.78125\" xlink:href=\"#mabe41b45cc\" y=\"182.701558\"/>\n      </g>\n     </g>\n     <g id=\"text_10\">\n      <!-- 0.5 -->\n      <g transform=\"translate(20.878125 186.500777)scale(0.1 -0.1)\">\n       <defs>\n        <path d=\"M 10.6875 12.40625 \nL 21 12.40625 \nL 21 0 \nL 10.6875 0 \nz\n\" id=\"DejaVuSans-46\"/>\n       </defs>\n       <use xlink:href=\"#DejaVuSans-48\"/>\n       <use x=\"63.623047\" xlink:href=\"#DejaVuSans-46\"/>\n       <use x=\"95.410156\" xlink:href=\"#DejaVuSans-53\"/>\n      </g>\n     </g>\n    </g>\n    <g id=\"ytick_2\">\n     <g id=\"line2d_10\">\n      <g>\n       <use style=\"stroke:#000000;stroke-width:0.8;\" x=\"43.78125\" xlink:href=\"#mabe41b45cc\" y=\"138.704358\"/>\n      </g>\n     </g>\n     <g id=\"text_11\">\n      <!-- 1.0 -->\n      <g transform=\"translate(20.878125 142.503577)scale(0.1 -0.1)\">\n       <use xlink:href=\"#DejaVuSans-49\"/>\n       <use x=\"63.623047\" xlink:href=\"#DejaVuSans-46\"/>\n       <use x=\"95.410156\" xlink:href=\"#DejaVuSans-48\"/>\n      </g>\n     </g>\n    </g>\n    <g id=\"ytick_3\">\n     <g id=\"line2d_11\">\n      <g>\n       <use style=\"stroke:#000000;stroke-width:0.8;\" x=\"43.78125\" xlink:href=\"#mabe41b45cc\" y=\"94.707157\"/>\n      </g>\n     </g>\n     <g id=\"text_12\">\n      <!-- 1.5 -->\n      <g transform=\"translate(20.878125 98.506376)scale(0.1 -0.1)\">\n       <use xlink:href=\"#DejaVuSans-49\"/>\n       <use x=\"63.623047\" xlink:href=\"#DejaVuSans-46\"/>\n       <use x=\"95.410156\" xlink:href=\"#DejaVuSans-53\"/>\n      </g>\n     </g>\n    </g>\n    <g id=\"ytick_4\">\n     <g id=\"line2d_12\">\n      <g>\n       <use style=\"stroke:#000000;stroke-width:0.8;\" x=\"43.78125\" xlink:href=\"#mabe41b45cc\" y=\"50.709957\"/>\n      </g>\n     </g>\n     <g id=\"text_13\">\n      <!-- 2.0 -->\n      <g transform=\"translate(20.878125 54.509175)scale(0.1 -0.1)\">\n       <use xlink:href=\"#DejaVuSans-50\"/>\n       <use x=\"63.623047\" xlink:href=\"#DejaVuSans-46\"/>\n       <use x=\"95.410156\" xlink:href=\"#DejaVuSans-48\"/>\n      </g>\n     </g>\n    </g>\n    <g id=\"text_14\">\n     <!-- negative log likelihood loss -->\n     <g transform=\"translate(14.798438 183.645)rotate(-90)scale(0.1 -0.1)\">\n      <defs>\n       <path d=\"M 2.984375 54.6875 \nL 12.5 54.6875 \nL 29.59375 8.796875 \nL 46.6875 54.6875 \nL 56.203125 54.6875 \nL 35.6875 0 \nL 23.484375 0 \nz\n\" id=\"DejaVuSans-118\"/>\n       <path d=\"M 9.078125 75.984375 \nL 18.109375 75.984375 \nL 18.109375 31.109375 \nL 44.921875 54.6875 \nL 56.390625 54.6875 \nL 27.390625 29.109375 \nL 57.625 0 \nL 45.90625 0 \nL 18.109375 26.703125 \nL 18.109375 0 \nL 9.078125 0 \nz\n\" id=\"DejaVuSans-107\"/>\n       <path d=\"M 54.890625 33.015625 \nL 54.890625 0 \nL 45.90625 0 \nL 45.90625 32.71875 \nQ 45.90625 40.484375 42.875 44.328125 \nQ 39.84375 48.1875 33.796875 48.1875 \nQ 26.515625 48.1875 22.3125 43.546875 \nQ 18.109375 38.921875 18.109375 30.90625 \nL 18.109375 0 \nL 9.078125 0 \nL 9.078125 75.984375 \nL 18.109375 75.984375 \nL 18.109375 46.1875 \nQ 21.34375 51.125 25.703125 53.5625 \nQ 30.078125 56 35.796875 56 \nQ 45.21875 56 50.046875 50.171875 \nQ 54.890625 44.34375 54.890625 33.015625 \nz\n\" id=\"DejaVuSans-104\"/>\n       <path d=\"M 45.40625 46.390625 \nL 45.40625 75.984375 \nL 54.390625 75.984375 \nL 54.390625 0 \nL 45.40625 0 \nL 45.40625 8.203125 \nQ 42.578125 3.328125 38.25 0.953125 \nQ 33.9375 -1.421875 27.875 -1.421875 \nQ 17.96875 -1.421875 11.734375 6.484375 \nQ 5.515625 14.40625 5.515625 27.296875 \nQ 5.515625 40.1875 11.734375 48.09375 \nQ 17.96875 56 27.875 56 \nQ 33.9375 56 38.25 53.625 \nQ 42.578125 51.265625 45.40625 46.390625 \nz\nM 14.796875 27.296875 \nQ 14.796875 17.390625 18.875 11.75 \nQ 22.953125 6.109375 30.078125 6.109375 \nQ 37.203125 6.109375 41.296875 11.75 \nQ 45.40625 17.390625 45.40625 27.296875 \nQ 45.40625 37.203125 41.296875 42.84375 \nQ 37.203125 48.484375 30.078125 48.484375 \nQ 22.953125 48.484375 18.875 42.84375 \nQ 14.796875 37.203125 14.796875 27.296875 \nz\n\" id=\"DejaVuSans-100\"/>\n      </defs>\n      <use xlink:href=\"#DejaVuSans-110\"/>\n      <use x=\"63.378906\" xlink:href=\"#DejaVuSans-101\"/>\n      <use x=\"124.902344\" xlink:href=\"#DejaVuSans-103\"/>\n      <use x=\"188.378906\" xlink:href=\"#DejaVuSans-97\"/>\n      <use x=\"249.658203\" xlink:href=\"#DejaVuSans-116\"/>\n      <use x=\"288.867188\" xlink:href=\"#DejaVuSans-105\"/>\n      <use x=\"316.650391\" xlink:href=\"#DejaVuSans-118\"/>\n      <use x=\"375.830078\" xlink:href=\"#DejaVuSans-101\"/>\n      <use x=\"437.353516\" xlink:href=\"#DejaVuSans-32\"/>\n      <use x=\"469.140625\" xlink:href=\"#DejaVuSans-108\"/>\n      <use x=\"496.923828\" xlink:href=\"#DejaVuSans-111\"/>\n      <use x=\"558.105469\" xlink:href=\"#DejaVuSans-103\"/>\n      <use x=\"621.582031\" xlink:href=\"#DejaVuSans-32\"/>\n      <use x=\"653.369141\" xlink:href=\"#DejaVuSans-108\"/>\n      <use x=\"681.152344\" xlink:href=\"#DejaVuSans-105\"/>\n      <use x=\"708.935547\" xlink:href=\"#DejaVuSans-107\"/>\n      <use x=\"763.220703\" xlink:href=\"#DejaVuSans-101\"/>\n      <use x=\"824.744141\" xlink:href=\"#DejaVuSans-108\"/>\n      <use x=\"852.527344\" xlink:href=\"#DejaVuSans-105\"/>\n      <use x=\"880.310547\" xlink:href=\"#DejaVuSans-104\"/>\n      <use x=\"943.689453\" xlink:href=\"#DejaVuSans-111\"/>\n      <use x=\"1004.871094\" xlink:href=\"#DejaVuSans-111\"/>\n      <use x=\"1066.052734\" xlink:href=\"#DejaVuSans-100\"/>\n      <use x=\"1129.529297\" xlink:href=\"#DejaVuSans-32\"/>\n      <use x=\"1161.316406\" xlink:href=\"#DejaVuSans-108\"/>\n      <use x=\"1189.099609\" xlink:href=\"#DejaVuSans-111\"/>\n      <use x=\"1250.28125\" xlink:href=\"#DejaVuSans-115\"/>\n      <use x=\"1302.380859\" xlink:href=\"#DejaVuSans-115\"/>\n     </g>\n    </g>\n   </g>\n   <g id=\"line2d_13\">\n    <path clip-path=\"url(#p2e99537cf7)\" d=\"M 58.999432 17.083636 \nL 60.081614 39.99902 \nL 61.163795 84.667239 \nL 62.245977 98.489939 \nL 63.328159 93.227337 \nL 65.492523 125.345042 \nL 66.574705 139.676679 \nL 67.656886 145.524987 \nL 68.739068 111.108123 \nL 69.82125 120.853405 \nL 70.903432 149.033651 \nL 71.985614 156.674868 \nL 73.067795 127.480913 \nL 74.149977 170.25161 \nL 75.232159 131.352952 \nL 76.314341 130.294001 \nL 77.396523 145.550703 \nL 78.478705 126.255112 \nL 79.560886 146.069521 \nL 80.643068 156.740067 \nL 81.72525 141.36652 \nL 82.807432 173.925298 \nL 83.889614 153.937552 \nL 84.971795 157.938925 \nL 86.053977 141.273187 \nL 87.136159 150.387102 \nL 88.218341 118.891612 \nL 89.300523 132.468338 \nL 90.382705 131.6275 \nL 91.464886 152.580278 \nL 92.547068 149.120706 \nL 93.62925 169.983922 \nL 94.711432 133.877803 \nL 95.793614 143.718385 \nL 96.875795 167.078366 \nL 97.957977 141.408521 \nL 99.040159 146.172798 \nL 100.122341 177.283859 \nL 101.204523 174.047063 \nL 102.286705 155.193747 \nL 103.368886 172.354159 \nL 104.451068 169.170762 \nL 105.53325 156.121245 \nL 106.615432 161.234463 \nL 107.697614 137.129815 \nL 108.779795 126.06531 \nL 109.861977 155.08962 \nL 110.944159 144.267549 \nL 112.026341 146.497681 \nL 113.108523 157.826868 \nL 114.190705 178.269969 \nL 115.272886 166.775401 \nL 116.355068 177.043597 \nL 117.43725 138.664623 \nL 118.519432 171.809222 \nL 119.601614 155.633503 \nL 120.683795 171.351387 \nL 121.765977 155.602422 \nL 122.848159 154.378625 \nL 123.930341 138.499975 \nL 125.012523 173.644776 \nL 126.094705 196.83203 \nL 127.176886 176.668426 \nL 128.259068 195.012612 \nL 129.34125 141.721939 \nL 130.423432 172.703715 \nL 131.505614 165.164983 \nL 132.587795 140.055417 \nL 133.669977 105.333945 \nL 134.752159 184.094361 \nL 135.834341 164.419345 \nL 136.916523 153.165522 \nL 137.998705 182.597474 \nL 139.080886 175.69044 \nL 140.163068 166.321043 \nL 141.24525 136.577729 \nL 142.327432 177.06305 \nL 143.409614 165.831192 \nL 144.491795 149.743634 \nL 145.573977 153.922237 \nL 146.656159 155.654472 \nL 147.738341 178.419008 \nL 148.820523 171.527132 \nL 149.902705 154.680158 \nL 150.984886 153.118696 \nL 152.067068 192.82916 \nL 153.14925 162.209034 \nL 154.231432 180.364421 \nL 155.313614 158.596884 \nL 156.395795 175.839085 \nL 157.477977 159.377211 \nL 158.560159 172.657775 \nL 159.642341 146.207907 \nL 160.453977 158.1529 \nL 161.536159 169.84894 \nL 162.618341 174.473556 \nL 163.700523 187.273435 \nL 164.782705 178.303982 \nL 165.864886 164.801723 \nL 168.02925 186.917058 \nL 169.111432 190.119852 \nL 170.193614 176.958661 \nL 171.275795 183.323792 \nL 172.357977 155.183729 \nL 173.440159 191.734017 \nL 174.522341 171.181804 \nL 175.604523 166.950517 \nL 176.686705 181.385478 \nL 177.768886 174.05951 \nL 178.851068 168.574482 \nL 179.93325 172.09008 \nL 181.015432 169.978572 \nL 182.097614 189.91119 \nL 183.179795 179.780247 \nL 184.261977 174.377165 \nL 185.344159 183.21553 \nL 186.426341 183.220523 \nL 187.508523 159.435728 \nL 188.590705 180.86923 \nL 189.672886 174.098044 \nL 190.755068 163.674001 \nL 191.83725 168.746928 \nL 192.919432 164.032064 \nL 194.001614 179.1354 \nL 195.083795 178.387486 \nL 196.165977 188.657434 \nL 197.248159 189.075768 \nL 198.330341 177.371496 \nL 199.412523 172.54875 \nL 200.494705 176.607879 \nL 202.659068 192.556002 \nL 203.74125 196.556887 \nL 204.823432 183.610466 \nL 205.905614 164.267879 \nL 206.987795 161.8852 \nL 208.069977 169.985611 \nL 209.152159 168.612618 \nL 210.234341 136.77481 \nL 211.316523 168.946884 \nL 212.398705 176.222118 \nL 213.480886 162.505532 \nL 214.563068 168.356788 \nL 215.64525 183.609876 \nL 216.727432 176.586506 \nL 217.809614 199.706843 \nL 218.891795 174.012872 \nL 219.973977 180.866849 \nL 221.056159 173.921118 \nL 222.138341 173.278201 \nL 223.220523 167.012464 \nL 225.384886 172.714257 \nL 226.467068 186.613089 \nL 227.54925 175.125237 \nL 228.631432 201.393666 \nL 229.713614 166.83642 \nL 230.795795 173.555965 \nL 231.877977 175.387543 \nL 232.960159 196.91764 \nL 234.042341 179.258224 \nL 235.124523 183.576028 \nL 236.206705 143.70458 \nL 237.288886 185.657822 \nL 238.371068 158.638255 \nL 239.45325 145.121861 \nL 240.535432 179.73009 \nL 241.617614 150.307679 \nL 242.699795 183.290377 \nL 243.781977 178.91405 \nL 244.864159 180.613831 \nL 245.946341 162.53365 \nL 247.028523 175.406991 \nL 248.110705 190.214341 \nL 249.192886 183.866154 \nL 250.275068 182.254317 \nL 251.35725 189.777212 \nL 252.439432 188.144197 \nL 253.521614 182.643136 \nL 254.603795 177.796079 \nL 255.685977 187.047016 \nL 256.768159 172.758314 \nL 257.850341 204.724246 \nL 258.932523 199.805743 \nL 260.014705 198.856505 \nL 261.096886 163.411648 \nL 261.908523 156.976647 \nL 262.990705 181.988449 \nL 264.072886 189.252662 \nL 265.155068 191.055944 \nL 266.23725 187.090703 \nL 267.319432 190.379714 \nL 268.401614 179.108562 \nL 269.483795 182.774761 \nL 270.565977 169.02295 \nL 271.648159 181.898631 \nL 272.730341 182.782702 \nL 273.812523 172.407122 \nL 274.894705 183.256883 \nL 275.976886 175.302498 \nL 277.059068 164.658926 \nL 278.14125 173.025378 \nL 279.223432 197.303566 \nL 280.305614 197.630822 \nL 281.387795 178.077629 \nL 282.469977 185.769081 \nL 283.552159 184.720966 \nL 284.634341 188.935066 \nL 285.716523 173.72518 \nL 286.798705 196.847154 \nL 287.880886 190.740268 \nL 288.963068 172.47968 \nL 290.04525 166.296392 \nL 291.127432 185.097262 \nL 292.209614 170.648752 \nL 293.291795 191.454552 \nL 294.373977 200.520633 \nL 295.456159 174.642005 \nL 296.538341 183.685717 \nL 297.620523 161.539259 \nL 298.702705 163.583449 \nL 299.784886 178.885524 \nL 300.867068 149.635317 \nL 301.94925 199.933745 \nL 303.031432 183.807674 \nL 304.113614 195.541668 \nL 306.277977 167.552581 \nL 307.360159 157.827314 \nL 308.442341 201.066855 \nL 309.524523 190.452107 \nL 310.606705 166.275674 \nL 311.688886 185.353278 \nL 312.771068 167.50682 \nL 313.85325 162.648345 \nL 314.935432 155.863313 \nL 316.017614 160.755365 \nL 317.099795 193.054918 \nL 318.181977 159.366732 \nL 319.264159 189.35667 \nL 320.346341 189.537235 \nL 321.428523 172.10369 \nL 322.510705 167.406275 \nL 323.592886 142.374685 \nL 324.675068 141.50832 \nL 325.75725 183.003236 \nL 326.839432 174.576025 \nL 327.921614 182.409015 \nL 329.003795 173.350067 \nL 330.085977 183.279276 \nL 331.168159 185.77296 \nL 332.250341 184.027995 \nL 334.414705 168.980367 \nL 335.496886 173.107476 \nL 336.579068 172.534279 \nL 337.66125 152.265087 \nL 338.743432 185.400298 \nL 339.825614 141.258219 \nL 340.907795 191.992259 \nL 341.989977 194.735533 \nL 343.072159 179.661487 \nL 344.154341 188.974948 \nL 345.236523 149.296346 \nL 346.318705 192.246313 \nL 347.400886 164.007088 \nL 348.483068 171.262318 \nL 349.56525 174.529335 \nL 350.647432 151.848492 \nL 351.729614 182.682949 \nL 352.811795 191.481104 \nL 353.893977 173.021071 \nL 354.976159 176.859759 \nL 356.058341 189.348868 \nL 357.140523 169.574376 \nL 358.222705 165.037842 \nL 359.304886 177.395255 \nL 360.387068 181.859656 \nL 361.46925 184.787762 \nL 362.551432 177.68782 \nL 362.551432 177.68782 \n\" style=\"fill:none;stroke:#000000;stroke-linecap:square;stroke-width:1.5;\"/>\n   </g>\n   <g id=\"patch_3\">\n    <path d=\"M 43.78125 224.64 \nL 43.78125 7.2 \n\" style=\"fill:none;stroke:#000000;stroke-linecap:square;stroke-linejoin:miter;stroke-width:0.8;\"/>\n   </g>\n   <g id=\"patch_4\">\n    <path d=\"M 378.58125 224.64 \nL 378.58125 7.2 \n\" style=\"fill:none;stroke:#000000;stroke-linecap:square;stroke-linejoin:miter;stroke-width:0.8;\"/>\n   </g>\n   <g id=\"patch_5\">\n    <path d=\"M 43.78125 224.64 \nL 378.58125 224.64 \n\" style=\"fill:none;stroke:#000000;stroke-linecap:square;stroke-linejoin:miter;stroke-width:0.8;\"/>\n   </g>\n   <g id=\"patch_6\">\n    <path d=\"M 43.78125 7.2 \nL 378.58125 7.2 \n\" style=\"fill:none;stroke:#000000;stroke-linecap:square;stroke-linejoin:miter;stroke-width:0.8;\"/>\n   </g>\n   <g id=\"legend_1\">\n    <g id=\"patch_7\">\n     <path d=\"M 290.48125 44.55625 \nL 371.58125 44.55625 \nQ 373.58125 44.55625 373.58125 42.55625 \nL 373.58125 14.2 \nQ 373.58125 12.2 371.58125 12.2 \nL 290.48125 12.2 \nQ 288.48125 12.2 288.48125 14.2 \nL 288.48125 42.55625 \nQ 288.48125 44.55625 290.48125 44.55625 \nz\n\" style=\"fill:#ffffff;opacity:0.8;stroke:#cccccc;stroke-linejoin:miter;\"/>\n    </g>\n    <g id=\"line2d_14\">\n     <path d=\"M 292.48125 20.298437 \nL 312.48125 20.298437 \n\" style=\"fill:none;stroke:#000000;stroke-linecap:square;stroke-width:1.5;\"/>\n    </g>\n    <g id=\"line2d_15\"/>\n    <g id=\"text_15\">\n     <!-- Train Loss -->\n     <g transform=\"translate(320.48125 23.798437)scale(0.1 -0.1)\">\n      <defs>\n       <path d=\"M -0.296875 72.90625 \nL 61.375 72.90625 \nL 61.375 64.59375 \nL 35.5 64.59375 \nL 35.5 0 \nL 25.59375 0 \nL 25.59375 64.59375 \nL -0.296875 64.59375 \nz\n\" id=\"DejaVuSans-84\"/>\n       <path d=\"M 9.8125 72.90625 \nL 19.671875 72.90625 \nL 19.671875 8.296875 \nL 55.171875 8.296875 \nL 55.171875 0 \nL 9.8125 0 \nz\n\" id=\"DejaVuSans-76\"/>\n      </defs>\n      <use xlink:href=\"#DejaVuSans-84\"/>\n      <use x=\"46.333984\" xlink:href=\"#DejaVuSans-114\"/>\n      <use x=\"87.447266\" xlink:href=\"#DejaVuSans-97\"/>\n      <use x=\"148.726562\" xlink:href=\"#DejaVuSans-105\"/>\n      <use x=\"176.509766\" xlink:href=\"#DejaVuSans-110\"/>\n      <use x=\"239.888672\" xlink:href=\"#DejaVuSans-32\"/>\n      <use x=\"271.675781\" xlink:href=\"#DejaVuSans-76\"/>\n      <use x=\"325.638672\" xlink:href=\"#DejaVuSans-111\"/>\n      <use x=\"386.820312\" xlink:href=\"#DejaVuSans-115\"/>\n      <use x=\"438.919922\" xlink:href=\"#DejaVuSans-115\"/>\n     </g>\n    </g>\n    <g id=\"PathCollection_2\">\n     <g>\n      <use style=\"fill:#ff0000;stroke:#ff0000;\" x=\"302.48125\" xlink:href=\"#m78d235768b\" y=\"35.851562\"/>\n     </g>\n    </g>\n    <g id=\"text_16\">\n     <!-- Test Loss -->\n     <g transform=\"translate(320.48125 38.476562)scale(0.1 -0.1)\">\n      <use xlink:href=\"#DejaVuSans-84\"/>\n      <use x=\"44.083984\" xlink:href=\"#DejaVuSans-101\"/>\n      <use x=\"105.607422\" xlink:href=\"#DejaVuSans-115\"/>\n      <use x=\"157.707031\" xlink:href=\"#DejaVuSans-116\"/>\n      <use x=\"196.916016\" xlink:href=\"#DejaVuSans-32\"/>\n      <use x=\"228.703125\" xlink:href=\"#DejaVuSans-76\"/>\n      <use x=\"282.666016\" xlink:href=\"#DejaVuSans-111\"/>\n      <use x=\"343.847656\" xlink:href=\"#DejaVuSans-115\"/>\n      <use x=\"395.947266\" xlink:href=\"#DejaVuSans-115\"/>\n     </g>\n    </g>\n   </g>\n  </g>\n </g>\n <defs>\n  <clipPath id=\"p2e99537cf7\">\n   <rect height=\"217.44\" width=\"334.8\" x=\"43.78125\" y=\"7.2\"/>\n  </clipPath>\n </defs>\n</svg>\n",
      "image/png": "[encoded data removed]"
     },
     "metadata": {},
     "execution_count": 31
    },
    {
     "output_type": "display_data",
     "data": {
      "text/plain": "<Figure size 432x288 with 1 Axes>",
      "image/svg+xml": "<?xml version=\"1.0\" encoding=\"utf-8\" standalone=\"no\"?>\n<!DOCTYPE svg PUBLIC \"-//W3C//DTD SVG 1.1//EN\"\n  \"http://www.w3.org/Graphics/SVG/1.1/DTD/svg11.dtd\">\n<!-- Created with matplotlib (https://matplotlib.org/) -->\n<svg height=\"262.19625pt\" version=\"1.1\" viewBox=\"0 0 385.78125 262.19625\" width=\"385.78125pt\" xmlns=\"http://www.w3.org/2000/svg\" xmlns:xlink=\"http://www.w3.org/1999/xlink\">\n <metadata>\n  <rdf:RDF xmlns:cc=\"http://creativecommons.org/ns#\" xmlns:dc=\"http://purl.org/dc/elements/1.1/\" xmlns:rdf=\"http://www.w3.org/1999/02/22-rdf-syntax-ns#\">\n   <cc:Work>\n    <dc:type rdf:resource=\"http://purl.org/dc/dcmitype/StillImage\"/>\n    <dc:date>2021-02-05T12:51:42.240647</dc:date>\n    <dc:format>image/svg+xml</dc:format>\n    <dc:creator>\n     <cc:Agent>\n      <dc:title>Matplotlib v3.3.3, https://matplotlib.org/</dc:title>\n     </cc:Agent>\n    </dc:creator>\n   </cc:Work>\n  </rdf:RDF>\n </metadata>\n <defs>\n  <style type=\"text/css\">*{stroke-linecap:butt;stroke-linejoin:round;}</style>\n </defs>\n <g id=\"figure_1\">\n  <g id=\"patch_1\">\n   <path d=\"M 0 262.19625 \nL 385.78125 262.19625 \nL 385.78125 0 \nL 0 0 \nz\n\" style=\"fill:none;\"/>\n  </g>\n  <g id=\"axes_1\">\n   <g id=\"patch_2\">\n    <path d=\"M 43.78125 224.64 \nL 378.58125 224.64 \nL 378.58125 7.2 \nL 43.78125 7.2 \nz\n\" style=\"fill:#ffffff;\"/>\n   </g>\n   <g id=\"PathCollection_1\">\n    <defs>\n     <path d=\"M 0 3 \nC 0.795609 3 1.55874 2.683901 2.12132 2.12132 \nC 2.683901 1.55874 3 0.795609 3 0 \nC 3 -0.795609 2.683901 -1.55874 2.12132 -2.12132 \nC 1.55874 -2.683901 0.795609 -3 0 -3 \nC -0.795609 -3 -1.55874 -2.683901 -2.12132 -2.12132 \nC -2.683901 -1.55874 -3 -0.795609 -3 0 \nC -3 0.795609 -2.683901 1.55874 -2.12132 2.12132 \nC -1.55874 2.683901 -0.795609 3 0 3 \nz\n\" id=\"m7fd8f14162\" style=\"stroke:#ff0000;\"/>\n    </defs>\n    <g clip-path=\"url(#p861d05433b)\">\n     <use style=\"fill:#ff0000;stroke:#ff0000;\" x=\"58.999432\" xlink:href=\"#m7fd8f14162\" y=\"21.527793\"/>\n     <use style=\"fill:#ff0000;stroke:#ff0000;\" x=\"160.453977\" xlink:href=\"#m7fd8f14162\" y=\"212.569541\"/>\n     <use style=\"fill:#ff0000;stroke:#ff0000;\" x=\"261.908523\" xlink:href=\"#m7fd8f14162\" y=\"213.017375\"/>\n     <use style=\"fill:#ff0000;stroke:#ff0000;\" x=\"363.363068\" xlink:href=\"#m7fd8f14162\" y=\"214.756364\"/>\n    </g>\n   </g>\n   <g id=\"matplotlib.axis_1\">\n    <g id=\"xtick_1\">\n     <g id=\"line2d_1\">\n      <defs>\n       <path d=\"M 0 0 \nL 0 3.5 \n\" id=\"m306682e91b\" style=\"stroke:#000000;stroke-width:0.8;\"/>\n      </defs>\n      <g>\n       <use style=\"stroke:#000000;stroke-width:0.8;\" x=\"58.999432\" xlink:href=\"#m306682e91b\" y=\"224.64\"/>\n      </g>\n     </g>\n     <g id=\"text_1\">\n      <!-- 0 -->\n      <g transform=\"translate(55.818182 239.238437)scale(0.1 -0.1)\">\n       <defs>\n        <path d=\"M 31.78125 66.40625 \nQ 24.171875 66.40625 20.328125 58.90625 \nQ 16.5 51.421875 16.5 36.375 \nQ 16.5 21.390625 20.328125 13.890625 \nQ 24.171875 6.390625 31.78125 6.390625 \nQ 39.453125 6.390625 43.28125 13.890625 \nQ 47.125 21.390625 47.125 36.375 \nQ 47.125 51.421875 43.28125 58.90625 \nQ 39.453125 66.40625 31.78125 66.40625 \nz\nM 31.78125 74.21875 \nQ 44.046875 74.21875 50.515625 64.515625 \nQ 56.984375 54.828125 56.984375 36.375 \nQ 56.984375 17.96875 50.515625 8.265625 \nQ 44.046875 -1.421875 31.78125 -1.421875 \nQ 19.53125 -1.421875 13.0625 8.265625 \nQ 6.59375 17.96875 6.59375 36.375 \nQ 6.59375 54.828125 13.0625 64.515625 \nQ 19.53125 74.21875 31.78125 74.21875 \nz\n\" id=\"DejaVuSans-48\"/>\n       </defs>\n       <use xlink:href=\"#DejaVuSans-48\"/>\n      </g>\n     </g>\n    </g>\n    <g id=\"xtick_2\">\n     <g id=\"line2d_2\">\n      <g>\n       <use style=\"stroke:#000000;stroke-width:0.8;\" x=\"101.272159\" xlink:href=\"#m306682e91b\" y=\"224.64\"/>\n      </g>\n     </g>\n     <g id=\"text_2\">\n      <!-- 25000 -->\n      <g transform=\"translate(85.365909 239.238437)scale(0.1 -0.1)\">\n       <defs>\n        <path d=\"M 19.1875 8.296875 \nL 53.609375 8.296875 \nL 53.609375 0 \nL 7.328125 0 \nL 7.328125 8.296875 \nQ 12.9375 14.109375 22.625 23.890625 \nQ 32.328125 33.6875 34.8125 36.53125 \nQ 39.546875 41.84375 41.421875 45.53125 \nQ 43.3125 49.21875 43.3125 52.78125 \nQ 43.3125 58.59375 39.234375 62.25 \nQ 35.15625 65.921875 28.609375 65.921875 \nQ 23.96875 65.921875 18.8125 64.3125 \nQ 13.671875 62.703125 7.8125 59.421875 \nL 7.8125 69.390625 \nQ 13.765625 71.78125 18.9375 73 \nQ 24.125 74.21875 28.421875 74.21875 \nQ 39.75 74.21875 46.484375 68.546875 \nQ 53.21875 62.890625 53.21875 53.421875 \nQ 53.21875 48.921875 51.53125 44.890625 \nQ 49.859375 40.875 45.40625 35.40625 \nQ 44.1875 33.984375 37.640625 27.21875 \nQ 31.109375 20.453125 19.1875 8.296875 \nz\n\" id=\"DejaVuSans-50\"/>\n        <path d=\"M 10.796875 72.90625 \nL 49.515625 72.90625 \nL 49.515625 64.59375 \nL 19.828125 64.59375 \nL 19.828125 46.734375 \nQ 21.96875 47.46875 24.109375 47.828125 \nQ 26.265625 48.1875 28.421875 48.1875 \nQ 40.625 48.1875 47.75 41.5 \nQ 54.890625 34.8125 54.890625 23.390625 \nQ 54.890625 11.625 47.5625 5.09375 \nQ 40.234375 -1.421875 26.90625 -1.421875 \nQ 22.3125 -1.421875 17.546875 -0.640625 \nQ 12.796875 0.140625 7.71875 1.703125 \nL 7.71875 11.625 \nQ 12.109375 9.234375 16.796875 8.0625 \nQ 21.484375 6.890625 26.703125 6.890625 \nQ 35.15625 6.890625 40.078125 11.328125 \nQ 45.015625 15.765625 45.015625 23.390625 \nQ 45.015625 31 40.078125 35.4375 \nQ 35.15625 39.890625 26.703125 39.890625 \nQ 22.75 39.890625 18.8125 39.015625 \nQ 14.890625 38.140625 10.796875 36.28125 \nz\n\" id=\"DejaVuSans-53\"/>\n       </defs>\n       <use xlink:href=\"#DejaVuSans-50\"/>\n       <use x=\"63.623047\" xlink:href=\"#DejaVuSans-53\"/>\n       <use x=\"127.246094\" xlink:href=\"#DejaVuSans-48\"/>\n       <use x=\"190.869141\" xlink:href=\"#DejaVuSans-48\"/>\n       <use x=\"254.492188\" xlink:href=\"#DejaVuSans-48\"/>\n      </g>\n     </g>\n    </g>\n    <g id=\"xtick_3\">\n     <g id=\"line2d_3\">\n      <g>\n       <use style=\"stroke:#000000;stroke-width:0.8;\" x=\"143.544886\" xlink:href=\"#m306682e91b\" y=\"224.64\"/>\n      </g>\n     </g>\n     <g id=\"text_3\">\n      <!-- 50000 -->\n      <g transform=\"translate(127.638636 239.238437)scale(0.1 -0.1)\">\n       <use xlink:href=\"#DejaVuSans-53\"/>\n       <use x=\"63.623047\" xlink:href=\"#DejaVuSans-48\"/>\n       <use x=\"127.246094\" xlink:href=\"#DejaVuSans-48\"/>\n       <use x=\"190.869141\" xlink:href=\"#DejaVuSans-48\"/>\n       <use x=\"254.492188\" xlink:href=\"#DejaVuSans-48\"/>\n      </g>\n     </g>\n    </g>\n    <g id=\"xtick_4\">\n     <g id=\"line2d_4\">\n      <g>\n       <use style=\"stroke:#000000;stroke-width:0.8;\" x=\"185.817614\" xlink:href=\"#m306682e91b\" y=\"224.64\"/>\n      </g>\n     </g>\n     <g id=\"text_4\">\n      <!-- 75000 -->\n      <g transform=\"translate(169.911364 239.238437)scale(0.1 -0.1)\">\n       <defs>\n        <path d=\"M 8.203125 72.90625 \nL 55.078125 72.90625 \nL 55.078125 68.703125 \nL 28.609375 0 \nL 18.3125 0 \nL 43.21875 64.59375 \nL 8.203125 64.59375 \nz\n\" id=\"DejaVuSans-55\"/>\n       </defs>\n       <use xlink:href=\"#DejaVuSans-55\"/>\n       <use x=\"63.623047\" xlink:href=\"#DejaVuSans-53\"/>\n       <use x=\"127.246094\" xlink:href=\"#DejaVuSans-48\"/>\n       <use x=\"190.869141\" xlink:href=\"#DejaVuSans-48\"/>\n       <use x=\"254.492188\" xlink:href=\"#DejaVuSans-48\"/>\n      </g>\n     </g>\n    </g>\n    <g id=\"xtick_5\">\n     <g id=\"line2d_5\">\n      <g>\n       <use style=\"stroke:#000000;stroke-width:0.8;\" x=\"228.090341\" xlink:href=\"#m306682e91b\" y=\"224.64\"/>\n      </g>\n     </g>\n     <g id=\"text_5\">\n      <!-- 100000 -->\n      <g transform=\"translate(209.002841 239.238437)scale(0.1 -0.1)\">\n       <defs>\n        <path d=\"M 12.40625 8.296875 \nL 28.515625 8.296875 \nL 28.515625 63.921875 \nL 10.984375 60.40625 \nL 10.984375 69.390625 \nL 28.421875 72.90625 \nL 38.28125 72.90625 \nL 38.28125 8.296875 \nL 54.390625 8.296875 \nL 54.390625 0 \nL 12.40625 0 \nz\n\" id=\"DejaVuSans-49\"/>\n       </defs>\n       <use xlink:href=\"#DejaVuSans-49\"/>\n       <use x=\"63.623047\" xlink:href=\"#DejaVuSans-48\"/>\n       <use x=\"127.246094\" xlink:href=\"#DejaVuSans-48\"/>\n       <use x=\"190.869141\" xlink:href=\"#DejaVuSans-48\"/>\n       <use x=\"254.492188\" xlink:href=\"#DejaVuSans-48\"/>\n       <use x=\"318.115234\" xlink:href=\"#DejaVuSans-48\"/>\n      </g>\n     </g>\n    </g>\n    <g id=\"xtick_6\">\n     <g id=\"line2d_6\">\n      <g>\n       <use style=\"stroke:#000000;stroke-width:0.8;\" x=\"270.363068\" xlink:href=\"#m306682e91b\" y=\"224.64\"/>\n      </g>\n     </g>\n     <g id=\"text_6\">\n      <!-- 125000 -->\n      <g transform=\"translate(251.275568 239.238437)scale(0.1 -0.1)\">\n       <use xlink:href=\"#DejaVuSans-49\"/>\n       <use x=\"63.623047\" xlink:href=\"#DejaVuSans-50\"/>\n       <use x=\"127.246094\" xlink:href=\"#DejaVuSans-53\"/>\n       <use x=\"190.869141\" xlink:href=\"#DejaVuSans-48\"/>\n       <use x=\"254.492188\" xlink:href=\"#DejaVuSans-48\"/>\n       <use x=\"318.115234\" xlink:href=\"#DejaVuSans-48\"/>\n      </g>\n     </g>\n    </g>\n    <g id=\"xtick_7\">\n     <g id=\"line2d_7\">\n      <g>\n       <use style=\"stroke:#000000;stroke-width:0.8;\" x=\"312.635795\" xlink:href=\"#m306682e91b\" y=\"224.64\"/>\n      </g>\n     </g>\n     <g id=\"text_7\">\n      <!-- 150000 -->\n      <g transform=\"translate(293.548295 239.238437)scale(0.1 -0.1)\">\n       <use xlink:href=\"#DejaVuSans-49\"/>\n       <use x=\"63.623047\" xlink:href=\"#DejaVuSans-53\"/>\n       <use x=\"127.246094\" xlink:href=\"#DejaVuSans-48\"/>\n       <use x=\"190.869141\" xlink:href=\"#DejaVuSans-48\"/>\n       <use x=\"254.492188\" xlink:href=\"#DejaVuSans-48\"/>\n       <use x=\"318.115234\" xlink:href=\"#DejaVuSans-48\"/>\n      </g>\n     </g>\n    </g>\n    <g id=\"xtick_8\">\n     <g id=\"line2d_8\">\n      <g>\n       <use style=\"stroke:#000000;stroke-width:0.8;\" x=\"354.908523\" xlink:href=\"#m306682e91b\" y=\"224.64\"/>\n      </g>\n     </g>\n     <g id=\"text_8\">\n      <!-- 175000 -->\n      <g transform=\"translate(335.821023 239.238437)scale(0.1 -0.1)\">\n       <use xlink:href=\"#DejaVuSans-49\"/>\n       <use x=\"63.623047\" xlink:href=\"#DejaVuSans-55\"/>\n       <use x=\"127.246094\" xlink:href=\"#DejaVuSans-53\"/>\n       <use x=\"190.869141\" xlink:href=\"#DejaVuSans-48\"/>\n       <use x=\"254.492188\" xlink:href=\"#DejaVuSans-48\"/>\n       <use x=\"318.115234\" xlink:href=\"#DejaVuSans-48\"/>\n      </g>\n     </g>\n    </g>\n    <g id=\"text_9\">\n     <!-- number of training examples seen -->\n     <g transform=\"translate(125.067969 252.916562)scale(0.1 -0.1)\">\n      <defs>\n       <path d=\"M 54.890625 33.015625 \nL 54.890625 0 \nL 45.90625 0 \nL 45.90625 32.71875 \nQ 45.90625 40.484375 42.875 44.328125 \nQ 39.84375 48.1875 33.796875 48.1875 \nQ 26.515625 48.1875 22.3125 43.546875 \nQ 18.109375 38.921875 18.109375 30.90625 \nL 18.109375 0 \nL 9.078125 0 \nL 9.078125 54.6875 \nL 18.109375 54.6875 \nL 18.109375 46.1875 \nQ 21.34375 51.125 25.703125 53.5625 \nQ 30.078125 56 35.796875 56 \nQ 45.21875 56 50.046875 50.171875 \nQ 54.890625 44.34375 54.890625 33.015625 \nz\n\" id=\"DejaVuSans-110\"/>\n       <path d=\"M 8.5 21.578125 \nL 8.5 54.6875 \nL 17.484375 54.6875 \nL 17.484375 21.921875 \nQ 17.484375 14.15625 20.5 10.265625 \nQ 23.53125 6.390625 29.59375 6.390625 \nQ 36.859375 6.390625 41.078125 11.03125 \nQ 45.3125 15.671875 45.3125 23.6875 \nL 45.3125 54.6875 \nL 54.296875 54.6875 \nL 54.296875 0 \nL 45.3125 0 \nL 45.3125 8.40625 \nQ 42.046875 3.421875 37.71875 1 \nQ 33.40625 -1.421875 27.6875 -1.421875 \nQ 18.265625 -1.421875 13.375 4.4375 \nQ 8.5 10.296875 8.5 21.578125 \nz\nM 31.109375 56 \nz\n\" id=\"DejaVuSans-117\"/>\n       <path d=\"M 52 44.1875 \nQ 55.375 50.25 60.0625 53.125 \nQ 64.75 56 71.09375 56 \nQ 79.640625 56 84.28125 50.015625 \nQ 88.921875 44.046875 88.921875 33.015625 \nL 88.921875 0 \nL 79.890625 0 \nL 79.890625 32.71875 \nQ 79.890625 40.578125 77.09375 44.375 \nQ 74.3125 48.1875 68.609375 48.1875 \nQ 61.625 48.1875 57.5625 43.546875 \nQ 53.515625 38.921875 53.515625 30.90625 \nL 53.515625 0 \nL 44.484375 0 \nL 44.484375 32.71875 \nQ 44.484375 40.625 41.703125 44.40625 \nQ 38.921875 48.1875 33.109375 48.1875 \nQ 26.21875 48.1875 22.15625 43.53125 \nQ 18.109375 38.875 18.109375 30.90625 \nL 18.109375 0 \nL 9.078125 0 \nL 9.078125 54.6875 \nL 18.109375 54.6875 \nL 18.109375 46.1875 \nQ 21.1875 51.21875 25.484375 53.609375 \nQ 29.78125 56 35.6875 56 \nQ 41.65625 56 45.828125 52.96875 \nQ 50 49.953125 52 44.1875 \nz\n\" id=\"DejaVuSans-109\"/>\n       <path d=\"M 48.6875 27.296875 \nQ 48.6875 37.203125 44.609375 42.84375 \nQ 40.53125 48.484375 33.40625 48.484375 \nQ 26.265625 48.484375 22.1875 42.84375 \nQ 18.109375 37.203125 18.109375 27.296875 \nQ 18.109375 17.390625 22.1875 11.75 \nQ 26.265625 6.109375 33.40625 6.109375 \nQ 40.53125 6.109375 44.609375 11.75 \nQ 48.6875 17.390625 48.6875 27.296875 \nz\nM 18.109375 46.390625 \nQ 20.953125 51.265625 25.265625 53.625 \nQ 29.59375 56 35.59375 56 \nQ 45.5625 56 51.78125 48.09375 \nQ 58.015625 40.1875 58.015625 27.296875 \nQ 58.015625 14.40625 51.78125 6.484375 \nQ 45.5625 -1.421875 35.59375 -1.421875 \nQ 29.59375 -1.421875 25.265625 0.953125 \nQ 20.953125 3.328125 18.109375 8.203125 \nL 18.109375 0 \nL 9.078125 0 \nL 9.078125 75.984375 \nL 18.109375 75.984375 \nz\n\" id=\"DejaVuSans-98\"/>\n       <path d=\"M 56.203125 29.59375 \nL 56.203125 25.203125 \nL 14.890625 25.203125 \nQ 15.484375 15.921875 20.484375 11.0625 \nQ 25.484375 6.203125 34.421875 6.203125 \nQ 39.59375 6.203125 44.453125 7.46875 \nQ 49.3125 8.734375 54.109375 11.28125 \nL 54.109375 2.78125 \nQ 49.265625 0.734375 44.1875 -0.34375 \nQ 39.109375 -1.421875 33.890625 -1.421875 \nQ 20.796875 -1.421875 13.15625 6.1875 \nQ 5.515625 13.8125 5.515625 26.8125 \nQ 5.515625 40.234375 12.765625 48.109375 \nQ 20.015625 56 32.328125 56 \nQ 43.359375 56 49.78125 48.890625 \nQ 56.203125 41.796875 56.203125 29.59375 \nz\nM 47.21875 32.234375 \nQ 47.125 39.59375 43.09375 43.984375 \nQ 39.0625 48.390625 32.421875 48.390625 \nQ 24.90625 48.390625 20.390625 44.140625 \nQ 15.875 39.890625 15.1875 32.171875 \nz\n\" id=\"DejaVuSans-101\"/>\n       <path d=\"M 41.109375 46.296875 \nQ 39.59375 47.171875 37.8125 47.578125 \nQ 36.03125 48 33.890625 48 \nQ 26.265625 48 22.1875 43.046875 \nQ 18.109375 38.09375 18.109375 28.8125 \nL 18.109375 0 \nL 9.078125 0 \nL 9.078125 54.6875 \nL 18.109375 54.6875 \nL 18.109375 46.1875 \nQ 20.953125 51.171875 25.484375 53.578125 \nQ 30.03125 56 36.53125 56 \nQ 37.453125 56 38.578125 55.875 \nQ 39.703125 55.765625 41.0625 55.515625 \nz\n\" id=\"DejaVuSans-114\"/>\n       <path id=\"DejaVuSans-32\"/>\n       <path d=\"M 30.609375 48.390625 \nQ 23.390625 48.390625 19.1875 42.75 \nQ 14.984375 37.109375 14.984375 27.296875 \nQ 14.984375 17.484375 19.15625 11.84375 \nQ 23.34375 6.203125 30.609375 6.203125 \nQ 37.796875 6.203125 41.984375 11.859375 \nQ 46.1875 17.53125 46.1875 27.296875 \nQ 46.1875 37.015625 41.984375 42.703125 \nQ 37.796875 48.390625 30.609375 48.390625 \nz\nM 30.609375 56 \nQ 42.328125 56 49.015625 48.375 \nQ 55.71875 40.765625 55.71875 27.296875 \nQ 55.71875 13.875 49.015625 6.21875 \nQ 42.328125 -1.421875 30.609375 -1.421875 \nQ 18.84375 -1.421875 12.171875 6.21875 \nQ 5.515625 13.875 5.515625 27.296875 \nQ 5.515625 40.765625 12.171875 48.375 \nQ 18.84375 56 30.609375 56 \nz\n\" id=\"DejaVuSans-111\"/>\n       <path d=\"M 37.109375 75.984375 \nL 37.109375 68.5 \nL 28.515625 68.5 \nQ 23.6875 68.5 21.796875 66.546875 \nQ 19.921875 64.59375 19.921875 59.515625 \nL 19.921875 54.6875 \nL 34.71875 54.6875 \nL 34.71875 47.703125 \nL 19.921875 47.703125 \nL 19.921875 0 \nL 10.890625 0 \nL 10.890625 47.703125 \nL 2.296875 47.703125 \nL 2.296875 54.6875 \nL 10.890625 54.6875 \nL 10.890625 58.5 \nQ 10.890625 67.625 15.140625 71.796875 \nQ 19.390625 75.984375 28.609375 75.984375 \nz\n\" id=\"DejaVuSans-102\"/>\n       <path d=\"M 18.3125 70.21875 \nL 18.3125 54.6875 \nL 36.8125 54.6875 \nL 36.8125 47.703125 \nL 18.3125 47.703125 \nL 18.3125 18.015625 \nQ 18.3125 11.328125 20.140625 9.421875 \nQ 21.96875 7.515625 27.59375 7.515625 \nL 36.8125 7.515625 \nL 36.8125 0 \nL 27.59375 0 \nQ 17.1875 0 13.234375 3.875 \nQ 9.28125 7.765625 9.28125 18.015625 \nL 9.28125 47.703125 \nL 2.6875 47.703125 \nL 2.6875 54.6875 \nL 9.28125 54.6875 \nL 9.28125 70.21875 \nz\n\" id=\"DejaVuSans-116\"/>\n       <path d=\"M 34.28125 27.484375 \nQ 23.390625 27.484375 19.1875 25 \nQ 14.984375 22.515625 14.984375 16.5 \nQ 14.984375 11.71875 18.140625 8.90625 \nQ 21.296875 6.109375 26.703125 6.109375 \nQ 34.1875 6.109375 38.703125 11.40625 \nQ 43.21875 16.703125 43.21875 25.484375 \nL 43.21875 27.484375 \nz\nM 52.203125 31.203125 \nL 52.203125 0 \nL 43.21875 0 \nL 43.21875 8.296875 \nQ 40.140625 3.328125 35.546875 0.953125 \nQ 30.953125 -1.421875 24.3125 -1.421875 \nQ 15.921875 -1.421875 10.953125 3.296875 \nQ 6 8.015625 6 15.921875 \nQ 6 25.140625 12.171875 29.828125 \nQ 18.359375 34.515625 30.609375 34.515625 \nL 43.21875 34.515625 \nL 43.21875 35.40625 \nQ 43.21875 41.609375 39.140625 45 \nQ 35.0625 48.390625 27.6875 48.390625 \nQ 23 48.390625 18.546875 47.265625 \nQ 14.109375 46.140625 10.015625 43.890625 \nL 10.015625 52.203125 \nQ 14.9375 54.109375 19.578125 55.046875 \nQ 24.21875 56 28.609375 56 \nQ 40.484375 56 46.34375 49.84375 \nQ 52.203125 43.703125 52.203125 31.203125 \nz\n\" id=\"DejaVuSans-97\"/>\n       <path d=\"M 9.421875 54.6875 \nL 18.40625 54.6875 \nL 18.40625 0 \nL 9.421875 0 \nz\nM 9.421875 75.984375 \nL 18.40625 75.984375 \nL 18.40625 64.59375 \nL 9.421875 64.59375 \nz\n\" id=\"DejaVuSans-105\"/>\n       <path d=\"M 45.40625 27.984375 \nQ 45.40625 37.75 41.375 43.109375 \nQ 37.359375 48.484375 30.078125 48.484375 \nQ 22.859375 48.484375 18.828125 43.109375 \nQ 14.796875 37.75 14.796875 27.984375 \nQ 14.796875 18.265625 18.828125 12.890625 \nQ 22.859375 7.515625 30.078125 7.515625 \nQ 37.359375 7.515625 41.375 12.890625 \nQ 45.40625 18.265625 45.40625 27.984375 \nz\nM 54.390625 6.78125 \nQ 54.390625 -7.171875 48.1875 -13.984375 \nQ 42 -20.796875 29.203125 -20.796875 \nQ 24.46875 -20.796875 20.265625 -20.09375 \nQ 16.0625 -19.390625 12.109375 -17.921875 \nL 12.109375 -9.1875 \nQ 16.0625 -11.328125 19.921875 -12.34375 \nQ 23.78125 -13.375 27.78125 -13.375 \nQ 36.625 -13.375 41.015625 -8.765625 \nQ 45.40625 -4.15625 45.40625 5.171875 \nL 45.40625 9.625 \nQ 42.625 4.78125 38.28125 2.390625 \nQ 33.9375 0 27.875 0 \nQ 17.828125 0 11.671875 7.65625 \nQ 5.515625 15.328125 5.515625 27.984375 \nQ 5.515625 40.671875 11.671875 48.328125 \nQ 17.828125 56 27.875 56 \nQ 33.9375 56 38.28125 53.609375 \nQ 42.625 51.21875 45.40625 46.390625 \nL 45.40625 54.6875 \nL 54.390625 54.6875 \nz\n\" id=\"DejaVuSans-103\"/>\n       <path d=\"M 54.890625 54.6875 \nL 35.109375 28.078125 \nL 55.90625 0 \nL 45.3125 0 \nL 29.390625 21.484375 \nL 13.484375 0 \nL 2.875 0 \nL 24.125 28.609375 \nL 4.6875 54.6875 \nL 15.28125 54.6875 \nL 29.78125 35.203125 \nL 44.28125 54.6875 \nz\n\" id=\"DejaVuSans-120\"/>\n       <path d=\"M 18.109375 8.203125 \nL 18.109375 -20.796875 \nL 9.078125 -20.796875 \nL 9.078125 54.6875 \nL 18.109375 54.6875 \nL 18.109375 46.390625 \nQ 20.953125 51.265625 25.265625 53.625 \nQ 29.59375 56 35.59375 56 \nQ 45.5625 56 51.78125 48.09375 \nQ 58.015625 40.1875 58.015625 27.296875 \nQ 58.015625 14.40625 51.78125 6.484375 \nQ 45.5625 -1.421875 35.59375 -1.421875 \nQ 29.59375 -1.421875 25.265625 0.953125 \nQ 20.953125 3.328125 18.109375 8.203125 \nz\nM 48.6875 27.296875 \nQ 48.6875 37.203125 44.609375 42.84375 \nQ 40.53125 48.484375 33.40625 48.484375 \nQ 26.265625 48.484375 22.1875 42.84375 \nQ 18.109375 37.203125 18.109375 27.296875 \nQ 18.109375 17.390625 22.1875 11.75 \nQ 26.265625 6.109375 33.40625 6.109375 \nQ 40.53125 6.109375 44.609375 11.75 \nQ 48.6875 17.390625 48.6875 27.296875 \nz\n\" id=\"DejaVuSans-112\"/>\n       <path d=\"M 9.421875 75.984375 \nL 18.40625 75.984375 \nL 18.40625 0 \nL 9.421875 0 \nz\n\" id=\"DejaVuSans-108\"/>\n       <path d=\"M 44.28125 53.078125 \nL 44.28125 44.578125 \nQ 40.484375 46.53125 36.375 47.5 \nQ 32.28125 48.484375 27.875 48.484375 \nQ 21.1875 48.484375 17.84375 46.4375 \nQ 14.5 44.390625 14.5 40.28125 \nQ 14.5 37.15625 16.890625 35.375 \nQ 19.28125 33.59375 26.515625 31.984375 \nL 29.59375 31.296875 \nQ 39.15625 29.25 43.1875 25.515625 \nQ 47.21875 21.78125 47.21875 15.09375 \nQ 47.21875 7.46875 41.1875 3.015625 \nQ 35.15625 -1.421875 24.609375 -1.421875 \nQ 20.21875 -1.421875 15.453125 -0.5625 \nQ 10.6875 0.296875 5.421875 2 \nL 5.421875 11.28125 \nQ 10.40625 8.6875 15.234375 7.390625 \nQ 20.0625 6.109375 24.8125 6.109375 \nQ 31.15625 6.109375 34.5625 8.28125 \nQ 37.984375 10.453125 37.984375 14.40625 \nQ 37.984375 18.0625 35.515625 20.015625 \nQ 33.0625 21.96875 24.703125 23.78125 \nL 21.578125 24.515625 \nQ 13.234375 26.265625 9.515625 29.90625 \nQ 5.8125 33.546875 5.8125 39.890625 \nQ 5.8125 47.609375 11.28125 51.796875 \nQ 16.75 56 26.8125 56 \nQ 31.78125 56 36.171875 55.265625 \nQ 40.578125 54.546875 44.28125 53.078125 \nz\n\" id=\"DejaVuSans-115\"/>\n      </defs>\n      <use xlink:href=\"#DejaVuSans-110\"/>\n      <use x=\"63.378906\" xlink:href=\"#DejaVuSans-117\"/>\n      <use x=\"126.757812\" xlink:href=\"#DejaVuSans-109\"/>\n      <use x=\"224.169922\" xlink:href=\"#DejaVuSans-98\"/>\n      <use x=\"287.646484\" xlink:href=\"#DejaVuSans-101\"/>\n      <use x=\"349.169922\" xlink:href=\"#DejaVuSans-114\"/>\n      <use x=\"390.283203\" xlink:href=\"#DejaVuSans-32\"/>\n      <use x=\"422.070312\" xlink:href=\"#DejaVuSans-111\"/>\n      <use x=\"483.251953\" xlink:href=\"#DejaVuSans-102\"/>\n      <use x=\"518.457031\" xlink:href=\"#DejaVuSans-32\"/>\n      <use x=\"550.244141\" xlink:href=\"#DejaVuSans-116\"/>\n      <use x=\"589.453125\" xlink:href=\"#DejaVuSans-114\"/>\n      <use x=\"630.566406\" xlink:href=\"#DejaVuSans-97\"/>\n      <use x=\"691.845703\" xlink:href=\"#DejaVuSans-105\"/>\n      <use x=\"719.628906\" xlink:href=\"#DejaVuSans-110\"/>\n      <use x=\"783.007812\" xlink:href=\"#DejaVuSans-105\"/>\n      <use x=\"810.791016\" xlink:href=\"#DejaVuSans-110\"/>\n      <use x=\"874.169922\" xlink:href=\"#DejaVuSans-103\"/>\n      <use x=\"937.646484\" xlink:href=\"#DejaVuSans-32\"/>\n      <use x=\"969.433594\" xlink:href=\"#DejaVuSans-101\"/>\n      <use x=\"1029.207031\" xlink:href=\"#DejaVuSans-120\"/>\n      <use x=\"1088.386719\" xlink:href=\"#DejaVuSans-97\"/>\n      <use x=\"1149.666016\" xlink:href=\"#DejaVuSans-109\"/>\n      <use x=\"1247.078125\" xlink:href=\"#DejaVuSans-112\"/>\n      <use x=\"1310.554688\" xlink:href=\"#DejaVuSans-108\"/>\n      <use x=\"1338.337891\" xlink:href=\"#DejaVuSans-101\"/>\n      <use x=\"1399.861328\" xlink:href=\"#DejaVuSans-115\"/>\n      <use x=\"1451.960938\" xlink:href=\"#DejaVuSans-32\"/>\n      <use x=\"1483.748047\" xlink:href=\"#DejaVuSans-115\"/>\n      <use x=\"1535.847656\" xlink:href=\"#DejaVuSans-101\"/>\n      <use x=\"1597.371094\" xlink:href=\"#DejaVuSans-101\"/>\n      <use x=\"1658.894531\" xlink:href=\"#DejaVuSans-110\"/>\n     </g>\n    </g>\n   </g>\n   <g id=\"matplotlib.axis_2\">\n    <g id=\"ytick_1\">\n     <g id=\"line2d_9\">\n      <defs>\n       <path d=\"M 0 0 \nL -3.5 0 \n\" id=\"mf86d0fb15a\" style=\"stroke:#000000;stroke-width:0.8;\"/>\n      </defs>\n      <g>\n       <use style=\"stroke:#000000;stroke-width:0.8;\" x=\"43.78125\" xlink:href=\"#mf86d0fb15a\" y=\"182.701558\"/>\n      </g>\n     </g>\n     <g id=\"text_10\">\n      <!-- 0.5 -->\n      <g transform=\"translate(20.878125 186.500777)scale(0.1 -0.1)\">\n       <defs>\n        <path d=\"M 10.6875 12.40625 \nL 21 12.40625 \nL 21 0 \nL 10.6875 0 \nz\n\" id=\"DejaVuSans-46\"/>\n       </defs>\n       <use xlink:href=\"#DejaVuSans-48\"/>\n       <use x=\"63.623047\" xlink:href=\"#DejaVuSans-46\"/>\n       <use x=\"95.410156\" xlink:href=\"#DejaVuSans-53\"/>\n      </g>\n     </g>\n    </g>\n    <g id=\"ytick_2\">\n     <g id=\"line2d_10\">\n      <g>\n       <use style=\"stroke:#000000;stroke-width:0.8;\" x=\"43.78125\" xlink:href=\"#mf86d0fb15a\" y=\"138.704358\"/>\n      </g>\n     </g>\n     <g id=\"text_11\">\n      <!-- 1.0 -->\n      <g transform=\"translate(20.878125 142.503577)scale(0.1 -0.1)\">\n       <use xlink:href=\"#DejaVuSans-49\"/>\n       <use x=\"63.623047\" xlink:href=\"#DejaVuSans-46\"/>\n       <use x=\"95.410156\" xlink:href=\"#DejaVuSans-48\"/>\n      </g>\n     </g>\n    </g>\n    <g id=\"ytick_3\">\n     <g id=\"line2d_11\">\n      <g>\n       <use style=\"stroke:#000000;stroke-width:0.8;\" x=\"43.78125\" xlink:href=\"#mf86d0fb15a\" y=\"94.707157\"/>\n      </g>\n     </g>\n     <g id=\"text_12\">\n      <!-- 1.5 -->\n      <g transform=\"translate(20.878125 98.506376)scale(0.1 -0.1)\">\n       <use xlink:href=\"#DejaVuSans-49\"/>\n       <use x=\"63.623047\" xlink:href=\"#DejaVuSans-46\"/>\n       <use x=\"95.410156\" xlink:href=\"#DejaVuSans-53\"/>\n      </g>\n     </g>\n    </g>\n    <g id=\"ytick_4\">\n     <g id=\"line2d_12\">\n      <g>\n       <use style=\"stroke:#000000;stroke-width:0.8;\" x=\"43.78125\" xlink:href=\"#mf86d0fb15a\" y=\"50.709957\"/>\n      </g>\n     </g>\n     <g id=\"text_13\">\n      <!-- 2.0 -->\n      <g transform=\"translate(20.878125 54.509175)scale(0.1 -0.1)\">\n       <use xlink:href=\"#DejaVuSans-50\"/>\n       <use x=\"63.623047\" xlink:href=\"#DejaVuSans-46\"/>\n       <use x=\"95.410156\" xlink:href=\"#DejaVuSans-48\"/>\n      </g>\n     </g>\n    </g>\n    <g id=\"text_14\">\n     <!-- negative log likelihood loss -->\n     <g transform=\"translate(14.798438 183.645)rotate(-90)scale(0.1 -0.1)\">\n      <defs>\n       <path d=\"M 2.984375 54.6875 \nL 12.5 54.6875 \nL 29.59375 8.796875 \nL 46.6875 54.6875 \nL 56.203125 54.6875 \nL 35.6875 0 \nL 23.484375 0 \nz\n\" id=\"DejaVuSans-118\"/>\n       <path d=\"M 9.078125 75.984375 \nL 18.109375 75.984375 \nL 18.109375 31.109375 \nL 44.921875 54.6875 \nL 56.390625 54.6875 \nL 27.390625 29.109375 \nL 57.625 0 \nL 45.90625 0 \nL 18.109375 26.703125 \nL 18.109375 0 \nL 9.078125 0 \nz\n\" id=\"DejaVuSans-107\"/>\n       <path d=\"M 54.890625 33.015625 \nL 54.890625 0 \nL 45.90625 0 \nL 45.90625 32.71875 \nQ 45.90625 40.484375 42.875 44.328125 \nQ 39.84375 48.1875 33.796875 48.1875 \nQ 26.515625 48.1875 22.3125 43.546875 \nQ 18.109375 38.921875 18.109375 30.90625 \nL 18.109375 0 \nL 9.078125 0 \nL 9.078125 75.984375 \nL 18.109375 75.984375 \nL 18.109375 46.1875 \nQ 21.34375 51.125 25.703125 53.5625 \nQ 30.078125 56 35.796875 56 \nQ 45.21875 56 50.046875 50.171875 \nQ 54.890625 44.34375 54.890625 33.015625 \nz\n\" id=\"DejaVuSans-104\"/>\n       <path d=\"M 45.40625 46.390625 \nL 45.40625 75.984375 \nL 54.390625 75.984375 \nL 54.390625 0 \nL 45.40625 0 \nL 45.40625 8.203125 \nQ 42.578125 3.328125 38.25 0.953125 \nQ 33.9375 -1.421875 27.875 -1.421875 \nQ 17.96875 -1.421875 11.734375 6.484375 \nQ 5.515625 14.40625 5.515625 27.296875 \nQ 5.515625 40.1875 11.734375 48.09375 \nQ 17.96875 56 27.875 56 \nQ 33.9375 56 38.25 53.625 \nQ 42.578125 51.265625 45.40625 46.390625 \nz\nM 14.796875 27.296875 \nQ 14.796875 17.390625 18.875 11.75 \nQ 22.953125 6.109375 30.078125 6.109375 \nQ 37.203125 6.109375 41.296875 11.75 \nQ 45.40625 17.390625 45.40625 27.296875 \nQ 45.40625 37.203125 41.296875 42.84375 \nQ 37.203125 48.484375 30.078125 48.484375 \nQ 22.953125 48.484375 18.875 42.84375 \nQ 14.796875 37.203125 14.796875 27.296875 \nz\n\" id=\"DejaVuSans-100\"/>\n      </defs>\n      <use xlink:href=\"#DejaVuSans-110\"/>\n      <use x=\"63.378906\" xlink:href=\"#DejaVuSans-101\"/>\n      <use x=\"124.902344\" xlink:href=\"#DejaVuSans-103\"/>\n      <use x=\"188.378906\" xlink:href=\"#DejaVuSans-97\"/>\n      <use x=\"249.658203\" xlink:href=\"#DejaVuSans-116\"/>\n      <use x=\"288.867188\" xlink:href=\"#DejaVuSans-105\"/>\n      <use x=\"316.650391\" xlink:href=\"#DejaVuSans-118\"/>\n      <use x=\"375.830078\" xlink:href=\"#DejaVuSans-101\"/>\n      <use x=\"437.353516\" xlink:href=\"#DejaVuSans-32\"/>\n      <use x=\"469.140625\" xlink:href=\"#DejaVuSans-108\"/>\n      <use x=\"496.923828\" xlink:href=\"#DejaVuSans-111\"/>\n      <use x=\"558.105469\" xlink:href=\"#DejaVuSans-103\"/>\n      <use x=\"621.582031\" xlink:href=\"#DejaVuSans-32\"/>\n      <use x=\"653.369141\" xlink:href=\"#DejaVuSans-108\"/>\n      <use x=\"681.152344\" xlink:href=\"#DejaVuSans-105\"/>\n      <use x=\"708.935547\" xlink:href=\"#DejaVuSans-107\"/>\n      <use x=\"763.220703\" xlink:href=\"#DejaVuSans-101\"/>\n      <use x=\"824.744141\" xlink:href=\"#DejaVuSans-108\"/>\n      <use x=\"852.527344\" xlink:href=\"#DejaVuSans-105\"/>\n      <use x=\"880.310547\" xlink:href=\"#DejaVuSans-104\"/>\n      <use x=\"943.689453\" xlink:href=\"#DejaVuSans-111\"/>\n      <use x=\"1004.871094\" xlink:href=\"#DejaVuSans-111\"/>\n      <use x=\"1066.052734\" xlink:href=\"#DejaVuSans-100\"/>\n      <use x=\"1129.529297\" xlink:href=\"#DejaVuSans-32\"/>\n      <use x=\"1161.316406\" xlink:href=\"#DejaVuSans-108\"/>\n      <use x=\"1189.099609\" xlink:href=\"#DejaVuSans-111\"/>\n      <use x=\"1250.28125\" xlink:href=\"#DejaVuSans-115\"/>\n      <use x=\"1302.380859\" xlink:href=\"#DejaVuSans-115\"/>\n     </g>\n    </g>\n   </g>\n   <g id=\"line2d_13\">\n    <path clip-path=\"url(#p861d05433b)\" d=\"M 58.999432 17.083636 \nL 60.081614 39.99902 \nL 61.163795 84.667239 \nL 62.245977 98.489939 \nL 63.328159 93.227337 \nL 65.492523 125.345042 \nL 66.574705 139.676679 \nL 67.656886 145.524987 \nL 68.739068 111.108123 \nL 69.82125 120.853405 \nL 70.903432 149.033651 \nL 71.985614 156.674868 \nL 73.067795 127.480913 \nL 74.149977 170.25161 \nL 75.232159 131.352952 \nL 76.314341 130.294001 \nL 77.396523 145.550703 \nL 78.478705 126.255112 \nL 79.560886 146.069521 \nL 80.643068 156.740067 \nL 81.72525 141.36652 \nL 82.807432 173.925298 \nL 83.889614 153.937552 \nL 84.971795 157.938925 \nL 86.053977 141.273187 \nL 87.136159 150.387102 \nL 88.218341 118.891612 \nL 89.300523 132.468338 \nL 90.382705 131.6275 \nL 91.464886 152.580278 \nL 92.547068 149.120706 \nL 93.62925 169.983922 \nL 94.711432 133.877803 \nL 95.793614 143.718385 \nL 96.875795 167.078366 \nL 97.957977 141.408521 \nL 99.040159 146.172798 \nL 100.122341 177.283859 \nL 101.204523 174.047063 \nL 102.286705 155.193747 \nL 103.368886 172.354159 \nL 104.451068 169.170762 \nL 105.53325 156.121245 \nL 106.615432 161.234463 \nL 107.697614 137.129815 \nL 108.779795 126.06531 \nL 109.861977 155.08962 \nL 110.944159 144.267549 \nL 112.026341 146.497681 \nL 113.108523 157.826868 \nL 114.190705 178.269969 \nL 115.272886 166.775401 \nL 116.355068 177.043597 \nL 117.43725 138.664623 \nL 118.519432 171.809222 \nL 119.601614 155.633503 \nL 120.683795 171.351387 \nL 121.765977 155.602422 \nL 122.848159 154.378625 \nL 123.930341 138.499975 \nL 125.012523 173.644776 \nL 126.094705 196.83203 \nL 127.176886 176.668426 \nL 128.259068 195.012612 \nL 129.34125 141.721939 \nL 130.423432 172.703715 \nL 131.505614 165.164983 \nL 132.587795 140.055417 \nL 133.669977 105.333945 \nL 134.752159 184.094361 \nL 135.834341 164.419345 \nL 136.916523 153.165522 \nL 137.998705 182.597474 \nL 139.080886 175.69044 \nL 140.163068 166.321043 \nL 141.24525 136.577729 \nL 142.327432 177.06305 \nL 143.409614 165.831192 \nL 144.491795 149.743634 \nL 145.573977 153.922237 \nL 146.656159 155.654472 \nL 147.738341 178.419008 \nL 148.820523 171.527132 \nL 149.902705 154.680158 \nL 150.984886 153.118696 \nL 152.067068 192.82916 \nL 153.14925 162.209034 \nL 154.231432 180.364421 \nL 155.313614 158.596884 \nL 156.395795 175.839085 \nL 157.477977 159.377211 \nL 158.560159 172.657775 \nL 159.642341 146.207907 \nL 160.453977 158.1529 \nL 161.536159 169.84894 \nL 162.618341 174.473556 \nL 163.700523 187.273435 \nL 164.782705 178.303982 \nL 165.864886 164.801723 \nL 168.02925 186.917058 \nL 169.111432 190.119852 \nL 170.193614 176.958661 \nL 171.275795 183.323792 \nL 172.357977 155.183729 \nL 173.440159 191.734017 \nL 174.522341 171.181804 \nL 175.604523 166.950517 \nL 176.686705 181.385478 \nL 177.768886 174.05951 \nL 178.851068 168.574482 \nL 179.93325 172.09008 \nL 181.015432 169.978572 \nL 182.097614 189.91119 \nL 183.179795 179.780247 \nL 184.261977 174.377165 \nL 185.344159 183.21553 \nL 186.426341 183.220523 \nL 187.508523 159.435728 \nL 188.590705 180.86923 \nL 189.672886 174.098044 \nL 190.755068 163.674001 \nL 191.83725 168.746928 \nL 192.919432 164.032064 \nL 194.001614 179.1354 \nL 195.083795 178.387486 \nL 196.165977 188.657434 \nL 197.248159 189.075768 \nL 198.330341 177.371496 \nL 199.412523 172.54875 \nL 200.494705 176.607879 \nL 202.659068 192.556002 \nL 203.74125 196.556887 \nL 204.823432 183.610466 \nL 205.905614 164.267879 \nL 206.987795 161.8852 \nL 208.069977 169.985611 \nL 209.152159 168.612618 \nL 210.234341 136.77481 \nL 211.316523 168.946884 \nL 212.398705 176.222118 \nL 213.480886 162.505532 \nL 214.563068 168.356788 \nL 215.64525 183.609876 \nL 216.727432 176.586506 \nL 217.809614 199.706843 \nL 218.891795 174.012872 \nL 219.973977 180.866849 \nL 221.056159 173.921118 \nL 222.138341 173.278201 \nL 223.220523 167.012464 \nL 225.384886 172.714257 \nL 226.467068 186.613089 \nL 227.54925 175.125237 \nL 228.631432 201.393666 \nL 229.713614 166.83642 \nL 230.795795 173.555965 \nL 231.877977 175.387543 \nL 232.960159 196.91764 \nL 234.042341 179.258224 \nL 235.124523 183.576028 \nL 236.206705 143.70458 \nL 237.288886 185.657822 \nL 238.371068 158.638255 \nL 239.45325 145.121861 \nL 240.535432 179.73009 \nL 241.617614 150.307679 \nL 242.699795 183.290377 \nL 243.781977 178.91405 \nL 244.864159 180.613831 \nL 245.946341 162.53365 \nL 247.028523 175.406991 \nL 248.110705 190.214341 \nL 249.192886 183.866154 \nL 250.275068 182.254317 \nL 251.35725 189.777212 \nL 252.439432 188.144197 \nL 253.521614 182.643136 \nL 254.603795 177.796079 \nL 255.685977 187.047016 \nL 256.768159 172.758314 \nL 257.850341 204.724246 \nL 258.932523 199.805743 \nL 260.014705 198.856505 \nL 261.096886 163.411648 \nL 261.908523 156.976647 \nL 262.990705 181.988449 \nL 264.072886 189.252662 \nL 265.155068 191.055944 \nL 266.23725 187.090703 \nL 267.319432 190.379714 \nL 268.401614 179.108562 \nL 269.483795 182.774761 \nL 270.565977 169.02295 \nL 271.648159 181.898631 \nL 272.730341 182.782702 \nL 273.812523 172.407122 \nL 274.894705 183.256883 \nL 275.976886 175.302498 \nL 277.059068 164.658926 \nL 278.14125 173.025378 \nL 279.223432 197.303566 \nL 280.305614 197.630822 \nL 281.387795 178.077629 \nL 282.469977 185.769081 \nL 283.552159 184.720966 \nL 284.634341 188.935066 \nL 285.716523 173.72518 \nL 286.798705 196.847154 \nL 287.880886 190.740268 \nL 288.963068 172.47968 \nL 290.04525 166.296392 \nL 291.127432 185.097262 \nL 292.209614 170.648752 \nL 293.291795 191.454552 \nL 294.373977 200.520633 \nL 295.456159 174.642005 \nL 296.538341 183.685717 \nL 297.620523 161.539259 \nL 298.702705 163.583449 \nL 299.784886 178.885524 \nL 300.867068 149.635317 \nL 301.94925 199.933745 \nL 303.031432 183.807674 \nL 304.113614 195.541668 \nL 306.277977 167.552581 \nL 307.360159 157.827314 \nL 308.442341 201.066855 \nL 309.524523 190.452107 \nL 310.606705 166.275674 \nL 311.688886 185.353278 \nL 312.771068 167.50682 \nL 313.85325 162.648345 \nL 314.935432 155.863313 \nL 316.017614 160.755365 \nL 317.099795 193.054918 \nL 318.181977 159.366732 \nL 319.264159 189.35667 \nL 320.346341 189.537235 \nL 321.428523 172.10369 \nL 322.510705 167.406275 \nL 323.592886 142.374685 \nL 324.675068 141.50832 \nL 325.75725 183.003236 \nL 326.839432 174.576025 \nL 327.921614 182.409015 \nL 329.003795 173.350067 \nL 330.085977 183.279276 \nL 331.168159 185.77296 \nL 332.250341 184.027995 \nL 334.414705 168.980367 \nL 335.496886 173.107476 \nL 336.579068 172.534279 \nL 337.66125 152.265087 \nL 338.743432 185.400298 \nL 339.825614 141.258219 \nL 340.907795 191.992259 \nL 341.989977 194.735533 \nL 343.072159 179.661487 \nL 344.154341 188.974948 \nL 345.236523 149.296346 \nL 346.318705 192.246313 \nL 347.400886 164.007088 \nL 348.483068 171.262318 \nL 349.56525 174.529335 \nL 350.647432 151.848492 \nL 351.729614 182.682949 \nL 352.811795 191.481104 \nL 353.893977 173.021071 \nL 354.976159 176.859759 \nL 356.058341 189.348868 \nL 357.140523 169.574376 \nL 358.222705 165.037842 \nL 359.304886 177.395255 \nL 360.387068 181.859656 \nL 361.46925 184.787762 \nL 362.551432 177.68782 \nL 362.551432 177.68782 \n\" style=\"fill:none;stroke:#000000;stroke-linecap:square;stroke-width:1.5;\"/>\n   </g>\n   <g id=\"patch_3\">\n    <path d=\"M 43.78125 224.64 \nL 43.78125 7.2 \n\" style=\"fill:none;stroke:#000000;stroke-linecap:square;stroke-linejoin:miter;stroke-width:0.8;\"/>\n   </g>\n   <g id=\"patch_4\">\n    <path d=\"M 378.58125 224.64 \nL 378.58125 7.2 \n\" style=\"fill:none;stroke:#000000;stroke-linecap:square;stroke-linejoin:miter;stroke-width:0.8;\"/>\n   </g>\n   <g id=\"patch_5\">\n    <path d=\"M 43.78125 224.64 \nL 378.58125 224.64 \n\" style=\"fill:none;stroke:#000000;stroke-linecap:square;stroke-linejoin:miter;stroke-width:0.8;\"/>\n   </g>\n   <g id=\"patch_6\">\n    <path d=\"M 43.78125 7.2 \nL 378.58125 7.2 \n\" style=\"fill:none;stroke:#000000;stroke-linecap:square;stroke-linejoin:miter;stroke-width:0.8;\"/>\n   </g>\n   <g id=\"legend_1\">\n    <g id=\"patch_7\">\n     <path d=\"M 290.48125 44.55625 \nL 371.58125 44.55625 \nQ 373.58125 44.55625 373.58125 42.55625 \nL 373.58125 14.2 \nQ 373.58125 12.2 371.58125 12.2 \nL 290.48125 12.2 \nQ 288.48125 12.2 288.48125 14.2 \nL 288.48125 42.55625 \nQ 288.48125 44.55625 290.48125 44.55625 \nz\n\" style=\"fill:#ffffff;opacity:0.8;stroke:#cccccc;stroke-linejoin:miter;\"/>\n    </g>\n    <g id=\"line2d_14\">\n     <path d=\"M 292.48125 20.298437 \nL 312.48125 20.298437 \n\" style=\"fill:none;stroke:#000000;stroke-linecap:square;stroke-width:1.5;\"/>\n    </g>\n    <g id=\"line2d_15\"/>\n    <g id=\"text_15\">\n     <!-- Train Loss -->\n     <g transform=\"translate(320.48125 23.798437)scale(0.1 -0.1)\">\n      <defs>\n       <path d=\"M -0.296875 72.90625 \nL 61.375 72.90625 \nL 61.375 64.59375 \nL 35.5 64.59375 \nL 35.5 0 \nL 25.59375 0 \nL 25.59375 64.59375 \nL -0.296875 64.59375 \nz\n\" id=\"DejaVuSans-84\"/>\n       <path d=\"M 9.8125 72.90625 \nL 19.671875 72.90625 \nL 19.671875 8.296875 \nL 55.171875 8.296875 \nL 55.171875 0 \nL 9.8125 0 \nz\n\" id=\"DejaVuSans-76\"/>\n      </defs>\n      <use xlink:href=\"#DejaVuSans-84\"/>\n      <use x=\"46.333984\" xlink:href=\"#DejaVuSans-114\"/>\n      <use x=\"87.447266\" xlink:href=\"#DejaVuSans-97\"/>\n      <use x=\"148.726562\" xlink:href=\"#DejaVuSans-105\"/>\n      <use x=\"176.509766\" xlink:href=\"#DejaVuSans-110\"/>\n      <use x=\"239.888672\" xlink:href=\"#DejaVuSans-32\"/>\n      <use x=\"271.675781\" xlink:href=\"#DejaVuSans-76\"/>\n      <use x=\"325.638672\" xlink:href=\"#DejaVuSans-111\"/>\n      <use x=\"386.820312\" xlink:href=\"#DejaVuSans-115\"/>\n      <use x=\"438.919922\" xlink:href=\"#DejaVuSans-115\"/>\n     </g>\n    </g>\n    <g id=\"PathCollection_2\">\n     <g>\n      <use style=\"fill:#ff0000;stroke:#ff0000;\" x=\"302.48125\" xlink:href=\"#m7fd8f14162\" y=\"35.851562\"/>\n     </g>\n    </g>\n    <g id=\"text_16\">\n     <!-- Test Loss -->\n     <g transform=\"translate(320.48125 38.476562)scale(0.1 -0.1)\">\n      <use xlink:href=\"#DejaVuSans-84\"/>\n      <use x=\"44.083984\" xlink:href=\"#DejaVuSans-101\"/>\n      <use x=\"105.607422\" xlink:href=\"#DejaVuSans-115\"/>\n      <use x=\"157.707031\" xlink:href=\"#DejaVuSans-116\"/>\n      <use x=\"196.916016\" xlink:href=\"#DejaVuSans-32\"/>\n      <use x=\"228.703125\" xlink:href=\"#DejaVuSans-76\"/>\n      <use x=\"282.666016\" xlink:href=\"#DejaVuSans-111\"/>\n      <use x=\"343.847656\" xlink:href=\"#DejaVuSans-115\"/>\n      <use x=\"395.947266\" xlink:href=\"#DejaVuSans-115\"/>\n     </g>\n    </g>\n   </g>\n  </g>\n </g>\n <defs>\n  <clipPath id=\"p861d05433b\">\n   <rect height=\"217.44\" width=\"334.8\" x=\"43.78125\" y=\"7.2\"/>\n  </clipPath>\n </defs>\n</svg>\n",
      "image/png": "[encoded data removed]"
     },
     "metadata": {
      "needs_background": "light"
     }
    }
   ],
   "source": [
    "#plotting\n",
    "fig = plt.figure()\n",
    "plt.plot(train_counter, train_losses, color='black')\n",
    "plt.scatter(test_counter, test_losses, color='red')\n",
    "plt.legend(['Train Loss', 'Test Loss'], loc='upper right')\n",
    "plt.xlabel('number of training examples seen')\n",
    "plt.ylabel('negative log likelihood loss')\n",
    "fig"
   ]
  }
 ],
 "metadata": {
  "colab": {
   "collapsed_sections": [
    "rX8mhOLljYeM"
   ],
   "name": "beginner.ipynb",
   "toc_visible": true
  },
  "kernelspec": {
   "display_name": "Python 3",
   "language": "python",
   "name": "python3"
  },
  "language_info": {
   "codemirror_mode": {
    "name": "ipython",
    "version": 3
   },
   "file_extension": ".py",
   "mimetype": "text/x-python",
   "name": "python",
   "nbconvert_exporter": "python",
   "pygments_lexer": "ipython3",
   "version": "3.7.3-final"
  }
 },
 "nbformat": 4,
 "nbformat_minor": 1
}