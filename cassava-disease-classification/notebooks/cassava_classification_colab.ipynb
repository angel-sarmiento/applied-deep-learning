{
  "nbformat": 4,
  "nbformat_minor": 0,
  "metadata": {
    "language_info": {
      "codemirror_mode": {
        "name": "ipython",
        "version": 3
      },
      "file_extension": ".py",
      "mimetype": "text/x-python",
      "name": "python",
      "nbconvert_exporter": "python",
      "pygments_lexer": "ipython3",
      "version": "3.7.3-final"
    },
    "orig_nbformat": 2,
    "kernelspec": {
      "name": "python3",
      "display_name": "Python 3",
      "language": "python"
    },
    "colab": {
      "name": "cassava-classification.ipynb",
      "provenance": [],
      "collapsed_sections": []
    },
    "accelerator": "GPU",
    "widgets": {
      "application/vnd.jupyter.widget-state+json": {
        "fc268cfc962b46618280c9a6e66a23bf": {
          "model_module": "@jupyter-widgets/controls",
          "model_name": "HBoxModel",
          "state": {
            "_view_name": "HBoxView",
            "_dom_classes": [],
            "_model_name": "HBoxModel",
            "_view_module": "@jupyter-widgets/controls",
            "_model_module_version": "1.5.0",
            "_view_count": null,
            "_view_module_version": "1.5.0",
            "box_style": "",
            "layout": "IPY_MODEL_1af4bec7a61543338eb09c52b998271a",
            "_model_module": "@jupyter-widgets/controls",
            "children": [
              "IPY_MODEL_ecbfd5e14d7b4a9a9ad2806e95483cf5",
              "IPY_MODEL_6667a669fb8b4ac4b9b97e85c1e1ffe6"
            ]
          }
        },
        "1af4bec7a61543338eb09c52b998271a": {
          "model_module": "@jupyter-widgets/base",
          "model_name": "LayoutModel",
          "state": {
            "_view_name": "LayoutView",
            "grid_template_rows": null,
            "right": null,
            "justify_content": null,
            "_view_module": "@jupyter-widgets/base",
            "overflow": null,
            "_model_module_version": "1.2.0",
            "_view_count": null,
            "flex_flow": null,
            "width": null,
            "min_width": null,
            "border": null,
            "align_items": null,
            "bottom": null,
            "_model_module": "@jupyter-widgets/base",
            "top": null,
            "grid_column": null,
            "overflow_y": null,
            "overflow_x": null,
            "grid_auto_flow": null,
            "grid_area": null,
            "grid_template_columns": null,
            "flex": null,
            "_model_name": "LayoutModel",
            "justify_items": null,
            "grid_row": null,
            "max_height": null,
            "align_content": null,
            "visibility": null,
            "align_self": null,
            "height": null,
            "min_height": null,
            "padding": null,
            "grid_auto_rows": null,
            "grid_gap": null,
            "max_width": null,
            "order": null,
            "_view_module_version": "1.2.0",
            "grid_template_areas": null,
            "object_position": null,
            "object_fit": null,
            "grid_auto_columns": null,
            "margin": null,
            "display": null,
            "left": null
          }
        },
        "ecbfd5e14d7b4a9a9ad2806e95483cf5": {
          "model_module": "@jupyter-widgets/controls",
          "model_name": "FloatProgressModel",
          "state": {
            "_view_name": "ProgressView",
            "style": "IPY_MODEL_7aa229df6e2d4ceda560425324c68109",
            "_dom_classes": [],
            "description": "100%",
            "_model_name": "FloatProgressModel",
            "bar_style": "success",
            "max": 102502400,
            "_view_module": "@jupyter-widgets/controls",
            "_model_module_version": "1.5.0",
            "value": 102502400,
            "_view_count": null,
            "_view_module_version": "1.5.0",
            "orientation": "horizontal",
            "min": 0,
            "description_tooltip": null,
            "_model_module": "@jupyter-widgets/controls",
            "layout": "IPY_MODEL_b9b6a0e98c7a46cfb5af7e7620fa3c23"
          }
        },
        "6667a669fb8b4ac4b9b97e85c1e1ffe6": {
          "model_module": "@jupyter-widgets/controls",
          "model_name": "HTMLModel",
          "state": {
            "_view_name": "HTMLView",
            "style": "IPY_MODEL_3a9478397ef340c5838f148a5412c80f",
            "_dom_classes": [],
            "description": "",
            "_model_name": "HTMLModel",
            "placeholder": "​",
            "_view_module": "@jupyter-widgets/controls",
            "_model_module_version": "1.5.0",
            "value": " 97.8M/97.8M [00:56&lt;00:00, 1.80MB/s]",
            "_view_count": null,
            "_view_module_version": "1.5.0",
            "description_tooltip": null,
            "_model_module": "@jupyter-widgets/controls",
            "layout": "IPY_MODEL_d083d823d88e4c04b08f91d18f2877e9"
          }
        },
        "7aa229df6e2d4ceda560425324c68109": {
          "model_module": "@jupyter-widgets/controls",
          "model_name": "ProgressStyleModel",
          "state": {
            "_view_name": "StyleView",
            "_model_name": "ProgressStyleModel",
            "description_width": "initial",
            "_view_module": "@jupyter-widgets/base",
            "_model_module_version": "1.5.0",
            "_view_count": null,
            "_view_module_version": "1.2.0",
            "bar_color": null,
            "_model_module": "@jupyter-widgets/controls"
          }
        },
        "b9b6a0e98c7a46cfb5af7e7620fa3c23": {
          "model_module": "@jupyter-widgets/base",
          "model_name": "LayoutModel",
          "state": {
            "_view_name": "LayoutView",
            "grid_template_rows": null,
            "right": null,
            "justify_content": null,
            "_view_module": "@jupyter-widgets/base",
            "overflow": null,
            "_model_module_version": "1.2.0",
            "_view_count": null,
            "flex_flow": null,
            "width": null,
            "min_width": null,
            "border": null,
            "align_items": null,
            "bottom": null,
            "_model_module": "@jupyter-widgets/base",
            "top": null,
            "grid_column": null,
            "overflow_y": null,
            "overflow_x": null,
            "grid_auto_flow": null,
            "grid_area": null,
            "grid_template_columns": null,
            "flex": null,
            "_model_name": "LayoutModel",
            "justify_items": null,
            "grid_row": null,
            "max_height": null,
            "align_content": null,
            "visibility": null,
            "align_self": null,
            "height": null,
            "min_height": null,
            "padding": null,
            "grid_auto_rows": null,
            "grid_gap": null,
            "max_width": null,
            "order": null,
            "_view_module_version": "1.2.0",
            "grid_template_areas": null,
            "object_position": null,
            "object_fit": null,
            "grid_auto_columns": null,
            "margin": null,
            "display": null,
            "left": null
          }
        },
        "3a9478397ef340c5838f148a5412c80f": {
          "model_module": "@jupyter-widgets/controls",
          "model_name": "DescriptionStyleModel",
          "state": {
            "_view_name": "StyleView",
            "_model_name": "DescriptionStyleModel",
            "description_width": "",
            "_view_module": "@jupyter-widgets/base",
            "_model_module_version": "1.5.0",
            "_view_count": null,
            "_view_module_version": "1.2.0",
            "_model_module": "@jupyter-widgets/controls"
          }
        },
        "d083d823d88e4c04b08f91d18f2877e9": {
          "model_module": "@jupyter-widgets/base",
          "model_name": "LayoutModel",
          "state": {
            "_view_name": "LayoutView",
            "grid_template_rows": null,
            "right": null,
            "justify_content": null,
            "_view_module": "@jupyter-widgets/base",
            "overflow": null,
            "_model_module_version": "1.2.0",
            "_view_count": null,
            "flex_flow": null,
            "width": null,
            "min_width": null,
            "border": null,
            "align_items": null,
            "bottom": null,
            "_model_module": "@jupyter-widgets/base",
            "top": null,
            "grid_column": null,
            "overflow_y": null,
            "overflow_x": null,
            "grid_auto_flow": null,
            "grid_area": null,
            "grid_template_columns": null,
            "flex": null,
            "_model_name": "LayoutModel",
            "justify_items": null,
            "grid_row": null,
            "max_height": null,
            "align_content": null,
            "visibility": null,
            "align_self": null,
            "height": null,
            "min_height": null,
            "padding": null,
            "grid_auto_rows": null,
            "grid_gap": null,
            "max_width": null,
            "order": null,
            "_view_module_version": "1.2.0",
            "grid_template_areas": null,
            "object_position": null,
            "object_fit": null,
            "grid_auto_columns": null,
            "margin": null,
            "display": null,
            "left": null
          }
        }
      }
    }
  },
  "cells": [
    {
      "cell_type": "markdown",
      "metadata": {
        "id": "1xKqoNjvkelI"
      },
      "source": [
        "# Cassava Disease Classification Using Transfer Learning with ResNet50 \n",
        "\n",
        "## Angel Sarmiento\n",
        "https://www.kaggle.com/c/cassava-disease/data\n",
        "\n",
        "\n",
        "\n",
        "\n",
        "\n",
        "### Introduction\n",
        "\n",
        "This programming assignment correspond to a real Kaggle context: iCassava 2019 Fine-Grained Visual Categorization Challenge.  \n",
        "\n",
        "\n",
        "### Problem Description\n",
        "\n",
        "As the 2nd largest provider of carbohydrates in Africa, cassava is a key food security crop grown by small-holder farmers because it can withstand harsh conditions. At least 80% of small-holder farmer households in Sub-Saharan Africa grow cassava and viral diseases are major sources of poor yields. In this assignment, we introduce a dataset of 5 fine-grained cassava leaf disease categories with 9,436 labeled images collected during a regular survey in Uganda, mostly crowdsourced from farmers taking images of their gardens, and annotated by experts at the National Crops Resources Research Institute (NaCRRI) in collaboration with the AI lab in Makarere University, Kampala. The dataset consists of leaf images of the cassava plant, with 9,436 annotated images and 12,595 unlabeled images of cassava leaves.\n",
        "\n",
        "### Goals\n",
        "\n",
        "The goal is to learn a model to classify a given image into these 4 disease categories or a 5th category indicating a healthy leaf, using the images in the training data. \n"
      ]
    },
    {
      "cell_type": "code",
      "metadata": {
        "id": "ubGMcRSMoZdo",
        "colab": {
          "base_uri": "https://localhost:8080/"
        },
        "outputId": "b599e560-bf70-4a3d-a219-af4997a290fe"
      },
      "source": [
        "#from google.colab import drive\n",
        "#drive.mount('/content/drive')"
      ],
      "execution_count": null,
      "outputs": [
        {
          "output_type": "stream",
          "text": [
            "Mounted at /content/drive\n"
          ],
          "name": "stdout"
        }
      ]
    },
    {
      "cell_type": "code",
      "metadata": {
        "id": "OR7mMWCQkelJ"
      },
      "source": [
        "# Importing Libraries\n",
        "\n",
        "import torch\n",
        "import torchvision\n",
        "from torchsummary import summary\n",
        "from os import listdir\n",
        "\n",
        "import torch.nn as nn\n",
        "import torch.nn.functional as F\n",
        "import torch.optim as optim\n",
        "from torchvision import transforms, datasets, models\n",
        "\n",
        "import matplotlib.pyplot as plt\n",
        "%matplotlib inline\n",
        "\n",
        "# This is absolutely necessary to pull models from torchvision\n",
        "import ssl\n",
        "ssl._create_default_https_context = ssl._create_unverified_context"
      ],
      "execution_count": null,
      "outputs": []
    },
    {
      "cell_type": "code",
      "metadata": {
        "id": "2dHajGHYrRxL"
      },
      "source": [],
      "execution_count": null,
      "outputs": []
    },
    {
      "cell_type": "code",
      "metadata": {
        "id": "WRshVN6ZkelK",
        "colab": {
          "base_uri": "https://localhost:8080/"
        },
        "outputId": "7277873c-4009-4bd1-d013-c7e9014418a5"
      },
      "source": [
        "# setting the directory for the data\n",
        "## NOTE: all data was imported using the kaggle API with the following command\n",
        "# kaggle competitions download -c cassava-disease\n",
        "\n",
        "data_directory = '/content/drive/MyDrive/Colab Notebooks/cassava-disease/train'\n",
        "\n",
        "listdir()"
      ],
      "execution_count": null,
      "outputs": [
        {
          "output_type": "execute_result",
          "data": {
            "text/plain": [
              "['.config', 'drive', 'sample_data']"
            ]
          },
          "metadata": {
            "tags": []
          },
          "execution_count": 10
        }
      ]
    },
    {
      "cell_type": "markdown",
      "metadata": {
        "id": "FLbAH2uEOyGz"
      },
      "source": [
        "## Data Augmentation\r\n",
        "\r\n",
        "This set of calls will set the device for calculations as 'GPU', transform the data out-of-place for augmentation, and normalize the data. Torch allows me to do it this way so as not to have to save more data in RAM."
      ]
    },
    {
      "cell_type": "code",
      "metadata": {
        "id": "Xr0SmT6ykelK"
      },
      "source": [
        "# setting some parameters\n",
        "n_epochs = 50\n",
        "\n",
        "# seed for reproducability\n",
        "random_seed = 1\n",
        "torch.manual_seed(random_seed)\n",
        "\n",
        "# setting up GPU training\n",
        "device = torch.device(\"cuda\" if torch.cuda.is_available() else \"cpu\")"
      ],
      "execution_count": null,
      "outputs": []
    },
    {
      "cell_type": "code",
      "metadata": {
        "id": "rBddt38CkelL"
      },
      "source": [
        "# getting a set of augmentations to apply to the images\n",
        "train_transforms = transforms.Compose([\n",
        "        transforms.RandomHorizontalFlip(),\n",
        "        transforms.RandomVerticalFlip(),\n",
        "        transforms.Resize(500),\n",
        "        transforms.CenterCrop(500),\n",
        "        transforms.ToTensor(),\n",
        "        transforms.Normalize(mean=[0.485, 0.456, 0.406], std=[0.229, 0.224, 0.225])\n",
        "])\n",
        "\n",
        "# getting the training data and setting up a train loader\n",
        "train_data = datasets.ImageFolder(data_directory,transform=train_transforms)\n",
        "trainloader = torch.utils.data.DataLoader(train_data, batch_size=32, shuffle=True)\n",
        "\n",
        "# transforming the testing data as well \n",
        "test_transforms = transforms.Compose([\n",
        "        transforms.RandomHorizontalFlip(),\n",
        "        transforms.RandomVerticalFlip(),\n",
        "        transforms.Resize(500),\n",
        "        transforms.CenterCrop(500),\n",
        "        transforms.ToTensor(),\n",
        "        # this is the normalization component, one for each channel\n",
        "        transforms.Normalize(mean=[0.485, 0.456, 0.406], std=[0.229, 0.224, 0.225])\n",
        "])\n",
        "\n",
        "# Doing the same with the test data\n",
        "test_data = datasets.ImageFolder(data_directory,transform=test_transforms)\n",
        "testloader = torch.utils.data.DataLoader(test_data, batch_size=32, shuffle=False)"
      ],
      "execution_count": null,
      "outputs": []
    },
    {
      "cell_type": "code",
      "metadata": {
        "colab": {
          "base_uri": "https://localhost:8080/"
        },
        "id": "bb4Yref5kelL",
        "outputId": "4d76f785-9612-43cf-a9a5-7ffb14f4f4d6"
      },
      "source": [
        "# this is for later and also to make sure that pytorch is importing the proper class names (based on the folder names)\n",
        "class_names = trainloader.dataset.classes\n",
        "class_names"
      ],
      "execution_count": null,
      "outputs": [
        {
          "output_type": "execute_result",
          "data": {
            "text/plain": [
              "['cbb', 'cbsd', 'cgm', 'cmd', 'healthy']"
            ]
          },
          "metadata": {
            "tags": []
          },
          "execution_count": 13
        }
      ]
    },
    {
      "cell_type": "markdown",
      "metadata": {
        "id": "lBlnIxeSPGdx"
      },
      "source": [
        "## Pre-Trained Model for Transfer Learning\r\n",
        "\r\n",
        "The model chosen here will be ResNet50. A model pretrained using ImageNet data. This CNN has about 50 layers, but is not the only way I will train this model. \r\n",
        "I have decided to add two extra fully connected layers to the end, the first one with **ReLU** activation and the final one as a LogSoftmax layer. The optimizer chosen is **Adam** and the loss function chosen here is Negative Log Likelihood. The main reason for this decision is that I would need to add another layer in order to use Softmax and Cross Entropy cost instead.  "
      ]
    },
    {
      "cell_type": "code",
      "metadata": {
        "id": "oIZJzMVTkelM",
        "colab": {
          "base_uri": "https://localhost:8080/",
          "height": 83,
          "referenced_widgets": [
            "fc268cfc962b46618280c9a6e66a23bf",
            "1af4bec7a61543338eb09c52b998271a",
            "ecbfd5e14d7b4a9a9ad2806e95483cf5",
            "6667a669fb8b4ac4b9b97e85c1e1ffe6",
            "7aa229df6e2d4ceda560425324c68109",
            "b9b6a0e98c7a46cfb5af7e7620fa3c23",
            "3a9478397ef340c5838f148a5412c80f",
            "d083d823d88e4c04b08f91d18f2877e9"
          ]
        },
        "outputId": "c928f946-60bc-4b20-a0e4-cef0258d741c"
      },
      "source": [
        "#importing a pretrained model\n",
        "model = models.resnet50(pretrained = True)"
      ],
      "execution_count": null,
      "outputs": [
        {
          "output_type": "stream",
          "text": [
            "Downloading: \"https://download.pytorch.org/models/resnet50-19c8e357.pth\" to /root/.cache/torch/hub/checkpoints/resnet50-19c8e357.pth\n"
          ],
          "name": "stderr"
        },
        {
          "output_type": "display_data",
          "data": {
            "application/vnd.jupyter.widget-view+json": {
              "model_id": "fc268cfc962b46618280c9a6e66a23bf",
              "version_minor": 0,
              "version_major": 2
            },
            "text/plain": [
              "HBox(children=(FloatProgress(value=0.0, max=102502400.0), HTML(value='')))"
            ]
          },
          "metadata": {
            "tags": []
          }
        },
        {
          "output_type": "stream",
          "text": [
            "\n"
          ],
          "name": "stdout"
        }
      ]
    },
    {
      "cell_type": "code",
      "metadata": {
        "id": "iYqJRYS1kelM",
        "colab": {
          "base_uri": "https://localhost:8080/"
        },
        "outputId": "09ec8fcd-ffcc-4a59-e7d9-cf116472b7d2"
      },
      "source": [
        "# this is to 'freeze' the ResNet part of my model, since its already been trained\n",
        "for param in model.parameters():\n",
        "    param.requires_grad = False\n",
        "\n",
        "\n",
        "# this changes the final set of layers defined in 'fc' above\n",
        "# essentially, 1 Fully connected layer with ReLU activation and dropout\n",
        "# then another fully connected layer with output = 5 for the 5 classes using LogSoftmax activation\n",
        "model.fc = nn.Sequential(nn.Linear(2048, 512),\n",
        "                                 nn.ReLU(),\n",
        "                                 nn.Dropout(0.2),\n",
        "                                 nn.Linear(512, 5),\n",
        "                                 nn.LogSoftmax(dim=1))\n",
        "\n",
        "# setting the loss function                                 \n",
        "criterion = nn.NLLLoss()\n",
        "# setting the optimizer as Adam\n",
        "optimizer = optim.Adam(model.fc.parameters(), lr=0.004)\n",
        "\n",
        "model.to(device)"
      ],
      "execution_count": null,
      "outputs": [
        {
          "output_type": "execute_result",
          "data": {
            "text/plain": [
              "ResNet(\n",
              "  (conv1): Conv2d(3, 64, kernel_size=(7, 7), stride=(2, 2), padding=(3, 3), bias=False)\n",
              "  (bn1): BatchNorm2d(64, eps=1e-05, momentum=0.1, affine=True, track_running_stats=True)\n",
              "  (relu): ReLU(inplace=True)\n",
              "  (maxpool): MaxPool2d(kernel_size=3, stride=2, padding=1, dilation=1, ceil_mode=False)\n",
              "  (layer1): Sequential(\n",
              "    (0): Bottleneck(\n",
              "      (conv1): Conv2d(64, 64, kernel_size=(1, 1), stride=(1, 1), bias=False)\n",
              "      (bn1): BatchNorm2d(64, eps=1e-05, momentum=0.1, affine=True, track_running_stats=True)\n",
              "      (conv2): Conv2d(64, 64, kernel_size=(3, 3), stride=(1, 1), padding=(1, 1), bias=False)\n",
              "      (bn2): BatchNorm2d(64, eps=1e-05, momentum=0.1, affine=True, track_running_stats=True)\n",
              "      (conv3): Conv2d(64, 256, kernel_size=(1, 1), stride=(1, 1), bias=False)\n",
              "      (bn3): BatchNorm2d(256, eps=1e-05, momentum=0.1, affine=True, track_running_stats=True)\n",
              "      (relu): ReLU(inplace=True)\n",
              "      (downsample): Sequential(\n",
              "        (0): Conv2d(64, 256, kernel_size=(1, 1), stride=(1, 1), bias=False)\n",
              "        (1): BatchNorm2d(256, eps=1e-05, momentum=0.1, affine=True, track_running_stats=True)\n",
              "      )\n",
              "    )\n",
              "    (1): Bottleneck(\n",
              "      (conv1): Conv2d(256, 64, kernel_size=(1, 1), stride=(1, 1), bias=False)\n",
              "      (bn1): BatchNorm2d(64, eps=1e-05, momentum=0.1, affine=True, track_running_stats=True)\n",
              "      (conv2): Conv2d(64, 64, kernel_size=(3, 3), stride=(1, 1), padding=(1, 1), bias=False)\n",
              "      (bn2): BatchNorm2d(64, eps=1e-05, momentum=0.1, affine=True, track_running_stats=True)\n",
              "      (conv3): Conv2d(64, 256, kernel_size=(1, 1), stride=(1, 1), bias=False)\n",
              "      (bn3): BatchNorm2d(256, eps=1e-05, momentum=0.1, affine=True, track_running_stats=True)\n",
              "      (relu): ReLU(inplace=True)\n",
              "    )\n",
              "    (2): Bottleneck(\n",
              "      (conv1): Conv2d(256, 64, kernel_size=(1, 1), stride=(1, 1), bias=False)\n",
              "      (bn1): BatchNorm2d(64, eps=1e-05, momentum=0.1, affine=True, track_running_stats=True)\n",
              "      (conv2): Conv2d(64, 64, kernel_size=(3, 3), stride=(1, 1), padding=(1, 1), bias=False)\n",
              "      (bn2): BatchNorm2d(64, eps=1e-05, momentum=0.1, affine=True, track_running_stats=True)\n",
              "      (conv3): Conv2d(64, 256, kernel_size=(1, 1), stride=(1, 1), bias=False)\n",
              "      (bn3): BatchNorm2d(256, eps=1e-05, momentum=0.1, affine=True, track_running_stats=True)\n",
              "      (relu): ReLU(inplace=True)\n",
              "    )\n",
              "  )\n",
              "  (layer2): Sequential(\n",
              "    (0): Bottleneck(\n",
              "      (conv1): Conv2d(256, 128, kernel_size=(1, 1), stride=(1, 1), bias=False)\n",
              "      (bn1): BatchNorm2d(128, eps=1e-05, momentum=0.1, affine=True, track_running_stats=True)\n",
              "      (conv2): Conv2d(128, 128, kernel_size=(3, 3), stride=(2, 2), padding=(1, 1), bias=False)\n",
              "      (bn2): BatchNorm2d(128, eps=1e-05, momentum=0.1, affine=True, track_running_stats=True)\n",
              "      (conv3): Conv2d(128, 512, kernel_size=(1, 1), stride=(1, 1), bias=False)\n",
              "      (bn3): BatchNorm2d(512, eps=1e-05, momentum=0.1, affine=True, track_running_stats=True)\n",
              "      (relu): ReLU(inplace=True)\n",
              "      (downsample): Sequential(\n",
              "        (0): Conv2d(256, 512, kernel_size=(1, 1), stride=(2, 2), bias=False)\n",
              "        (1): BatchNorm2d(512, eps=1e-05, momentum=0.1, affine=True, track_running_stats=True)\n",
              "      )\n",
              "    )\n",
              "    (1): Bottleneck(\n",
              "      (conv1): Conv2d(512, 128, kernel_size=(1, 1), stride=(1, 1), bias=False)\n",
              "      (bn1): BatchNorm2d(128, eps=1e-05, momentum=0.1, affine=True, track_running_stats=True)\n",
              "      (conv2): Conv2d(128, 128, kernel_size=(3, 3), stride=(1, 1), padding=(1, 1), bias=False)\n",
              "      (bn2): BatchNorm2d(128, eps=1e-05, momentum=0.1, affine=True, track_running_stats=True)\n",
              "      (conv3): Conv2d(128, 512, kernel_size=(1, 1), stride=(1, 1), bias=False)\n",
              "      (bn3): BatchNorm2d(512, eps=1e-05, momentum=0.1, affine=True, track_running_stats=True)\n",
              "      (relu): ReLU(inplace=True)\n",
              "    )\n",
              "    (2): Bottleneck(\n",
              "      (conv1): Conv2d(512, 128, kernel_size=(1, 1), stride=(1, 1), bias=False)\n",
              "      (bn1): BatchNorm2d(128, eps=1e-05, momentum=0.1, affine=True, track_running_stats=True)\n",
              "      (conv2): Conv2d(128, 128, kernel_size=(3, 3), stride=(1, 1), padding=(1, 1), bias=False)\n",
              "      (bn2): BatchNorm2d(128, eps=1e-05, momentum=0.1, affine=True, track_running_stats=True)\n",
              "      (conv3): Conv2d(128, 512, kernel_size=(1, 1), stride=(1, 1), bias=False)\n",
              "      (bn3): BatchNorm2d(512, eps=1e-05, momentum=0.1, affine=True, track_running_stats=True)\n",
              "      (relu): ReLU(inplace=True)\n",
              "    )\n",
              "    (3): Bottleneck(\n",
              "      (conv1): Conv2d(512, 128, kernel_size=(1, 1), stride=(1, 1), bias=False)\n",
              "      (bn1): BatchNorm2d(128, eps=1e-05, momentum=0.1, affine=True, track_running_stats=True)\n",
              "      (conv2): Conv2d(128, 128, kernel_size=(3, 3), stride=(1, 1), padding=(1, 1), bias=False)\n",
              "      (bn2): BatchNorm2d(128, eps=1e-05, momentum=0.1, affine=True, track_running_stats=True)\n",
              "      (conv3): Conv2d(128, 512, kernel_size=(1, 1), stride=(1, 1), bias=False)\n",
              "      (bn3): BatchNorm2d(512, eps=1e-05, momentum=0.1, affine=True, track_running_stats=True)\n",
              "      (relu): ReLU(inplace=True)\n",
              "    )\n",
              "  )\n",
              "  (layer3): Sequential(\n",
              "    (0): Bottleneck(\n",
              "      (conv1): Conv2d(512, 256, kernel_size=(1, 1), stride=(1, 1), bias=False)\n",
              "      (bn1): BatchNorm2d(256, eps=1e-05, momentum=0.1, affine=True, track_running_stats=True)\n",
              "      (conv2): Conv2d(256, 256, kernel_size=(3, 3), stride=(2, 2), padding=(1, 1), bias=False)\n",
              "      (bn2): BatchNorm2d(256, eps=1e-05, momentum=0.1, affine=True, track_running_stats=True)\n",
              "      (conv3): Conv2d(256, 1024, kernel_size=(1, 1), stride=(1, 1), bias=False)\n",
              "      (bn3): BatchNorm2d(1024, eps=1e-05, momentum=0.1, affine=True, track_running_stats=True)\n",
              "      (relu): ReLU(inplace=True)\n",
              "      (downsample): Sequential(\n",
              "        (0): Conv2d(512, 1024, kernel_size=(1, 1), stride=(2, 2), bias=False)\n",
              "        (1): BatchNorm2d(1024, eps=1e-05, momentum=0.1, affine=True, track_running_stats=True)\n",
              "      )\n",
              "    )\n",
              "    (1): Bottleneck(\n",
              "      (conv1): Conv2d(1024, 256, kernel_size=(1, 1), stride=(1, 1), bias=False)\n",
              "      (bn1): BatchNorm2d(256, eps=1e-05, momentum=0.1, affine=True, track_running_stats=True)\n",
              "      (conv2): Conv2d(256, 256, kernel_size=(3, 3), stride=(1, 1), padding=(1, 1), bias=False)\n",
              "      (bn2): BatchNorm2d(256, eps=1e-05, momentum=0.1, affine=True, track_running_stats=True)\n",
              "      (conv3): Conv2d(256, 1024, kernel_size=(1, 1), stride=(1, 1), bias=False)\n",
              "      (bn3): BatchNorm2d(1024, eps=1e-05, momentum=0.1, affine=True, track_running_stats=True)\n",
              "      (relu): ReLU(inplace=True)\n",
              "    )\n",
              "    (2): Bottleneck(\n",
              "      (conv1): Conv2d(1024, 256, kernel_size=(1, 1), stride=(1, 1), bias=False)\n",
              "      (bn1): BatchNorm2d(256, eps=1e-05, momentum=0.1, affine=True, track_running_stats=True)\n",
              "      (conv2): Conv2d(256, 256, kernel_size=(3, 3), stride=(1, 1), padding=(1, 1), bias=False)\n",
              "      (bn2): BatchNorm2d(256, eps=1e-05, momentum=0.1, affine=True, track_running_stats=True)\n",
              "      (conv3): Conv2d(256, 1024, kernel_size=(1, 1), stride=(1, 1), bias=False)\n",
              "      (bn3): BatchNorm2d(1024, eps=1e-05, momentum=0.1, affine=True, track_running_stats=True)\n",
              "      (relu): ReLU(inplace=True)\n",
              "    )\n",
              "    (3): Bottleneck(\n",
              "      (conv1): Conv2d(1024, 256, kernel_size=(1, 1), stride=(1, 1), bias=False)\n",
              "      (bn1): BatchNorm2d(256, eps=1e-05, momentum=0.1, affine=True, track_running_stats=True)\n",
              "      (conv2): Conv2d(256, 256, kernel_size=(3, 3), stride=(1, 1), padding=(1, 1), bias=False)\n",
              "      (bn2): BatchNorm2d(256, eps=1e-05, momentum=0.1, affine=True, track_running_stats=True)\n",
              "      (conv3): Conv2d(256, 1024, kernel_size=(1, 1), stride=(1, 1), bias=False)\n",
              "      (bn3): BatchNorm2d(1024, eps=1e-05, momentum=0.1, affine=True, track_running_stats=True)\n",
              "      (relu): ReLU(inplace=True)\n",
              "    )\n",
              "    (4): Bottleneck(\n",
              "      (conv1): Conv2d(1024, 256, kernel_size=(1, 1), stride=(1, 1), bias=False)\n",
              "      (bn1): BatchNorm2d(256, eps=1e-05, momentum=0.1, affine=True, track_running_stats=True)\n",
              "      (conv2): Conv2d(256, 256, kernel_size=(3, 3), stride=(1, 1), padding=(1, 1), bias=False)\n",
              "      (bn2): BatchNorm2d(256, eps=1e-05, momentum=0.1, affine=True, track_running_stats=True)\n",
              "      (conv3): Conv2d(256, 1024, kernel_size=(1, 1), stride=(1, 1), bias=False)\n",
              "      (bn3): BatchNorm2d(1024, eps=1e-05, momentum=0.1, affine=True, track_running_stats=True)\n",
              "      (relu): ReLU(inplace=True)\n",
              "    )\n",
              "    (5): Bottleneck(\n",
              "      (conv1): Conv2d(1024, 256, kernel_size=(1, 1), stride=(1, 1), bias=False)\n",
              "      (bn1): BatchNorm2d(256, eps=1e-05, momentum=0.1, affine=True, track_running_stats=True)\n",
              "      (conv2): Conv2d(256, 256, kernel_size=(3, 3), stride=(1, 1), padding=(1, 1), bias=False)\n",
              "      (bn2): BatchNorm2d(256, eps=1e-05, momentum=0.1, affine=True, track_running_stats=True)\n",
              "      (conv3): Conv2d(256, 1024, kernel_size=(1, 1), stride=(1, 1), bias=False)\n",
              "      (bn3): BatchNorm2d(1024, eps=1e-05, momentum=0.1, affine=True, track_running_stats=True)\n",
              "      (relu): ReLU(inplace=True)\n",
              "    )\n",
              "  )\n",
              "  (layer4): Sequential(\n",
              "    (0): Bottleneck(\n",
              "      (conv1): Conv2d(1024, 512, kernel_size=(1, 1), stride=(1, 1), bias=False)\n",
              "      (bn1): BatchNorm2d(512, eps=1e-05, momentum=0.1, affine=True, track_running_stats=True)\n",
              "      (conv2): Conv2d(512, 512, kernel_size=(3, 3), stride=(2, 2), padding=(1, 1), bias=False)\n",
              "      (bn2): BatchNorm2d(512, eps=1e-05, momentum=0.1, affine=True, track_running_stats=True)\n",
              "      (conv3): Conv2d(512, 2048, kernel_size=(1, 1), stride=(1, 1), bias=False)\n",
              "      (bn3): BatchNorm2d(2048, eps=1e-05, momentum=0.1, affine=True, track_running_stats=True)\n",
              "      (relu): ReLU(inplace=True)\n",
              "      (downsample): Sequential(\n",
              "        (0): Conv2d(1024, 2048, kernel_size=(1, 1), stride=(2, 2), bias=False)\n",
              "        (1): BatchNorm2d(2048, eps=1e-05, momentum=0.1, affine=True, track_running_stats=True)\n",
              "      )\n",
              "    )\n",
              "    (1): Bottleneck(\n",
              "      (conv1): Conv2d(2048, 512, kernel_size=(1, 1), stride=(1, 1), bias=False)\n",
              "      (bn1): BatchNorm2d(512, eps=1e-05, momentum=0.1, affine=True, track_running_stats=True)\n",
              "      (conv2): Conv2d(512, 512, kernel_size=(3, 3), stride=(1, 1), padding=(1, 1), bias=False)\n",
              "      (bn2): BatchNorm2d(512, eps=1e-05, momentum=0.1, affine=True, track_running_stats=True)\n",
              "      (conv3): Conv2d(512, 2048, kernel_size=(1, 1), stride=(1, 1), bias=False)\n",
              "      (bn3): BatchNorm2d(2048, eps=1e-05, momentum=0.1, affine=True, track_running_stats=True)\n",
              "      (relu): ReLU(inplace=True)\n",
              "    )\n",
              "    (2): Bottleneck(\n",
              "      (conv1): Conv2d(2048, 512, kernel_size=(1, 1), stride=(1, 1), bias=False)\n",
              "      (bn1): BatchNorm2d(512, eps=1e-05, momentum=0.1, affine=True, track_running_stats=True)\n",
              "      (conv2): Conv2d(512, 512, kernel_size=(3, 3), stride=(1, 1), padding=(1, 1), bias=False)\n",
              "      (bn2): BatchNorm2d(512, eps=1e-05, momentum=0.1, affine=True, track_running_stats=True)\n",
              "      (conv3): Conv2d(512, 2048, kernel_size=(1, 1), stride=(1, 1), bias=False)\n",
              "      (bn3): BatchNorm2d(2048, eps=1e-05, momentum=0.1, affine=True, track_running_stats=True)\n",
              "      (relu): ReLU(inplace=True)\n",
              "    )\n",
              "  )\n",
              "  (avgpool): AdaptiveAvgPool2d(output_size=(1, 1))\n",
              "  (fc): Sequential(\n",
              "    (0): Linear(in_features=2048, out_features=512, bias=True)\n",
              "    (1): ReLU()\n",
              "    (2): Dropout(p=0.2, inplace=False)\n",
              "    (3): Linear(in_features=512, out_features=5, bias=True)\n",
              "    (4): LogSoftmax(dim=1)\n",
              "  )\n",
              ")"
            ]
          },
          "metadata": {
            "tags": []
          },
          "execution_count": 15
        }
      ]
    },
    {
      "cell_type": "code",
      "metadata": {
        "id": "Mj8Hng2AkelN"
      },
      "source": [
        "# creating a bunch of lists so that I can append the values and use them for plotting \n",
        "epoch_num, train_accuracy, test_accuracy, train_loss_list, val_loss_list = [], [], [], [], []"
      ],
      "execution_count": null,
      "outputs": []
    },
    {
      "cell_type": "markdown",
      "metadata": {
        "id": "xFA684ARQFCK"
      },
      "source": [
        "## Training loop\r\n",
        "\r\n",
        "This is just the typical training loop. This takes a **long** time, even with gpu training on Google Colab. So in order for this to run, I had to make a script to continuously add a new code chunk to make sure that Colab did not time out. Unfortunately, I still needed to be there once the model finished, since colab will still close out if nothing is running anymore (despite the script). "
      ]
    },
    {
      "cell_type": "code",
      "metadata": {
        "id": "zchzJuiZkelN",
        "colab": {
          "base_uri": "https://localhost:8080/"
        },
        "outputId": "58053299-a86f-41bf-b704-46cc56136a16"
      },
      "source": [
        "# training loop \n",
        "for epoch in range(n_epochs): \n",
        "    train_loss = 0\n",
        "    val_loss = 0\n",
        "    accuracy = 0\n",
        "\n",
        "    #actual training\n",
        "    model.train()\n",
        "    counter = 0\n",
        "    # Train Loop\n",
        "    for inputs, labels in trainloader:\n",
        "        \n",
        "        #gpu training (on colab only)\n",
        "        inputs, labels = inputs.to(device), labels.to(device)\n",
        "\n",
        "        #zeroing the gradients\n",
        "        optimizer.zero_grad()\n",
        "\n",
        "        #forward\n",
        "        output = model.forward(inputs)\n",
        "        #loss \n",
        "        loss = criterion(output, labels)\n",
        "        \n",
        "        # backprop and adjusting parameters from gradient calculations\n",
        "        loss.backward()\n",
        "        optimizer.step()\n",
        "\n",
        "        #adding loss to the lists\n",
        "        train_loss += loss.item()*inputs.size(0)\n",
        "        counter += 1\n",
        "        #print(counter, '/', len(trainloader))\n",
        "    # evaluating the model\n",
        "    model.eval()\n",
        "    counter = 0\n",
        "\n",
        "    # Test Loop\n",
        "    #telling torch not to calculate the gradients and make no optimizer steps\n",
        "    with torch.no_grad():\n",
        "        for inputs, labels in testloader:\n",
        "            inputs, labels = inputs.to(device), labels.to(device)\n",
        "\n",
        "            output = model.forward(inputs)\n",
        "            #val loss calculation\n",
        "            val = criterion(output, labels)\n",
        "\n",
        "            #adding it to the existing loss\n",
        "            val_loss += val.item()*inputs.size(0)\n",
        "            #getting the real percentage by reversing the logsoftmax in the final output layer\n",
        "            output = torch.exp(output)\n",
        "            # getting the class with the highest probability from the output\n",
        "            top_p, top_class = output.topk(1, dim=1)\n",
        "            # which ones were correct\n",
        "            correct = top_class == labels.view(*top_class.shape)\n",
        "\n",
        "            #get the mean for each batch\n",
        "            accuracy += torch.mean(correct.type(torch.FloatTensor)).item()\n",
        "            counter +=1\n",
        "\n",
        "            #print(counter, '/', len(testloader))\n",
        "\n",
        "    #appending to lists\n",
        "    train_loss = train_loss/len(trainloader.dataset)\n",
        "    train_loss_list.append(train_loss)\n",
        "    valid_l = val_loss/len(testloader.dataset)\n",
        "    val_loss_list.append(valid_l)\n",
        "    train_acc = accuracy/len(trainloader)\n",
        "    train_accuracy.append(train_acc)\n",
        "    test_acc = accuracy/len(testloader)\n",
        "    test_accuracy.append(test_acc)\n",
        "    epoch_num.append(epoch)\n",
        "\n",
        "    print(f'Epoch: {epoch}, Accuracy: {test_acc}, Train loss: {train_loss}, Valid loss: {valid_l}')"
      ],
      "execution_count": null,
      "outputs": [
        {
          "output_type": "stream",
          "text": [
            "Epoch: 0, Accuracy: 0.7430555554433057, Train loss: 1.0688315022109758, Valid loss: 0.7055256017701124\n",
            "Epoch: 1, Accuracy: 0.8079684558561293, Train loss: 0.7431315570606032, Valid loss: 0.5353826397800715\n",
            "Epoch: 2, Accuracy: 0.8084392655367232, Train loss: 0.6888819739875901, Valid loss: 0.5310822315988312\n",
            "Epoch: 3, Accuracy: 0.8134416196979372, Train loss: 0.7471053730143179, Valid loss: 0.5340752981423994\n",
            "Epoch: 4, Accuracy: 0.8332744819969781, Train loss: 0.657041524643608, Valid loss: 0.5323506511926989\n",
            "Epoch: 5, Accuracy: 0.8149717514124294, Train loss: 0.6781770712584047, Valid loss: 0.5435106277550127\n",
            "Epoch: 6, Accuracy: 0.7670080038787281, Train loss: 0.6510141540787682, Valid loss: 0.6216956145608273\n",
            "Epoch: 7, Accuracy: 0.8274482108105374, Train loss: 0.6100321355179648, Valid loss: 0.508898572503593\n",
            "Epoch: 8, Accuracy: 0.8415136535962423, Train loss: 0.6475128087161117, Valid loss: 0.46230853590297566\n",
            "Epoch: 9, Accuracy: 0.8325682673077125, Train loss: 0.6031235681564838, Valid loss: 0.5084887807490633\n",
            "Epoch: 10, Accuracy: 0.840042372881356, Train loss: 0.6162550887343232, Valid loss: 0.46739244954252174\n",
            "Epoch: 11, Accuracy: 0.8406897362342662, Train loss: 0.5824608840733303, Valid loss: 0.48318304941374307\n",
            "Epoch: 12, Accuracy: 0.817973163841808, Train loss: 0.5931060709997148, Valid loss: 0.5053445354757417\n",
            "Epoch: 13, Accuracy: 0.8413959509235317, Train loss: 0.5935918102844433, Valid loss: 0.44144615459307246\n",
            "Epoch: 14, Accuracy: 0.8353342750651688, Train loss: 0.5681553042086719, Valid loss: 0.4683500547199135\n",
            "Epoch: 15, Accuracy: 0.8456332390591249, Train loss: 0.5995912151424349, Valid loss: 0.4364180632325514\n",
            "Epoch: 16, Accuracy: 0.8432791903194061, Train loss: 0.5799293867938083, Valid loss: 0.4200312566049028\n",
            "Epoch: 17, Accuracy: 0.825388418079096, Train loss: 0.5954697422546241, Valid loss: 0.48346346365933374\n",
            "Epoch: 18, Accuracy: 0.8282721281725135, Train loss: 0.5916441900726761, Valid loss: 0.49109109266643985\n",
            "Epoch: 19, Accuracy: 0.8502236345393509, Train loss: 0.5615260430323183, Valid loss: 0.4245158017967344\n",
            "Epoch: 20, Accuracy: 0.8430437853107344, Train loss: 0.5812653465857769, Valid loss: 0.473160353058467\n",
            "Epoch: 21, Accuracy: 0.8252118644067796, Train loss: 0.5646620940791162, Valid loss: 0.48910175712813414\n",
            "Epoch: 22, Accuracy: 0.8574034841047169, Train loss: 0.5460382436930374, Valid loss: 0.4091587839529572\n",
            "Epoch: 23, Accuracy: 0.867231638418079, Train loss: 0.5577701981030563, Valid loss: 0.417839515917372\n",
            "Epoch: 24, Accuracy: 0.8655838040308764, Train loss: 0.5710240145552445, Valid loss: 0.39794582265522727\n",
            "Epoch: 25, Accuracy: 0.8699387948391801, Train loss: 0.5315453059433879, Valid loss: 0.38899087296769846\n",
            "Epoch: 26, Accuracy: 0.8634651599630798, Train loss: 0.5395307359634733, Valid loss: 0.3890211204491039\n",
            "Epoch: 27, Accuracy: 0.8614642185679937, Train loss: 0.542117715261276, Valid loss: 0.41812857635624845\n",
            "Epoch: 28, Accuracy: 0.846457156421101, Train loss: 0.570141656016022, Valid loss: 0.44632138587966497\n",
            "Epoch: 29, Accuracy: 0.8322151599630798, Train loss: 0.5525794466786202, Valid loss: 0.4547653501534563\n",
            "Epoch: 30, Accuracy: 0.8594044254998029, Train loss: 0.5415489395403289, Valid loss: 0.40669474623243745\n",
            "Epoch: 31, Accuracy: 0.86670197740113, Train loss: 0.5607614316562615, Valid loss: 0.3810789028480333\n",
            "Epoch: 32, Accuracy: 0.8313912429378532, Train loss: 0.5552596185762103, Valid loss: 0.4629221097414699\n",
            "Epoch: 33, Accuracy: 0.8546374763472605, Train loss: 0.5344794464246219, Valid loss: 0.4243332723832704\n",
            "Epoch: 34, Accuracy: 0.8740583803020628, Train loss: 0.5374407772464833, Valid loss: 0.3834465052273857\n",
            "Epoch: 35, Accuracy: 0.8432203389830508, Train loss: 0.5161405900411592, Valid loss: 0.4329727706321564\n",
            "Epoch: 36, Accuracy: 0.8596986818448299, Train loss: 0.5459116366830202, Valid loss: 0.3938235706074066\n",
            "Epoch: 37, Accuracy: 0.8733521656127973, Train loss: 0.5624555762451474, Valid loss: 0.3911494739364195\n",
            "Epoch: 38, Accuracy: 0.8641125236527395, Train loss: 0.5586436003910265, Valid loss: 0.4010168384797502\n",
            "Epoch: 39, Accuracy: 0.8490466101694916, Train loss: 0.5532827276994686, Valid loss: 0.4340846266971619\n",
            "Epoch: 40, Accuracy: 0.8550494350282486, Train loss: 0.5473464965145861, Valid loss: 0.43126968619752215\n",
            "Epoch: 41, Accuracy: 0.8738818266297464, Train loss: 0.5319747070780569, Valid loss: 0.3982636102566119\n",
            "Epoch: 42, Accuracy: 0.8581685497935883, Train loss: 0.5225887371930577, Valid loss: 0.3989958235153552\n",
            "Epoch: 43, Accuracy: 0.872292843578899, Train loss: 0.518901604489862, Valid loss: 0.3805477312822659\n",
            "Epoch: 44, Accuracy: 0.8630532016188411, Train loss: 0.5329031822873646, Valid loss: 0.3791983661464451\n",
            "Epoch: 45, Accuracy: 0.8737641242937854, Train loss: 0.5327145944558916, Valid loss: 0.3654543775986074\n",
            "Epoch: 46, Accuracy: 0.8302730695675995, Train loss: 0.5296827273119289, Valid loss: 0.4872958213275317\n",
            "Epoch: 47, Accuracy: 0.8576388887766391, Train loss: 0.5439385393215541, Valid loss: 0.39779294044032293\n",
            "Epoch: 48, Accuracy: 0.8698799435028248, Train loss: 0.5257905834635043, Valid loss: 0.37397067956073154\n",
            "Epoch: 49, Accuracy: 0.8643479283246617, Train loss: 0.5573912547872293, Valid loss: 0.4066104353254047\n"
          ],
          "name": "stdout"
        }
      ]
    },
    {
      "cell_type": "code",
      "metadata": {
        "id": "6HkYpZqb6qu0",
        "colab": {
          "base_uri": "https://localhost:8080/"
        },
        "outputId": "f9029bd2-57df-438c-dcdd-5c8ec6e5d1c3"
      },
      "source": [
        "listdir()"
      ],
      "execution_count": null,
      "outputs": [
        {
          "output_type": "execute_result",
          "data": {
            "text/plain": [
              "['.config', 'drive', 'sample_data']"
            ]
          },
          "metadata": {
            "tags": []
          },
          "execution_count": 19
        }
      ]
    },
    {
      "cell_type": "code",
      "metadata": {
        "id": "w_EThHRCkelO",
        "colab": {
          "base_uri": "https://localhost:8080/",
          "height": 299
        },
        "outputId": "8b19971b-f133-4f9c-b485-1bbd24217a1a"
      },
      "source": [
        "epochs = range(1, len(train_accuracy) + 1)\n",
        "\n",
        "#plotting the loss \n",
        "plt.plot(epochs, train_loss_list, label = 'Training Loss')\n",
        "plt.plot(epochs, val_loss_list, label = 'Validation Loss')\n",
        "plt.xlabel('Epoch')\n",
        "plt.ylabel('Loss')\n",
        "plt.legend()"
      ],
      "execution_count": null,
      "outputs": [
        {
          "output_type": "execute_result",
          "data": {
            "text/plain": [
              "<matplotlib.legend.Legend at 0x7ffb562bf240>"
            ]
          },
          "metadata": {
            "tags": []
          },
          "execution_count": 21
        },
        {
          "output_type": "display_data",
          "data": {
            "image/png": "[encoded data removed]",
            "text/plain": [
              "<Figure size 432x288 with 1 Axes>"
            ]
          },
          "metadata": {
            "tags": [],
            "needs_background": "light"
          }
        }
      ]
    },
    {
      "cell_type": "markdown",
      "metadata": {
        "id": "4GOrDUTcOBZ3"
      },
      "source": [
        "## Results\r\n",
        "\r\n",
        "The model performs extremely well on the validation data with a loss of approximately 0.39 over only 50 epochs. It also hovers around 86 to 89% accuracy over the entire training time. \r\n",
        "\r\n",
        "### NOTE:\r\n",
        "\r\n",
        "The model runs and runs well. However, I did not save the different loss values and accuracy values. The notebook restarted after some time and all of that information was cleared from RAM. So all I have is this graph above. I could try running it again, but the time it would take would be too much and I would like to submit this and move on. I will "
      ]
    },
    {
      "cell_type": "code",
      "metadata": {
        "id": "aunRChkhr92x"
      },
      "source": [
        "# Saving the model for later use (This ends the nightmare of having to train again)\r\n",
        "saved_parameters = torch.save(model.state_dict(), 'drive/MyDrive/Colab Notebooks/cassava-disease/modelstate-final.pth')\r\n",
        "saved_model = torch.save(model, 'drive/MyDrive/Colab Notebooks/cassava-disease/model-final.pth')\r\n"
      ],
      "execution_count": null,
      "outputs": []
    }
  ]
}